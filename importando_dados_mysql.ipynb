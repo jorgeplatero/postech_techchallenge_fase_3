{
 "cells": [
  {
   "cell_type": "code",
   "execution_count": 1,
   "metadata": {},
   "outputs": [
    {
     "name": "stderr",
     "output_type": "stream",
     "text": [
      "c:\\Users\\Mateus Albuquerque\\AppData\\Local\\Programs\\Python\\Python310\\lib\\site-packages\\numpy\\_distributor_init.py:30: UserWarning: loaded more than 1 DLL from .libs:\n",
      "c:\\Users\\Mateus Albuquerque\\AppData\\Local\\Programs\\Python\\Python310\\lib\\site-packages\\numpy\\.libs\\libopenblas64__v0.3.21-gcc_10_3_0.dll\n",
      "c:\\Users\\Mateus Albuquerque\\AppData\\Local\\Programs\\Python\\Python310\\lib\\site-packages\\numpy\\.libs\\libopenblas64__v0.3.23-246-g3d31191b-gcc_10_3_0.dll\n",
      "  warnings.warn(\"loaded more than 1 DLL from .libs:\"\n"
     ]
    }
   ],
   "source": [
    "from sqlalchemy import create_engine\n",
    "from sqlalchemy.sql import text\n",
    "import pandas as pd"
   ]
  },
  {
   "cell_type": "code",
   "execution_count": 3,
   "metadata": {},
   "outputs": [],
   "source": [
    "def mysql_connection(host, user, passwd, database=None):\n",
    "    engine = create_engine(f'mysql+pymysql://{user}:{passwd}@{host}/{database}')\n",
    "    return engine.connect()\n",
    "\n",
    "mysql = mysql_connection('127.0.0.1', 'root', '<senha>', 'pnad_covid')"
   ]
  },
  {
   "cell_type": "code",
   "execution_count": null,
   "metadata": {},
   "outputs": [],
   "source": [
    "df = pd.read_csv('arquivo1.csv')\n",
    "df.to_sql('dados_covid', mysql, if_exists='append', index=False)\n",
    "mysql.execute(text('COMMIT'))\n",
    "\n",
    "df = pd.read_csv('arquivo2.csv')\n",
    "df.to_sql('dados_covid', mysql, if_exists='append', index=False)\n",
    "mysql.execute(text('COMMIT'))\n",
    "\n",
    "df = pd.read_csv('arquivo3.csv')\n",
    "df.to_sql('dados_covid', mysql, if_exists='append', index=False)\n",
    "mysql.execute(text('COMMIT'))\n",
    "\n",
    "df = pd.read_csv('arquivo4.csv')\n",
    "df.to_sql('dados_covid', mysql, if_exists='append', index=False)\n",
    "mysql.execute(text('COMMIT'))\n",
    "\n",
    "df = pd.read_csv('arquivo5.csv')\n",
    "df.to_sql('dados_covid', mysql, if_exists='append', index=False)\n",
    "mysql.execute(text('COMMIT'))"
   ]
  }
 ],
 "metadata": {
  "kernelspec": {
   "display_name": "Python 3",
   "language": "python",
   "name": "python3"
  },
  "language_info": {
   "codemirror_mode": {
    "name": "ipython",
    "version": 3
   },
   "file_extension": ".py",
   "mimetype": "text/x-python",
   "name": "python",
   "nbconvert_exporter": "python",
   "pygments_lexer": "ipython3",
   "version": "3.10.1"
  }
 },
 "nbformat": 4,
 "nbformat_minor": 2
}
