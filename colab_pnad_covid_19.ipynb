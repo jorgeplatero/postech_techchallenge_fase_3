{
  "cells": [
    {
      "cell_type": "markdown",
      "metadata": {
        "id": "lb2FmnYKHejE"
      },
      "source": [
        "# O PROBLEMA\n",
        "\n",
        "Imagine agora que você foi contratado(a) como Expert em Data Analytics por um grande hospital para entender como foi o comportamento da população na época da pandemia da COVID-19 e quais indicadores seriam importantes para o planejamento, caso haja um novo surto da doença.\n",
        "\n",
        "Apesar de ser contratado(a) agora, a sua área observou que a utilização do estudo do PNAD-COVID-19 do IBGE seria uma ótima base para termos boas respostas ao problema proposto, pois são dados confiáveis. Porém, não será necessário utilizar todas as perguntas realizadas na pesquisa para enxergar todas as oportunidades ali postas.\n",
        "\n",
        "É sempre bom ressaltar que há dados triviais que precisam estar no projeto, pois auxiliam muito na análise dos dados:\n",
        "\n",
        "## PNAD-COVID-19 do IBGE\n",
        "\n",
        "O Head de Dados pediu para que você entrasse na base de dados do PNAD-COVID-19 do IBGE e organizasse esta base para análise, utilizando Banco de Dados em Nuvem e trazendo as seguintes características:\n",
        "\n",
        "- a. Utilização de no máximo 20 questionamentos realizados na pesquisa;\n",
        "- b. Utilizar 3 meses para construção da solução;\n",
        "- c. Caracterização dos sintomas clínicos da população;\n",
        "- d. Comportamento da população na época da COVID-19;\n",
        "- e. Características econômicas da Sociedade;\n",
        "\n",
        "Seu objetivo será trazer uma breve análise dessas informações, como foi a organização do banco, as perguntas selecionadas para a resposta do problema e quais seriam as principais ações que o hospital deverá tomar em caso de um novo surto de COVID-19.\n",
        "\n",
        "- Dica: Leiam com atenção a base de dados e toda a documentação que o site o PNAD-COVID-19 traz, principalmente os dicionários, que ajudam e muito no entendimento da Base de Dados.\n",
        "- Dica 2: Utilizem o que já foi ensinado e consolidado nas outras fases para apresentar a resolução do projeto.\n",
        "\n",
        "Lembre-se de que você poderá apresentar o desenvolvimento do seu projeto durante as lives com docentes. Essa é uma boa oportunidade para discutir sobre as dificuldades encontradas e pegar dicas valiosas com especialistas e colegas de turma.\n",
        "\n",
        "Link para a base: https://covid19.ibge.gov.br/pnad-covid/\n",
        "\n",
        "Outras fontes:\n",
        "\n",
        "https://www.gov.br/saude/pt-br/assuntos/noticias/2021/janeiro/entenda-a-ordem-de-vacinacao-contra-a-covid-19-entre-os-grupos-prioritarios\n",
        "\n",
        "https://www.gov.br/saude/pt-br/assuntos/coronavirus/vacinas/esquemas-vacinais"
      ]
    },
    {
      "cell_type": "markdown",
      "metadata": {
        "id": "vkAlBNGjAa7d"
      },
      "source": [
        "### Instalando dependências e bibliotecas"
      ]
    },
    {
      "cell_type": "code",
      "execution_count": null,
      "metadata": {
        "id": "h8uTb07zIzCd"
      },
      "outputs": [],
      "source": [
        "'''!apt-get update -qq\n",
        "!apt-get install openjdk-8-jdk-headless -qq > /dev/null #instalando java 8\n",
        "!wget -q https://archive.apache.org/dist/spark/spark-3.1.2/spark-3.1.2-bin-hadoop2.7.tgz #baixando Spark\n",
        "!tar xf spark-3.1.2-bin-hadoop2.7.tgz #descompactando Spark\n",
        "!pip install -q findspark'''"
      ]
    },
    {
      "cell_type": "markdown",
      "metadata": {
        "id": "gK0KW5xoHejI"
      },
      "source": [
        "### Importando bibliotecas"
      ]
    },
    {
      "cell_type": "code",
      "execution_count": null,
      "metadata": {},
      "outputs": [],
      "source": [
        "import warnings\n",
        "warnings.filterwarnings(action = 'ignore')"
      ]
    },
    {
      "cell_type": "code",
      "execution_count": null,
      "metadata": {
        "id": "Rz01tX8fI4Zt"
      },
      "outputs": [],
      "source": [
        "import os\n",
        "\n",
        "\n",
        "os.environ['JAVA_HOME'] = '/usr/lib/jvm/java-8-openjdk-amd64'\n",
        "os.environ['SPARK_HOME'] = '/content/spark-3.1.2-bin-hadoop2.7'"
      ]
    },
    {
      "cell_type": "code",
      "execution_count": null,
      "metadata": {},
      "outputs": [],
      "source": [
        "import findspark\n",
        "\n",
        "findspark.init()"
      ]
    },
    {
      "cell_type": "code",
      "execution_count": null,
      "metadata": {
        "id": "MYZsHfdiHejJ"
      },
      "outputs": [],
      "source": [
        "#bibliotecas dataviz\n",
        "import pandas as pd\n",
        "import polars as pl\n",
        "import plotly.express as px\n",
        "import plotly.graph_objects as go"
      ]
    },
    {
      "cell_type": "markdown",
      "metadata": {
        "id": "hSdn5phMHejN"
      },
      "source": [
        "### Criando sessão Spark"
      ]
    },
    {
      "cell_type": "code",
      "execution_count": null,
      "metadata": {},
      "outputs": [],
      "source": [
        "import findspark\n",
        "\n",
        "\n",
        "findspark.init()"
      ]
    },
    {
      "cell_type": "code",
      "execution_count": 15,
      "metadata": {
        "id": "TsFwJor3KPk4"
      },
      "outputs": [],
      "source": [
        "from pyspark.sql import SparkSession\n",
        "\n",
        "\n",
        "spark = SparkSession.builder.master('local[*]').appName('Iniciando com Spark').getOrCreate()"
      ]
    },
    {
      "cell_type": "code",
      "execution_count": 16,
      "metadata": {
        "colab": {
          "base_uri": "https://localhost:8080/",
          "height": 222
        },
        "id": "OV66lOSAI_sY",
        "outputId": "211b617b-f0e5-475d-baea-712c14d7b276"
      },
      "outputs": [
        {
          "data": {
            "text/html": [
              "\n",
              "            <div>\n",
              "                <p><b>SparkSession - in-memory</b></p>\n",
              "                \n",
              "        <div>\n",
              "            <p><b>SparkContext</b></p>\n",
              "\n",
              "            <p><a href=\"http://a36c418eaadc:4040\">Spark UI</a></p>\n",
              "\n",
              "            <dl>\n",
              "              <dt>Version</dt>\n",
              "                <dd><code>v3.1.2</code></dd>\n",
              "              <dt>Master</dt>\n",
              "                <dd><code>local[*]</code></dd>\n",
              "              <dt>AppName</dt>\n",
              "                <dd><code>Iniciando com Spark</code></dd>\n",
              "            </dl>\n",
              "        </div>\n",
              "        \n",
              "            </div>\n",
              "        "
            ],
            "text/plain": [
              "<pyspark.sql.session.SparkSession at 0x783585c23e20>"
            ]
          },
          "execution_count": 16,
          "metadata": {},
          "output_type": "execute_result"
        }
      ],
      "source": [
        "spark"
      ]
    },
    {
      "cell_type": "markdown",
      "metadata": {
        "id": "CjrkF6HhHejO"
      },
      "source": [
        "### Importando dados"
      ]
    },
    {
      "cell_type": "code",
      "execution_count": 17,
      "metadata": {
        "colab": {
          "base_uri": "https://localhost:8080/"
        },
        "id": "75Jqm1S6JMLB",
        "outputId": "7f0ee797-31ea-43d4-997f-473b24f80413"
      },
      "outputs": [
        {
          "name": "stdout",
          "output_type": "stream",
          "text": [
            "Mounted at /content/drive\n"
          ]
        }
      ],
      "source": [
        "from google.colab import drive\n",
        "\n",
        "\n",
        "drive.mount('/content/drive')"
      ]
    },
    {
      "cell_type": "code",
      "execution_count": 24,
      "metadata": {
        "id": "CLm4NqeGJTVb"
      },
      "outputs": [],
      "source": [
        "import zipfile\n",
        "\n",
        "#descompactando arquivo zip no drive para caminho especificado\n",
        "zipfile.ZipFile('/content/drive/MyDrive/cursos/postech/postech_techchallenge_fase_3/dados/2023-10-27_pnad_covid_view.zip', 'r').extractall('/content/drive/MyDrive/cursos/postech/postech_techchallenge_fase_3/dados') #"
      ]
    },
    {
      "cell_type": "code",
      "execution_count": 55,
      "metadata": {
        "id": "DEhwvhOjLAMz"
      },
      "outputs": [],
      "source": [
        "path = '/content/drive/MyDrive/cursos/postech/postech_techchallenge_fase_3/dados/2023-11-01_pnad_covid_view.csv' #caminho do arquivo descompactado\n",
        "df = spark.read.csv(path, sep=',', inferSchema=True, header=True)"
      ]
    },
    {
      "cell_type": "code",
      "execution_count": 71,
      "metadata": {
        "colab": {
          "base_uri": "https://localhost:8080/"
        },
        "id": "KZOtomA_sWZX",
        "outputId": "6ad60178-d8d8-4034-a647-a75890b868f8"
      },
      "outputs": [
        {
          "name": "stdout",
          "output_type": "stream",
          "text": [
            "2650459 530091\n"
          ]
        }
      ],
      "source": [
        "df.show(5)"
      ]
    },
    {
      "cell_type": "code",
      "execution_count": null,
      "metadata": {},
      "outputs": [],
      "source": [
        "df.printSchema()"
      ]
    },
    {
      "cell_type": "markdown",
      "metadata": {},
      "source": [
        "### Análise exploratória"
      ]
    },
    {
      "cell_type": "code",
      "execution_count": null,
      "metadata": {
        "id": "cagbEALRpX6G"
      },
      "outputs": [],
      "source": [
        "df_temp = df.createOrReplaceTempView('df_temp') #criando tabela temporária na sessão Spark SQL"
      ]
    },
    {
      "cell_type": "markdown",
      "metadata": {
        "id": "l4-zuh75pX3h"
      },
      "source": [
        "#### **<p style='color:gray'> Comportamento dos entrevistados em relação a busca por cuidados médicos</p>**"
      ]
    },
    {
      "cell_type": "markdown",
      "metadata": {
        "id": "Ei0DaYdopX0Z"
      },
      "source": [
        "**Qual foi a quantidade de infectados que buscou atendimento médico?**"
      ]
    },
    {
      "cell_type": "code",
      "execution_count": null,
      "metadata": {
        "id": "4ovV-y6YpXvR"
      },
      "outputs": [],
      "source": [
        "df_testes_positivos_estabelecimento_saude = spark.sql(\n",
        "\n",
        "'''\n",
        "    SELECT\n",
        "        count(resultado_teste) AS qtd_testes_positivos,\n",
        "        CASE\n",
        "        WHEN questao_estabelecimento_saude = 'Sim' THEN 'Buscou atendimento'\n",
        "        WHEN questao_estabelecimento_saude = 'Não' THEN 'Não buscou atendimento'\n",
        "        WHEN questao_estabelecimento_saude = 'Ignorado' THEN 'Ignorado'\n",
        "        ELSE 'Não aplicável'\n",
        "        END AS estabelecimento_saude\n",
        "    from df_temp\n",
        "    WHERE resultado_teste = 'Positivo'\n",
        "    GROUP BY estabelecimento_saude\n",
        "\n",
        "'''\n",
        ").toPandas()\n",
        "\n",
        "fig = px.bar(\n",
        "    data_frame = df_testes_positivos_estabelecimento_saude,\n",
        "    x = 'estabelecimento_saude',\n",
        "    y = 'qtd_testes_positivos',\n",
        "    color= 'estabelecimento_saude',\n",
        "    color_discrete_sequence=px.colors.sequential.Reds_r,\n",
        "    labels={\n",
        "        'qtd_testes_positivos': 'Quantidade',\n",
        "        'estabelecimento_saude': 'Comportamento'\n",
        "    }\n",
        ")\n",
        "\n",
        "fig.update_layout(\n",
        "    title='<b>Pessoas que buscaram atendimento</b>',\n",
        "    xaxis_title='Comportamento',\n",
        "    yaxis_title='Quantidade',\n",
        "    showlegend=False,\n",
        "    width=800,\n",
        "    height=600\n",
        ")\n",
        "\n",
        "fig.show()"
      ]
    },
    {
      "cell_type": "markdown",
      "metadata": {
        "id": "8PeNR52WpXn1"
      },
      "source": [
        "#### **<p style='color:gray'> Comportamento dos entrevistados em relação a medidas de isolamento social</p>**"
      ]
    },
    {
      "cell_type": "markdown",
      "metadata": {},
      "source": [
        "**Qual é a porcetagem de pacientes sintomáticos que efetuou medida de isolamento social?**"
      ]
    },
    {
      "cell_type": "code",
      "execution_count": null,
      "metadata": {},
      "outputs": [],
      "source": [
        "dicionario = {'Sim': 'Sim', 'Não': 'Não', 'Não aplicável': 'Não', 'Ignorado': 'Não'}\n",
        "\n",
        "df_sintomaticos_permaneceu_casa = spark.sql(\n",
        "    '''\n",
        "        SELECT questao_permaneceu_casa, count(sintoma_covid) as qtd_sintomaticos\n",
        "        FROM df_temp \n",
        "        WHERE sintoma_covid = 'Sim'\n",
        "        GROUP BY questao_permaneceu_casa\n",
        "    '''\n",
        ").toPandas()\n",
        "\n",
        "df_sintomaticos_permaneceu_casa['questao_permaneceu_casa'] = df_sintomaticos_permaneceu_casa['questao_permaneceu_casa'].map(dicionario)\n",
        "\n",
        "fig = px.pie(\n",
        "    data_frame=df_sintomaticos_permaneceu_casa, \n",
        "    values = 'qtd_sintomaticos', \n",
        "    names = 'questao_permaneceu_casa',\n",
        "    color_discrete_sequence=px.colors.sequential.Reds_r,\n",
        "    labels={'\n",
        "        'qtd_sintomaticos': 'Quantidade',\n",
        "        'questao_permaneceu_casa': 'Isolamento'\n",
        "    }\n",
        ")\n",
        "\n",
        "fig.update_layout(\n",
        "    title='<b>Porcentagem de pacientes sintomáticos que adotaram medida de isolamento social</b>',\n",
        "    legend_title='Legenda',\n",
        "    width=800, \n",
        "    height=600\n",
        ")\n",
        "\n",
        "fig.show()"
      ]
    },
    {
      "cell_type": "markdown",
      "metadata": {},
      "source": [
        "**Qual é a porcetagem de pacientes sintomáticos que efetuou medida de isolamento social por região?**"
      ]
    },
    {
      "cell_type": "code",
      "execution_count": null,
      "metadata": {},
      "outputs": [],
      "source": [
        "df_sintomaticos_total_permaneceu_casa_regiao = spark.sql(\n",
        "    '''\n",
        "        SELECT regiao, count(sintoma_covid) as qtd_sintomaticos_total\n",
        "        FROM df_temp \n",
        "        WHERE sintoma_covid = 'Sim'\n",
        "        GROUP BY regiao\n",
        "    '''\n",
        ").toPandas()\n",
        "\n",
        "df_sintomaticos_isolamento_permaneceu_casa_regiao = spark.sql(\n",
        "    '''\n",
        "        SELECT regiao, questao_permaneceu_casa, count(sintoma_covid) as qtd_sintomaticos_isolamento\n",
        "        FROM df_temp \n",
        "        WHERE sintoma_covid = 'Sim' AND questao_permaneceu_casa = 'Sim'\n",
        "        GROUP BY regiao, questao_permaneceu_casa\n",
        "    '''\n",
        ").toPandas()\n",
        "\n",
        "df_permaneceu_casa_regiao = pd.merge(df_sintomaticos_total_permaneceu_casa_regiao, df_sintomaticos_isolamento_permaneceu_casa_regiao, on='regiao')\n",
        "df_permaneceu_casa_regiao['percentual_sintomaticos_permaneceu_casa'] = ((df_permaneceu_casa_regiao.qtd_sintomaticos_isolamento / df_permaneceu_casa_regiao.qtd_sintomaticos_total) * 100).round(decimals=2)\n",
        "\n",
        "fig = px.pie(\n",
        "    data_frame=df_permaneceu_casa_regiao, \n",
        "    values = 'percentual_sintomaticos_permaneceu_casa', \n",
        "    names = 'regiao',\n",
        "    color_discrete_sequence=px.colors.sequential.Reds_r,\n",
        "    labels={\n",
        "        'percentual_sintomaticos_permaneceu_casa': 'Percentual de pacientes sintomáticos que adotaram medida de isolamento social',\n",
        "        'regiao': 'Região'\n",
        "    }\n",
        ")\n",
        "\n",
        "fig.update_layout(\n",
        "    title='<b>Porcentagem de pacientes sintomáticos que adotaram medida de isolamento social por região</b>',\n",
        "    legend_title='Legenda',\n",
        "    width=1000, \n",
        "    height=600\n",
        ")\n",
        "\n",
        "fig.show()"
      ]
    },
    {
      "cell_type": "markdown",
      "metadata": {},
      "source": [
        "**Qual é a porcetagem de pacientes sintomáticos que efetuou medida de isolamento social por estado?**"
      ]
    },
    {
      "cell_type": "code",
      "execution_count": null,
      "metadata": {},
      "outputs": [],
      "source": [
        "df_sintomaticos_total_permaneceu_casa_estado = spark.sql(\n",
        "    '''\n",
        "        SELECT uf, count(sintoma_covid) as qtd_sintomaticos_total\n",
        "        FROM df_temp \n",
        "        WHERE sintoma_covid = 'Sim'\n",
        "        GROUP BY uf\n",
        "    '''\n",
        ").toPandas()\n",
        "\n",
        "df_sintomaticos_isolamento_permaneceu_casa_estado = spark.sql(\n",
        "    '''\n",
        "        SELECT uf, questao_permaneceu_casa, count(sintoma_covid) as qtd_sintomaticos_isolamento\n",
        "        FROM df_temp \n",
        "        WHERE sintoma_covid = 'Sim' AND questao_permaneceu_casa = 'Sim'\n",
        "        GROUP BY uf, questao_permaneceu_casa\n",
        "    '''\n",
        ").toPandas()\n",
        "\n",
        "df_permaneceu_casa_estado = pd.merge(df_sintomaticos_total_permaneceu_casa_estado, df_sintomaticos_isolamento_permaneceu_casa_estado, on='uf')\n",
        "df_permaneceu_casa_estado['percentual_sintomaticos_permaneceu_casa'] = ((df_permaneceu_casa_estado.qtd_sintomaticos_isolamento / df_permaneceu_casa_estado.qtd_sintomaticos_total) * 100).round(decimals=2)\n",
        "\n",
        "fig = px.bar(\n",
        "    data_frame=df_permaneceu_casa_estado.sort_values('percentual_sintomaticos_permaneceu_casa', ascending=False), \n",
        "    x='uf',\n",
        "    y='percentual_sintomaticos_permaneceu_casa',\n",
        "    color='uf',\n",
        "    color_discrete_sequence=['#8B0000'],\n",
        "    labels={\n",
        "        'percentual_sintomaticos_permaneceu_casa': 'Percentual de pacientes sintomáticos que adotaram medida de isolamento social',\n",
        "        'uf': 'Estado'\n",
        "    }\n",
        ")\n",
        "\n",
        "fig.update_layout(\n",
        "    title='<b>Porcentagem de pacientes sintomáticos que adotaram medida de isolamento social por estado</b>',\n",
        "    yaxis_title='%',\n",
        "    showlegend=False,\n",
        "    width=1000, \n",
        "    height=600\n",
        ")\n",
        "\n",
        "fig.show()"
      ]
    },
    {
      "cell_type": "code",
      "execution_count": null,
      "metadata": {},
      "outputs": [],
      "source": []
    },
    {
      "cell_type": "code",
      "execution_count": null,
      "metadata": {},
      "outputs": [],
      "source": []
    },
    {
      "cell_type": "code",
      "execution_count": null,
      "metadata": {},
      "outputs": [],
      "source": []
    }
  ],
  "metadata": {
    "colab": {
      "provenance": []
    },
    "kernelspec": {
      "display_name": ".env",
      "language": "python",
      "name": "python3"
    },
    "language_info": {
      "codemirror_mode": {
        "name": "ipython",
        "version": 3
      },
      "file_extension": ".py",
      "mimetype": "text/x-python",
      "name": "python",
      "nbconvert_exporter": "python",
      "pygments_lexer": "ipython3",
      "version": "3.8.10"
    },
    "orig_nbformat": 4
  },
  "nbformat": 4,
  "nbformat_minor": 0
}
