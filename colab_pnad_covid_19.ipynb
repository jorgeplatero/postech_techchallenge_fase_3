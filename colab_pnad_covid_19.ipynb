{
  "cells": [
    {
      "cell_type": "markdown",
      "metadata": {
        "id": "lb2FmnYKHejE"
      },
      "source": [
        "# O PROBLEMA\n",
        "\n",
        "Imagine agora que você foi contratado(a) como Expert em Data Analytics por um grande hospital para entender como foi o comportamento da população na época da pandemia da COVID-19 e quais indicadores seriam importantes para o planejamento, caso haja um novo surto da doença.\n",
        "\n",
        "Apesar de ser contratado(a) agora, a sua área observou que a utilização do estudo do PNAD-COVID 19 do IBGE seria uma ótima base para termos boas respostas ao problema proposto, pois são dados confiáveis. Porém, não será necessário utilizar todas as perguntas realizadas na pesquisa para enxergar todas as oportunidades ali postas.\n",
        "\n",
        "É sempre bom ressaltar que há dados triviais que precisam estar no projeto, pois auxiliam muito na análise dos dados:\n",
        "\n",
        "## PNAD-COVID-19 do IBGE\n",
        "\n",
        "O Head de Dados pediu para que você entrasse na base de dados do PNAD-COVID-19 do IBGE e organizasse esta base para análise, utilizando Banco de Dados em Nuvem e trazendo as seguintes características:\n",
        "\n",
        "- a. Utilização de no máximo 20 questionamentos realizados na pesquisa;\n",
        "- b. Utilizar 3 meses para construção da solução;\n",
        "- c. Caracterização dos sintomas clínicos da população;\n",
        "- d. Comportamento da população na época da COVID-19;\n",
        "- e. Características econômicas da Sociedade;\n",
        "\n",
        "Seu objetivo será trazer uma breve análise dessas informações, como foi a organização do banco, as perguntas selecionadas para a resposta do problema e quais seriam as principais ações que o hospital deverá tomar em caso de um novo surto de COVID-19.\n",
        "\n",
        "- Dica: Leiam com atenção a base de dados e toda a documentação que o site o PNAD – Covid19 traz, principalmente os dicionários, que ajudam e muito no entendimento da Base de Dados.\n",
        "- Dica 2: Utilizem o que já foi ensinado e consolidado nas outras fases para apresentar a resolução do projeto.\n",
        "\n",
        "Lembre-se de que você poderá apresentar o desenvolvimento do seu projeto durante as lives com docentes. Essa é uma boa oportunidade para discutir sobre as dificuldades encontradas e pegar dicas valiosas com especialistas e colegas de turma.\n",
        "\n",
        "Link para a base: https://www.ibge.gov.br/estatisticas/investigacoes-experimentais/estatisticas-experimentais/27946-divulgacao-semanal-pnadcovid1?t=downloads&utm_source=covid19&utm_medium=hotsite&utm_campaign=covid_19\n",
        "\n",
        "Outras fontes:\n",
        "\n",
        "https://www.gov.br/saude/pt-br/assuntos/noticias/2021/janeiro/entenda-a-ordem-de-vacinacao-contra-a-covid-19-entre-os-grupos-prioritarios\n",
        "\n",
        "https://www.gov.br/saude/pt-br/assuntos/coronavirus/vacinas/esquemas-vacinais"
      ]
    },
    {
      "cell_type": "markdown",
      "metadata": {
        "id": "vkAlBNGjAa7d"
      },
      "source": [
        "### Instalando dependências e bibliotecas"
      ]
    },
    {
      "cell_type": "code",
      "execution_count": null,
      "metadata": {
        "id": "h8uTb07zIzCd"
      },
      "outputs": [],
      "source": [
        "!apt-get update -qq\n",
        "!apt-get install openjdk-8-jdk-headless -qq > /dev/null #instalando java 8\n",
        "!wget -q https://archive.apache.org/dist/spark/spark-3.1.2/spark-3.1.2-bin-hadoop2.7.tgz #baixando Spark\n",
        "!tar xf spark-3.1.2-bin-hadoop2.7.tgz #descompactando Spark\n",
        "!pip install -q findspark"
      ]
    },
    {
      "cell_type": "code",
      "execution_count": null,
      "metadata": {},
      "outputs": [],
      "source": [
        "#criando arquivo requirements.txt\n",
        "'''%%writefile requirements.txt\n",
        "\n",
        "asttokens==2.4.0\n",
        "attrs==23.1.0\n",
        "backcall==0.2.0\n",
        "certifi==2023.7.22\n",
        "click==8.1.7\n",
        "click-plugins==1.1.1\n",
        "cligj==0.7.2\n",
        "comm==0.1.4\n",
        "debugpy==1.8.0\n",
        "decorator==5.1.1\n",
        "executing==2.0.0\n",
        "fastjsonschema==2.18.1\n",
        "findspark==2.0.1\n",
        "fiona==1.9.5\n",
        "geopandas==0.13.2\n",
        "greenlet==3.0.0\n",
        "importlib-metadata==6.8.0\n",
        "importlib-resources==6.1.0\n",
        "ipykernel==6.25.2\n",
        "ipython==8.12.3\n",
        "jedi==0.19.1\n",
        "jsonschema==4.19.1\n",
        "jsonschema-specifications==2023.7.1\n",
        "jupyter-client==8.4.0\n",
        "jupyter-core==5.4.0\n",
        "matplotlib-inline==0.1.6\n",
        "mysql-connector-python==8.1.0\n",
        "nbformat==5.9.2\n",
        "nest-asyncio==1.5.8\n",
        "numpy==1.24.4\n",
        "packaging==23.2\n",
        "pandas==2.0.3\n",
        "pandasql==0.7.3\n",
        "parso==0.8.3\n",
        "pexpect==4.8.0\n",
        "pickleshare==0.7.5\n",
        "pkgutil-resolve-name==1.3.10\n",
        "platformdirs==3.11.0\n",
        "plotly==5.17.0\n",
        "polars==0.19.11\n",
        "prompt-toolkit==3.0.39\n",
        "protobuf==4.21.12\n",
        "psutil==5.9.5\n",
        "ptyprocess==0.7.0\n",
        "pure-eval==0.2.2\n",
        "py4j==0.10.9.7\n",
        "Pygments==2.16.1\n",
        "PyMySQL==1.1.0\n",
        "pyproj==3.5.0\n",
        "pyspark==3.5.0\n",
        "python-dateutil==2.8.2\n",
        "pytz==2023.3.post1\n",
        "pyzmq==25.1.1\n",
        "referencing==0.30.2\n",
        "rpds-py==0.10.6\n",
        "shapely==2.0.2\n",
        "six==1.16.0\n",
        "SQLAlchemy==2.0.22\n",
        "stack-data==0.6.3\n",
        "tenacity==8.2.3\n",
        "tornado==6.3.3\n",
        "traitlets==5.11.2\n",
        "typing-extensions==4.8.0\n",
        "tzdata==2023.3\n",
        "wcwidth==0.2.8\n",
        "zipp==3.17.0'''"
      ]
    },
    {
      "cell_type": "code",
      "execution_count": null,
      "metadata": {},
      "outputs": [],
      "source": [
        "'''!pip install -r requirements.txt'''"
      ]
    },
    {
      "cell_type": "markdown",
      "metadata": {
        "id": "gK0KW5xoHejI"
      },
      "source": [
        "### Importando bibliotecas"
      ]
    },
    {
      "cell_type": "code",
      "execution_count": null,
      "metadata": {},
      "outputs": [],
      "source": [
        "import warnings\n",
        "warnings.filterwarnings(action = 'ignore')"
      ]
    },
    {
      "cell_type": "code",
      "execution_count": null,
      "metadata": {
        "id": "Rz01tX8fI4Zt"
      },
      "outputs": [],
      "source": [
        "import os\n",
        "\n",
        "\n",
        "os.environ['JAVA_HOME'] = '/usr/lib/jvm/java-8-openjdk-amd64'\n",
        "os.environ['SPARK_HOME'] = '/content/spark-3.1.2-bin-hadoop2.7'"
      ]
    },
    {
      "cell_type": "code",
      "execution_count": null,
      "metadata": {},
      "outputs": [],
      "source": [
        "import findspark\n",
        "\n",
        "findspark.init()"
      ]
    },
    {
      "cell_type": "code",
      "execution_count": null,
      "metadata": {
        "id": "MYZsHfdiHejJ"
      },
      "outputs": [],
      "source": [
        "#bibliotecas para conexão com o banco de dados\n",
        "from sqlalchemy import create_engine\n",
        "from sqlalchemy.sql import text\n",
        "\n",
        "#bibliotecas dataviz\n",
        "import pandas as pd\n",
        "import polars as pl\n",
        "import plotly.express as px\n",
        "import plotly.graph_objects as go"
      ]
    },
    {
      "cell_type": "code",
      "execution_count": null,
      "metadata": {
        "id": "76re3F24KXLD"
      },
      "outputs": [],
      "source": [
        "findspark.init()"
      ]
    },
    {
      "cell_type": "markdown",
      "metadata": {
        "id": "hSdn5phMHejN"
      },
      "source": [
        "### Criando sessão Spark"
      ]
    },
    {
      "cell_type": "code",
      "execution_count": 15,
      "metadata": {
        "id": "TsFwJor3KPk4"
      },
      "outputs": [],
      "source": [
        "from pyspark.sql import SparkSession\n",
        "\n",
        "\n",
        "spark = SparkSession.builder.master('local[*]').appName('Iniciando com Spark').getOrCreate()"
      ]
    },
    {
      "cell_type": "code",
      "execution_count": 16,
      "metadata": {
        "colab": {
          "base_uri": "https://localhost:8080/",
          "height": 222
        },
        "id": "OV66lOSAI_sY",
        "outputId": "211b617b-f0e5-475d-baea-712c14d7b276"
      },
      "outputs": [
        {
          "data": {
            "text/html": [
              "\n",
              "            <div>\n",
              "                <p><b>SparkSession - in-memory</b></p>\n",
              "                \n",
              "        <div>\n",
              "            <p><b>SparkContext</b></p>\n",
              "\n",
              "            <p><a href=\"http://a36c418eaadc:4040\">Spark UI</a></p>\n",
              "\n",
              "            <dl>\n",
              "              <dt>Version</dt>\n",
              "                <dd><code>v3.1.2</code></dd>\n",
              "              <dt>Master</dt>\n",
              "                <dd><code>local[*]</code></dd>\n",
              "              <dt>AppName</dt>\n",
              "                <dd><code>Iniciando com Spark</code></dd>\n",
              "            </dl>\n",
              "        </div>\n",
              "        \n",
              "            </div>\n",
              "        "
            ],
            "text/plain": [
              "<pyspark.sql.session.SparkSession at 0x783585c23e20>"
            ]
          },
          "execution_count": 16,
          "metadata": {},
          "output_type": "execute_result"
        }
      ],
      "source": [
        "spark"
      ]
    },
    {
      "cell_type": "markdown",
      "metadata": {
        "id": "CjrkF6HhHejO"
      },
      "source": [
        "### Importando dados"
      ]
    },
    {
      "cell_type": "code",
      "execution_count": 17,
      "metadata": {
        "colab": {
          "base_uri": "https://localhost:8080/"
        },
        "id": "75Jqm1S6JMLB",
        "outputId": "7f0ee797-31ea-43d4-997f-473b24f80413"
      },
      "outputs": [
        {
          "name": "stdout",
          "output_type": "stream",
          "text": [
            "Mounted at /content/drive\n"
          ]
        }
      ],
      "source": [
        "from google.colab import drive\n",
        "\n",
        "\n",
        "drive.mount('/content/drive')"
      ]
    },
    {
      "cell_type": "code",
      "execution_count": 24,
      "metadata": {
        "id": "CLm4NqeGJTVb"
      },
      "outputs": [],
      "source": [
        "import zipfile\n",
        "\n",
        "\n",
        "zipfile.ZipFile('/content/drive/MyDrive/cursos/postech/postech_techchallenge_fase_3/dados/2023-10-27_pnad_covid_view.zip', 'r').extractall('/content/drive/MyDrive/cursos/postech/postech_techchallenge_fase_3/dados')"
      ]
    },
    {
      "cell_type": "code",
      "execution_count": 55,
      "metadata": {
        "id": "DEhwvhOjLAMz"
      },
      "outputs": [],
      "source": [
        "path = '/content/drive/MyDrive/cursos/postech/postech_techchallenge_fase_3/dados/2023-10-27_pnad_covid_view.csv'\n",
        "df = spark.read.csv(path, sep=',', inferSchema=True, header=True)"
      ]
    },
    {
      "cell_type": "code",
      "execution_count": 71,
      "metadata": {
        "colab": {
          "base_uri": "https://localhost:8080/"
        },
        "id": "KZOtomA_sWZX",
        "outputId": "6ad60178-d8d8-4034-a647-a75890b868f8"
      },
      "outputs": [
        {
          "name": "stdout",
          "output_type": "stream",
          "text": [
            "2650459 530091\n"
          ]
        }
      ],
      "source": [
        "df.show(5)"
      ]
    },
    {
      "cell_type": "code",
      "execution_count": null,
      "metadata": {},
      "outputs": [],
      "source": [
        "df.printSchema()"
      ]
    },
    {
      "cell_type": "markdown",
      "metadata": {},
      "source": [
        "### Dicionários"
      ]
    },
    {
      "cell_type": "code",
      "execution_count": null,
      "metadata": {},
      "outputs": [],
      "source": [
        "estados = {\n",
        "    'Acre': 'AC',\n",
        "    'Alagoas': 'AL',\n",
        "    'Amapá': 'AP',\n",
        "    'Amazonas': 'AM',\n",
        "    'Bahia': 'BA',\n",
        "    'Ceará': 'CE', \n",
        "    'Distrito Federal': 'DF',\n",
        "    'Espírito Santo': 'ES',\n",
        "    'Goiás': 'GO',\n",
        "    'Maranhão': 'MA',\n",
        "    'Mato Grosso': 'MT',\n",
        "    'Mato Grosso do Sul': 'MS',\n",
        "    'Minas Gerais': 'MG',\n",
        "    'Pará': 'PA',\n",
        "    'Paraíba': 'PB',\n",
        "    'Paraná': 'PR',\n",
        "    'Pernambuco': 'PE',\n",
        "    'Piauí': 'PI', \n",
        "    'Rio de Janeiro': 'RJ',\n",
        "    'Rio Grande do Norte': 'RN',\n",
        "    'Rio Grande do Sul': 'RS',\n",
        "    'Rondônia': 'RO',\n",
        "    'Roraima': 'RR',\n",
        "    'Santa Catarina': 'SC',\n",
        "    'São Paulo': 'SP',\n",
        "    'Sergipe': 'SE',\n",
        "    'Tocantins': 'TO'\n",
        "}\n",
        "\n",
        "regioes = {\n",
        "    'AC': 'Norte',\n",
        "    'AL': 'Nordeste',\n",
        "    'AP': 'Norte',\n",
        "    'AM': 'Norte',\n",
        "    'BA': 'Nordeste',\n",
        "    'CE': 'Nordeste',\n",
        "    'DF': 'Centro-Oeste',\n",
        "    'ES': 'Sudeste',\n",
        "    'GO': 'Centro-Oeste',\n",
        "    'MA': 'Nordeste',\n",
        "    'MT': 'Centro-Oeste',\n",
        "    'MS': 'Centro-Oeste', \n",
        "    'MG': 'Sudeste',\n",
        "    'PA': 'Norte',\n",
        "    'PB': 'Nordeste',\n",
        "    'PR': 'Sul',\n",
        "    'PE': 'Nordeste',\n",
        "    'PI': 'Nordeste',\n",
        "    'RJ': 'Sudeste',\n",
        "    'RN': 'Nordeste',\n",
        "    'RS': 'Sul',\n",
        "    'RO': 'Norte',\n",
        "    'RR': 'Norte',\n",
        "    'SC': 'Sul',\n",
        "    'SP': 'Sudeste',\n",
        "    'SE': 'Nordeste',\n",
        "    'TO': 'Norte'\n",
        "}"
      ]
    },
    {
      "cell_type": "markdown",
      "metadata": {},
      "source": [
        "### Adicionando colunas"
      ]
    },
    {
      "cell_type": "code",
      "execution_count": null,
      "metadata": {},
      "outputs": [],
      "source": [
        "df = df.withColumn('sigla', df.uf).replace(to_replace=estados, subset=['sigla']) #adicionando sigla dos estados\n",
        "df = df.withColumn('regiao', df.sigla).replace(to_replace=regioes, subset=['regiao']) #adicionando regioes dos estados\n",
        "df.show(5, truncate=False)"
      ]
    },
    {
      "cell_type": "markdown",
      "metadata": {},
      "source": [
        "### Análise exploratória"
      ]
    },
    {
      "cell_type": "code",
      "execution_count": null,
      "metadata": {
        "id": "cagbEALRpX6G"
      },
      "outputs": [],
      "source": []
    },
    {
      "cell_type": "code",
      "execution_count": null,
      "metadata": {
        "id": "l4-zuh75pX3h"
      },
      "outputs": [],
      "source": []
    },
    {
      "cell_type": "code",
      "execution_count": null,
      "metadata": {
        "id": "Ei0DaYdopX0Z"
      },
      "outputs": [],
      "source": []
    },
    {
      "cell_type": "code",
      "execution_count": null,
      "metadata": {
        "id": "4ovV-y6YpXvR"
      },
      "outputs": [],
      "source": []
    },
    {
      "cell_type": "code",
      "execution_count": null,
      "metadata": {
        "id": "8PeNR52WpXn1"
      },
      "outputs": [],
      "source": []
    }
  ],
  "metadata": {
    "colab": {
      "provenance": []
    },
    "kernelspec": {
      "display_name": ".env",
      "language": "python",
      "name": "python3"
    },
    "language_info": {
      "codemirror_mode": {
        "name": "ipython",
        "version": 3
      },
      "file_extension": ".py",
      "mimetype": "text/x-python",
      "name": "python",
      "nbconvert_exporter": "python",
      "pygments_lexer": "ipython3",
      "version": "3.8.10"
    },
    "orig_nbformat": 4
  },
  "nbformat": 4,
  "nbformat_minor": 0
}
