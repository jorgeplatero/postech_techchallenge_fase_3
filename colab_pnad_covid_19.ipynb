{
  "cells": [
    {
      "cell_type": "markdown",
      "metadata": {
        "id": "lb2FmnYKHejE"
      },
      "source": [
        "# O PROBLEMA\n",
        "\n",
        "Imagine agora que você foi contratado(a) como Expert em Data Analytics por um grande hospital para entender como foi o comportamento da população na época da pandemia da COVID-19 e quais indicadores seriam importantes para o planejamento, caso haja um novo surto da doença.\n",
        "\n",
        "Apesar de ser contratado(a) agora, a sua área observou que a utilização do estudo do PNAD-COVID 19 do IBGE seria uma ótima base para termos boas respostas ao problema proposto, pois são dados confiáveis.Porém, não será necessário utilizar todas as perguntas realizadas na pesquisa para enxergar todas as oportunidades ali postas.\n",
        "\n",
        "É sempre bom ressaltar que há dados triviais que precisam estar no projeto, pois auxiliam muito na análise dos dados:\n",
        "\n",
        "## PNAD-COVID-19 do IBGE\n",
        "\n",
        "O Head de Dados pediu para que você entrasse na base de dados do PNAD-COVID-19 do IBGE e organizasse esta base para análise, utilizando Banco de Dados em Nuvem e trazendo as seguintes características:\n",
        "\n",
        "- a. Utilização de no máximo 20 questionamentos realizados na pesquisa;\n",
        "- b. Utilizar 3 meses para construção da solução;\n",
        "- c. Caracterização dos sintomas clínicos da população;\n",
        "- d. Comportamento da população na época da COVID-19;\n",
        "- e. Características econômicas da Sociedade;\n",
        "\n",
        "Seu objetivo será trazer uma breve análise dessas informações, como foi a organização do banco, as perguntas selecionadas para a resposta do problema e quais seriam as principais ações que o hospital deverá tomar em caso de um novo surto de COVID-19.\n",
        "\n",
        "- Dica: Leiam com atenção a base de dados e toda a documentação que o site o PNAD – Covid19 traz, principalmente os dicionários, que ajudam e muito no entendimento da Base de Dados.\n",
        "- Dica 2: Utilizem o que já foi ensinado e consolidado nas outras fases para apresentar a resolução do projeto.\n",
        "\n",
        "Lembre-se de que você poderá apresentar o desenvolvimento do seu projeto durante as lives com docentes. Essa é uma boa oportunidade para discutir sobre as dificuldades encontradas e pegar dicas valiosas com especialistas e colegas de turma.\n",
        "\n",
        "Link para a base: https://www.ibge.gov.br/estatisticas/investigacoes-experimentais/estatisticas-experimentais/27946-divulgacao-semanal-pnadcovid1?t=downloads&utm_source=covid19&utm_medium=hotsite&utm_campaign=covid_19"
      ]
    },
    {
      "cell_type": "markdown",
      "source": [
        "### Instalando dependências"
      ],
      "metadata": {
        "id": "vkAlBNGjAa7d"
      }
    },
    {
      "cell_type": "code",
      "source": [
        "!apt-get update -qq\n",
        "!apt-get install openjdk-8-jdk-headless -qq > /dev/null #instalando java 8\n",
        "!wget -q https://archive.apache.org/dist/spark/spark-3.1.2/spark-3.1.2-bin-hadoop2.7.tgz #baixando Spark\n",
        "!tar xf spark-3.1.2-bin-hadoop2.7.tgz #descompactando Spark\n",
        "!pip install -q findspark"
      ],
      "metadata": {
        "id": "h8uTb07zIzCd"
      },
      "execution_count": null,
      "outputs": []
    },
    {
      "cell_type": "markdown",
      "metadata": {
        "id": "gK0KW5xoHejI"
      },
      "source": [
        "### Importando bibliotecas"
      ]
    },
    {
      "cell_type": "code",
      "execution_count": null,
      "metadata": {
        "id": "MYZsHfdiHejJ"
      },
      "outputs": [],
      "source": [
        "import warnings\n",
        "warnings.filterwarnings(action = 'ignore')"
      ]
    },
    {
      "cell_type": "code",
      "source": [
        "import os\n",
        "\n",
        "\n",
        "os.environ[\"JAVA_HOME\"] = \"/usr/lib/jvm/java-8-openjdk-amd64\"\n",
        "os.environ[\"SPARK_HOME\"] = \"/content/spark-3.1.2-bin-hadoop2.7\""
      ],
      "metadata": {
        "id": "Rz01tX8fI4Zt"
      },
      "execution_count": null,
      "outputs": []
    },
    {
      "cell_type": "code",
      "source": [
        "import findspark\n",
        "\n",
        "\n",
        "findspark.init()"
      ],
      "metadata": {
        "id": "76re3F24KXLD"
      },
      "execution_count": null,
      "outputs": []
    },
    {
      "cell_type": "markdown",
      "metadata": {
        "id": "hSdn5phMHejN"
      },
      "source": [
        "### Criando sessão Spark"
      ]
    },
    {
      "cell_type": "code",
      "source": [
        "from pyspark.sql import SparkSession\n",
        "\n",
        "spark = SparkSession.builder\\\n",
        "    .master('local[*]')\\\n",
        "    .appName(\"Iniciando com Spark\")\\\n",
        "    .getOrCreate()"
      ],
      "metadata": {
        "id": "TsFwJor3KPk4"
      },
      "execution_count": 15,
      "outputs": []
    },
    {
      "cell_type": "code",
      "source": [
        "spark"
      ],
      "metadata": {
        "id": "OV66lOSAI_sY",
        "colab": {
          "base_uri": "https://localhost:8080/",
          "height": 222
        },
        "outputId": "211b617b-f0e5-475d-baea-712c14d7b276"
      },
      "execution_count": 16,
      "outputs": [
        {
          "output_type": "execute_result",
          "data": {
            "text/plain": [
              "<pyspark.sql.session.SparkSession at 0x783585c23e20>"
            ],
            "text/html": [
              "\n",
              "            <div>\n",
              "                <p><b>SparkSession - in-memory</b></p>\n",
              "                \n",
              "        <div>\n",
              "            <p><b>SparkContext</b></p>\n",
              "\n",
              "            <p><a href=\"http://a36c418eaadc:4040\">Spark UI</a></p>\n",
              "\n",
              "            <dl>\n",
              "              <dt>Version</dt>\n",
              "                <dd><code>v3.1.2</code></dd>\n",
              "              <dt>Master</dt>\n",
              "                <dd><code>local[*]</code></dd>\n",
              "              <dt>AppName</dt>\n",
              "                <dd><code>Iniciando com Spark</code></dd>\n",
              "            </dl>\n",
              "        </div>\n",
              "        \n",
              "            </div>\n",
              "        "
            ]
          },
          "metadata": {},
          "execution_count": 16
        }
      ]
    },
    {
      "cell_type": "markdown",
      "metadata": {
        "id": "CjrkF6HhHejO"
      },
      "source": [
        "### Importando dados"
      ]
    },
    {
      "cell_type": "code",
      "source": [
        "from google.colab import drive\n",
        "\n",
        "\n",
        "drive.mount('/content/drive')"
      ],
      "metadata": {
        "id": "75Jqm1S6JMLB",
        "colab": {
          "base_uri": "https://localhost:8080/"
        },
        "outputId": "7f0ee797-31ea-43d4-997f-473b24f80413"
      },
      "execution_count": 17,
      "outputs": [
        {
          "output_type": "stream",
          "name": "stdout",
          "text": [
            "Mounted at /content/drive\n"
          ]
        }
      ]
    },
    {
      "cell_type": "code",
      "source": [
        "import zipfile"
      ],
      "metadata": {
        "id": "3QQCf2XgJTeq"
      },
      "execution_count": 18,
      "outputs": []
    },
    {
      "cell_type": "code",
      "source": [
        "zipfile.ZipFile('/content/drive/MyDrive/cursos/postech/postech_techchallenge_fase_3/dados/PNAD_COVID.zip', 'r').extractall('/content/drive/MyDrive/cursos/postech/postech_techchallenge_fase_3/dados')"
      ],
      "metadata": {
        "id": "CLm4NqeGJTVb"
      },
      "execution_count": 24,
      "outputs": []
    },
    {
      "cell_type": "code",
      "source": [
        "path = '/content/drive/MyDrive/cursos/postech/postech_techchallenge_fase_3/dados/PNAD_COVID.csv'\n",
        "df = spark.read.csv(path, sep=',', inferSchema=True, header=True)"
      ],
      "metadata": {
        "id": "DEhwvhOjLAMz"
      },
      "execution_count": 55,
      "outputs": []
    },
    {
      "cell_type": "code",
      "source": [
        "print(df.count(), df.count() // 5)"
      ],
      "metadata": {
        "colab": {
          "base_uri": "https://localhost:8080/"
        },
        "id": "KZOtomA_sWZX",
        "outputId": "6ad60178-d8d8-4034-a647-a75890b868f8"
      },
      "execution_count": 71,
      "outputs": [
        {
          "output_type": "stream",
          "name": "stdout",
          "text": [
            "2650459 530091\n"
          ]
        }
      ]
    },
    {
      "cell_type": "markdown",
      "metadata": {
        "id": "vH9yTYf4HejP"
      },
      "source": [
        "### Exportando dados"
      ]
    },
    {
      "cell_type": "code",
      "execution_count": 57,
      "metadata": {
        "id": "CcEheVz6HejU"
      },
      "outputs": [],
      "source": [
        "#exportando seguimentos do DataFrame\n",
        "n_splits = 5\n",
        "n_rows = df.count() // n_splits\n",
        "copy_df = df\n",
        "\n",
        "for i in range(1, n_splits + 1):\n",
        "    temp_df = copy_df.limit(n_rows)\n",
        "    copy_df = copy_df.subtract(temp_df) #subtraindo conteúdo seguimentado\n",
        "\n",
        "    #exportando seguimento\n",
        "    temp_df.coalesce(1).write.csv(\n",
        "    path=f'/content/drive/MyDrive/cursos/postech/postech_techchallenge_fase_3/dados/seguimento_{i}',\n",
        "    mode='overwrite',\n",
        "    sep=',',\n",
        "    header=True\n",
        "    )"
      ]
    },
    {
      "cell_type": "code",
      "source": [
        "path = '/content/drive/MyDrive/cursos/postech/postech_techchallenge_fase_3/dados/seguimento_1/*.csv'\n",
        "df_1 = spark.read.csv(path, sep=',', inferSchema=True, header=True)"
      ],
      "metadata": {
        "id": "eFn0SVHmohVT"
      },
      "execution_count": 58,
      "outputs": []
    },
    {
      "cell_type": "code",
      "source": [
        "path = '/content/drive/MyDrive/cursos/postech/postech_techchallenge_fase_3/dados/seguimento_2/*.csv'\n",
        "df_2 = spark.read.csv(path, sep=',', inferSchema=True, header=True)"
      ],
      "metadata": {
        "id": "LlgXv47sorRx"
      },
      "execution_count": 59,
      "outputs": []
    },
    {
      "cell_type": "code",
      "source": [
        "path = '/content/drive/MyDrive/cursos/postech/postech_techchallenge_fase_3/dados/seguimento_3/*.csv'\n",
        "df_3 = spark.read.csv(path, sep=',', inferSchema=True, header=True)"
      ],
      "metadata": {
        "id": "5FG3ym_vtu9K"
      },
      "execution_count": 60,
      "outputs": []
    },
    {
      "cell_type": "code",
      "source": [
        "path = '/content/drive/MyDrive/cursos/postech/postech_techchallenge_fase_3/dados/seguimento_4/*.csv'\n",
        "df_4 = spark.read.csv(path, sep=',', inferSchema=True, header=True)"
      ],
      "metadata": {
        "id": "26wgwts8tu0N"
      },
      "execution_count": 61,
      "outputs": []
    },
    {
      "cell_type": "code",
      "source": [
        "path = '/content/drive/MyDrive/cursos/postech/postech_techchallenge_fase_3/dados/seguimento_5/*.csv'\n",
        "df_5 = spark.read.csv(path, sep=',', inferSchema=True, header=True)"
      ],
      "metadata": {
        "id": "q4oJQG3Rtujl"
      },
      "execution_count": 62,
      "outputs": []
    },
    {
      "cell_type": "code",
      "source": [
        "df_1.show(5)"
      ],
      "metadata": {
        "colab": {
          "base_uri": "https://localhost:8080/"
        },
        "id": "Fjw5W6ZSozRj",
        "outputId": "7ac62ed9-299e-4992-fce2-bda78992022d"
      },
      "execution_count": 63,
      "outputs": [
        {
          "output_type": "stream",
          "name": "stdout",
          "text": [
            "+----+---+-------+-------+-----+-----+-----+-----+-------+---------+-----+-----+------+-----------+------------+------+----+-----+------+------+------+----+----+----+----+----+-----+-----+----+-----+----+----+-----+-----+-----+-----+-----+-----+-----+-----+-----+------+------+------+------+----+-----+-----+-----+-----+-----+-----+-----+-----+-----+-----+-----+-----+-----+----+----+----+----+-----+-----+-----+-----+-----+-----+-----+-----+-----+-----+-----+-----+----+----+----+----+----+----+-----+-----+-----+----+----+-----+-----+-----+-----+-----+------+------+-----+----+----+-----+----+-----+------+------+-----+------+------+-----+-----+-----+------+-------+-------+------+-------+-------+----+----+----+----+----+-----+-----+-----+-----+-----+-----+-----+-----+-----+-----+-----+-----+-----+-----+-----+----+-----+-----+-----+-----+----+-----+-----+------+------+------+------+------+-----+----+\n",
            "| Ano| UF|CAPITAL|RM_RIDE|V1008|V1012|V1013|V1016|Estrato|      UPA|V1022|V1023| V1030|      V1031|       V1032|posest|A001|A001A|A001B1|A001B2|A001B3|A002|A003|A004|A005|A006|A006A|A006B|A007|A007A|A008|A009|B0011|B0012|B0013|B0014|B0015|B0016|B0017|B0018|B0019|B00110|B00111|B00112|B00113|B002|B0031|B0032|B0033|B0034|B0035|B0036|B0037|B0041|B0042|B0043|B0044|B0045|B0046|B005|B006|B007|B008|B009A|B009B|B009C|B009D|B009E|B009F|B0101|B0102|B0103|B0104|B0105|B0106|B011|C001|C002|C003|C004|C005|C0051|C0052|C0053|C006|C007|C007A|C007B|C007C|C007D|C007E|C007E1|C007E2|C007F|C008|C009|C009A|C010|C0101|C01011|C01012|C0102|C01021|C01022|C0103|C0104|C011A|C011A1|C011A11|C011A12|C011A2|C011A21|C011A22|C012|C013|C014|C015|C016|C017A|D0011|D0013|D0021|D0023|D0031|D0033|D0041|D0043|D0051|D0053|D0061|D0063|D0071|D0073|E001|E0021|E0022|E0023|E0024|F001|F0021|F0022|F002A1|F002A2|F002A3|F002A4|F002A5|F0061|F006|\n",
            "+----+---+-------+-------+-----+-----+-----+-----+-------+---------+-----+-----+------+-----------+------------+------+----+-----+------+------+------+----+----+----+----+----+-----+-----+----+-----+----+----+-----+-----+-----+-----+-----+-----+-----+-----+-----+------+------+------+------+----+-----+-----+-----+-----+-----+-----+-----+-----+-----+-----+-----+-----+-----+----+----+----+----+-----+-----+-----+-----+-----+-----+-----+-----+-----+-----+-----+-----+----+----+----+----+----+----+-----+-----+-----+----+----+-----+-----+-----+-----+-----+------+------+-----+----+----+-----+----+-----+------+------+-----+------+------+-----+-----+-----+------+-------+-------+------+-------+-------+----+----+----+----+----+-----+-----+-----+-----+-----+-----+-----+-----+-----+-----+-----+-----+-----+-----+-----+----+-----+-----+-----+-----+----+-----+-----+------+------+------+------+------+-----+----+\n",
            "|2020| 11|     11|   null|    1|    4|    5|    1|1110011|110015970|    1|    1|152194|138.2562412|143.56274468|  1114|   1|    1|     5|     8|  1984|  35|   1|   4|   5|null| null| null|null| null|null|null|    1|    1|    2|    2|    1|    2|    2|    2|    2|     2|     1|     2|  null|   2|    2|    2|    1|    2|    2|    2|    2| null| null| null| null| null| null|null|null|   1|null| null| null| null| null| null| null| null| null| null| null| null| null|null|   1|null|null|null|null| null| null| null|   2|   4| null|    1|   35|    6| null|  null|  null| null|  48|  48| null|   1|    1|     4|  1045| null|  null|  null| null| null|    1|     1|      4|   1045|  null|   null|   null|   1|null|null|null|null| null|    2| null|    2| null|    2| null|    2| null|    1| 1200|    2| null|    2| null|null| null| null| null| null|   1| null| null|  null|  null|  null|  null|  null|    1|   2|\n",
            "|2020| 11|     11|   null|    1|    4|    5|    1|1110011|110015970|    1|    1|154290|138.2562412|155.17556973|  1123|   2|    2|    18|     8|  1990|  29|   2|   4|   7|null| null| null|null| null|null|null|    1|    1|    2|    2|    2|    2|    2|    2|    2|     2|     1|     2|  null|   2|    2|    2|    2|    2|    2|    2|    2| null| null| null| null| null| null|null|null|   2|null| null| null| null| null| null| null| null| null| null| null| null| null|null|   1|null|null|null|null| null| null| null|   2|   7| null| null|   34|   22| null|  null|  null| null|  12|   4| null|   1|    1|     4|  1045| null|  null|  null| null| null|    1|     1|      0|      0|  null|   null|   null|   2|   1|   2|null|null| null|    2| null|    2| null|    2| null|    2| null|    1| 1200|    2| null|    2| null|null| null| null| null| null|   1| null| null|  null|  null|  null|  null|  null|    1|   2|\n",
            "|2020| 11|     11|   null|    1|    4|    5|    1|1110011|110015970|    1|    1|146160|138.2562412|191.78621375|  1112|   3|    4|    25|    12|  2006|  13|   1|   4|   2|null| null| null|null| null|null|null|    2|    2|    2|    2|    2|    2|    2|    2|    2|     2|     2|     2|  null|null| null| null| null| null| null| null| null| null| null| null| null| null| null|null|null|   2|null| null| null| null| null| null| null| null| null| null| null| null| null|null|null|null|null|null|null| null| null| null|null|null| null| null| null| null| null|  null|  null| null|null|null| null|null| null|  null|  null| null|  null|  null| null| null| null|  null|   null|   null|  null|   null|   null|null|null|null|null|null| null|    2| null|    2| null|    2| null|    2| null|    1| 1200|    2| null|    2| null|null| null| null| null| null|   1| null| null|  null|  null|  null|  null|  null|    1|   2|\n",
            "|2020| 11|     11|   null|    1|    4|    5|    1|1110011|110015970|    1|    1|146160|138.2562412|191.78621375|  1112|   4|    4|    24|     8|  2009|  10|   1|   4|   2|null| null| null|null| null|null|null|    2|    2|    2|    2|    2|    2|    2|    2|    2|     2|     2|     2|  null|null| null| null| null| null| null| null| null| null| null| null| null| null| null|null|null|   2|null| null| null| null| null| null| null| null| null| null| null| null| null|null|null|null|null|null|null| null| null| null|null|null| null| null| null| null| null|  null|  null| null|null|null| null|null| null|  null|  null| null|  null|  null| null| null| null|  null|   null|   null|  null|   null|   null|null|null|null|null|null| null|    2| null|    2| null|    2| null|    2| null|    1| 1200|    2| null|    2| null|null| null| null| null| null|   1| null| null|  null|  null|  null|  null|  null|    1|   2|\n",
            "|2020| 11|     11|   null|    3|    2|    5|    1|1110011|110015970|    1|    1| 90903|138.2562412|144.13492924|  1126|   1|    1|    25|    12|  1961|  58|   2|   2|   1|null| null| null|null| null|null|null|    2|    2|    2|    2|    2|    2|    2|    2|    2|     2|     2|     2|  null|null| null| null| null| null| null| null| null| null| null| null| null| null| null|null|null|   2|null| null| null| null| null| null| null| null| null| null| null| null| null|null|   2|   2|null|null|null| null| null| null|null|null| null| null| null| null| null|  null|  null| null|null|null| null|null| null|  null|  null| null|  null|  null| null| null| null|  null|   null|   null|  null|   null|   null|null|null|   2|   2|   2|    1|    2| null|    2| null|    1|  130|    2| null|    1|  600|    2| null|    2| null|null| null| null| null| null|   1| null| null|  null|  null|  null|  null|  null|    1|   1|\n",
            "+----+---+-------+-------+-----+-----+-----+-----+-------+---------+-----+-----+------+-----------+------------+------+----+-----+------+------+------+----+----+----+----+----+-----+-----+----+-----+----+----+-----+-----+-----+-----+-----+-----+-----+-----+-----+------+------+------+------+----+-----+-----+-----+-----+-----+-----+-----+-----+-----+-----+-----+-----+-----+----+----+----+----+-----+-----+-----+-----+-----+-----+-----+-----+-----+-----+-----+-----+----+----+----+----+----+----+-----+-----+-----+----+----+-----+-----+-----+-----+-----+------+------+-----+----+----+-----+----+-----+------+------+-----+------+------+-----+-----+-----+------+-------+-------+------+-------+-------+----+----+----+----+----+-----+-----+-----+-----+-----+-----+-----+-----+-----+-----+-----+-----+-----+-----+-----+----+-----+-----+-----+-----+----+-----+-----+------+------+------+------+------+-----+----+\n",
            "only showing top 5 rows\n",
            "\n"
          ]
        }
      ]
    },
    {
      "cell_type": "code",
      "source": [
        "df_4.orderBy('V1013').show(5)"
      ],
      "metadata": {
        "colab": {
          "base_uri": "https://localhost:8080/"
        },
        "id": "lb0qj4otuCSc",
        "outputId": "584f5b1b-bbeb-4d0a-a5cf-855d9bcc905f"
      },
      "execution_count": 75,
      "outputs": [
        {
          "output_type": "stream",
          "name": "stdout",
          "text": [
            "+----+---+-------+-------+-----+-----+-----+-----+-------+---------+-----+-----+-------+------------+------------+------+----+-----+------+------+------+----+----+----+----+----+-----+-----+----+-----+----+----+-----+-----+-----+-----+-----+-----+-----+-----+-----+------+------+------+------+----+-----+-----+-----+-----+-----+-----+-----+-----+-----+-----+-----+-----+-----+----+----+----+----+-----+-----+-----+-----+-----+-----+-----+-----+-----+-----+-----+-----+----+----+----+----+----+----+-----+-----+-----+----+----+-----+-----+-----+-----+-----+------+------+-----+----+----+-----+----+-----+------+------+-----+------+------+-----+-----+-----+------+-------+-------+------+-------+-------+----+----+----+----+----+-----+-----+-----+-----+-----+-----+-----+-----+-----+-----+-----+-----+-----+-----+-----+----+-----+-----+-----+-----+----+-----+-----+------+------+------+------+------+-----+----+\n",
            "| Ano| UF|CAPITAL|RM_RIDE|V1008|V1012|V1013|V1016|Estrato|      UPA|V1022|V1023|  V1030|       V1031|       V1032|posest|A001|A001A|A001B1|A001B2|A001B3|A002|A003|A004|A005|A006|A006A|A006B|A007|A007A|A008|A009|B0011|B0012|B0013|B0014|B0015|B0016|B0017|B0018|B0019|B00110|B00111|B00112|B00113|B002|B0031|B0032|B0033|B0034|B0035|B0036|B0037|B0041|B0042|B0043|B0044|B0045|B0046|B005|B006|B007|B008|B009A|B009B|B009C|B009D|B009E|B009F|B0101|B0102|B0103|B0104|B0105|B0106|B011|C001|C002|C003|C004|C005|C0051|C0052|C0053|C006|C007|C007A|C007B|C007C|C007D|C007E|C007E1|C007E2|C007F|C008|C009|C009A|C010|C0101|C01011|C01012|C0102|C01021|C01022|C0103|C0104|C011A|C011A1|C011A11|C011A12|C011A2|C011A21|C011A22|C012|C013|C014|C015|C016|C017A|D0011|D0013|D0021|D0023|D0031|D0033|D0041|D0043|D0051|D0053|D0061|D0063|D0071|D0073|E001|E0021|E0022|E0023|E0024|F001|F0021|F0022|F002A1|F002A2|F002A3|F002A4|F002A5|F0061|F006|\n",
            "+----+---+-------+-------+-----+-----+-----+-----+-------+---------+-----+-----+-------+------------+------------+------+----+-----+------+------+------+----+----+----+----+----+-----+-----+----+-----+----+----+-----+-----+-----+-----+-----+-----+-----+-----+-----+------+------+------+------+----+-----+-----+-----+-----+-----+-----+-----+-----+-----+-----+-----+-----+-----+----+----+----+----+-----+-----+-----+-----+-----+-----+-----+-----+-----+-----+-----+-----+----+----+----+----+----+----+-----+-----+-----+----+----+-----+-----+-----+-----+-----+------+------+-----+----+----+-----+----+-----+------+------+-----+------+------+-----+-----+-----+------+-------+-------+------+-------+-------+----+----+----+----+----+-----+-----+-----+-----+-----+-----+-----+-----+-----+-----+-----+-----+-----+-----+-----+----+-----+-----+-----+-----+----+-----+-----+------+------+------+------+------+-----+----+\n",
            "|2020| 41|   null|   null|   14|    1|    6|    2|4156011|410032391|    1|    4| 742026|697.04553536|647.16018873|  4126|   2|    2|     4|     4|  1964|  56|   2|   1|   3|null| null| null|null| null|null|null|    2|    2|    2|    2|    2|    2|    2|    2|    2|     2|     2|     2|  null|null| null| null| null| null| null| null| null| null| null| null| null| null| null|null|null|   1|null| null| null| null| null| null| null| null| null| null| null| null| null|null|   1|null|null|null|null| null| null| null|   2|   8| null| null|   28|   25| null|  null|  null| null|  30|  30| null|   1| null|  null|  null| null|  null|  null| null|    4| null|  null|   null|   null|  null|   null|   null|   1|null|   1|null|null| null|    2| null|    2| null|    2| null|    2| null|    1|  600|    2| null|    2| null|null| null| null| null| null|   1| null| null|  null|  null|  null|  null|  null|    1|   2|\n",
            "|2020| 50|     50|   null|   11|    2|    6|    2|5010012|500035015|    1|    1| 218636|265.49609019|348.41997525|  5023|   4|    4|    23|     5|  1995|  25|   2|   4|   7|null| null| null|null| null|null|null|    2|    2|    2|    2|    2|    2|    2|    2|    2|     2|     2|     2|  null|null| null| null| null| null| null| null| null| null| null| null| null| null| null|null|null|   2|null| null| null| null| null| null| null| null| null| null| null| null| null|null|   1|null|null|null|null| null| null| null|   2|   4| null|    1|    3|   16| null|  null|  null| null|  40|  40| null|   1|    1|     5|  2000| null|  null|  null| null| null|    1|     1|      5|   2000|  null|   null|   null|   1|null|null|null|null| null|    1| 1045|    2| null|    2| null|    2| null|    2| null|    2| null|    2| null|null| null| null| null| null|   1| null| null|  null|  null|  null|  null|  null|    1|   2|\n",
            "|2020| 42|   null|   null|    7|    3|    6|    2|4251011|420104460|    1|    4| 329588|174.55185252|170.81201987|  4227|   2|    2|     5|     6|  1953|  67|   2|   1|   2|null| null| null|null| null|null|null|    2|    2|    2|    2|    2|    2|    2|    2|    2|     2|     2|     2|  null|null| null| null| null| null| null| null| null| null| null| null| null| null| null|null|null|   2|null| null| null| null| null| null| null| null| null| null| null| null| null|null|   2|   2|null|null|null| null| null| null|null|null| null| null| null| null| null|  null|  null| null|null|null| null|null| null|  null|  null| null|  null|  null| null| null| null|  null|   null|   null|  null|   null|   null|null|null|   2|   2|   4|    2|    1| 2000|    2| null|    2| null|    2| null|    2| null|    2| null|    2| null|null| null| null| null| null|   1| null| null|  null|  null|  null|  null|  null|    1|   1|\n",
            "|2020| 35|     35|     35|    1|    4|    6|    2|3510220|350695900|    2|    1|3236764|97.471001924|107.05700155|  3515|   1|    1|    12|     4|  1979|  41|   1|   1|   2|null| null| null|null| null|null|null|    2|    2|    2|    2|    2|    2|    2|    2|    2|     2|     2|     2|  null|null| null| null| null| null| null| null| null| null| null| null| null| null| null|null|null|   2|null| null| null| null| null| null| null| null| null| null| null| null| null|null|   2|   1|   1|   2|   2|    3| null| null|   2|   7| null| null|   36|   22| null|  null|  null| null|  16|   0| null|   1|    1|     4|  1200| null|  null|  null| null| null|    1|     1|      0|      0|  null|   null|   null|null|null|   2|null|null| null|    2| null|    2| null|    2| null|    2| null|    1|  600|    2| null|    2| null|null| null| null| null| null|   1| null| null|  null|  null|  null|  null|  null|    1|   1|\n",
            "|2020| 33|   null|     33|    5|    3|    6|    2|3322012|330021383|    1|    2|1120073|467.88386371|588.10304817|  3312|   4|    6|    99|    99|  9999|  18|   1|   4|   4|null| null| null|null| null|null|null|    2|    2|    2|    2|    2|    2|    2|    2|    2|     2|     2|     2|  null|null| null| null| null| null| null| null| null| null| null| null| null| null| null|null|null|   2|null| null| null| null| null| null| null| null| null| null| null| null| null|null|   2|   2|null|null|null| null| null| null|null|null| null| null| null| null| null|  null|  null| null|null|null| null|null| null|  null|  null| null|  null|  null| null| null| null|  null|   null|   null|  null|   null|   null|null|null|   2|   1|null| null|    2| null|    2| null|    2| null|    2| null|    2| null|    2| null|    2| null|null| null| null| null| null|   1| null| null|  null|  null|  null|  null|  null|    1|   1|\n",
            "+----+---+-------+-------+-----+-----+-----+-----+-------+---------+-----+-----+-------+------------+------------+------+----+-----+------+------+------+----+----+----+----+----+-----+-----+----+-----+----+----+-----+-----+-----+-----+-----+-----+-----+-----+-----+------+------+------+------+----+-----+-----+-----+-----+-----+-----+-----+-----+-----+-----+-----+-----+-----+----+----+----+----+-----+-----+-----+-----+-----+-----+-----+-----+-----+-----+-----+-----+----+----+----+----+----+----+-----+-----+-----+----+----+-----+-----+-----+-----+-----+------+------+-----+----+----+-----+----+-----+------+------+-----+------+------+-----+-----+-----+------+-------+-------+------+-------+-------+----+----+----+----+----+-----+-----+-----+-----+-----+-----+-----+-----+-----+-----+-----+-----+-----+-----+-----+----+-----+-----+-----+-----+----+-----+-----+------+------+------+------+------+-----+----+\n",
            "only showing top 5 rows\n",
            "\n"
          ]
        }
      ]
    },
    {
      "cell_type": "code",
      "source": [
        "df.printSchema()"
      ],
      "metadata": {
        "colab": {
          "base_uri": "https://localhost:8080/"
        },
        "id": "XNEMa5YypX_a",
        "outputId": "fb39f9a4-35e7-473a-cc89-51665c73ddcd"
      },
      "execution_count": 76,
      "outputs": [
        {
          "output_type": "stream",
          "name": "stdout",
          "text": [
            "root\n",
            " |-- Ano: integer (nullable = true)\n",
            " |-- UF: integer (nullable = true)\n",
            " |-- CAPITAL: integer (nullable = true)\n",
            " |-- RM_RIDE: integer (nullable = true)\n",
            " |-- V1008: integer (nullable = true)\n",
            " |-- V1012: integer (nullable = true)\n",
            " |-- V1013: integer (nullable = true)\n",
            " |-- V1016: integer (nullable = true)\n",
            " |-- Estrato: integer (nullable = true)\n",
            " |-- UPA: integer (nullable = true)\n",
            " |-- V1022: integer (nullable = true)\n",
            " |-- V1023: integer (nullable = true)\n",
            " |-- V1030: integer (nullable = true)\n",
            " |-- V1031: double (nullable = true)\n",
            " |-- V1032: double (nullable = true)\n",
            " |-- posest: integer (nullable = true)\n",
            " |-- A001: integer (nullable = true)\n",
            " |-- A001A: integer (nullable = true)\n",
            " |-- A001B1: integer (nullable = true)\n",
            " |-- A001B2: integer (nullable = true)\n",
            " |-- A001B3: integer (nullable = true)\n",
            " |-- A002: integer (nullable = true)\n",
            " |-- A003: integer (nullable = true)\n",
            " |-- A004: integer (nullable = true)\n",
            " |-- A005: integer (nullable = true)\n",
            " |-- A006: integer (nullable = true)\n",
            " |-- A006A: integer (nullable = true)\n",
            " |-- A006B: integer (nullable = true)\n",
            " |-- A007: integer (nullable = true)\n",
            " |-- A007A: integer (nullable = true)\n",
            " |-- A008: integer (nullable = true)\n",
            " |-- A009: integer (nullable = true)\n",
            " |-- B0011: integer (nullable = true)\n",
            " |-- B0012: integer (nullable = true)\n",
            " |-- B0013: integer (nullable = true)\n",
            " |-- B0014: integer (nullable = true)\n",
            " |-- B0015: integer (nullable = true)\n",
            " |-- B0016: integer (nullable = true)\n",
            " |-- B0017: integer (nullable = true)\n",
            " |-- B0018: integer (nullable = true)\n",
            " |-- B0019: integer (nullable = true)\n",
            " |-- B00110: integer (nullable = true)\n",
            " |-- B00111: integer (nullable = true)\n",
            " |-- B00112: integer (nullable = true)\n",
            " |-- B00113: integer (nullable = true)\n",
            " |-- B002: integer (nullable = true)\n",
            " |-- B0031: integer (nullable = true)\n",
            " |-- B0032: integer (nullable = true)\n",
            " |-- B0033: integer (nullable = true)\n",
            " |-- B0034: integer (nullable = true)\n",
            " |-- B0035: integer (nullable = true)\n",
            " |-- B0036: integer (nullable = true)\n",
            " |-- B0037: integer (nullable = true)\n",
            " |-- B0041: integer (nullable = true)\n",
            " |-- B0042: integer (nullable = true)\n",
            " |-- B0043: integer (nullable = true)\n",
            " |-- B0044: integer (nullable = true)\n",
            " |-- B0045: integer (nullable = true)\n",
            " |-- B0046: integer (nullable = true)\n",
            " |-- B005: integer (nullable = true)\n",
            " |-- B006: integer (nullable = true)\n",
            " |-- B007: integer (nullable = true)\n",
            " |-- B008: integer (nullable = true)\n",
            " |-- B009A: integer (nullable = true)\n",
            " |-- B009B: integer (nullable = true)\n",
            " |-- B009C: integer (nullable = true)\n",
            " |-- B009D: integer (nullable = true)\n",
            " |-- B009E: integer (nullable = true)\n",
            " |-- B009F: integer (nullable = true)\n",
            " |-- B0101: integer (nullable = true)\n",
            " |-- B0102: integer (nullable = true)\n",
            " |-- B0103: integer (nullable = true)\n",
            " |-- B0104: integer (nullable = true)\n",
            " |-- B0105: integer (nullable = true)\n",
            " |-- B0106: integer (nullable = true)\n",
            " |-- B011: integer (nullable = true)\n",
            " |-- C001: integer (nullable = true)\n",
            " |-- C002: integer (nullable = true)\n",
            " |-- C003: integer (nullable = true)\n",
            " |-- C004: integer (nullable = true)\n",
            " |-- C005: integer (nullable = true)\n",
            " |-- C0051: integer (nullable = true)\n",
            " |-- C0052: integer (nullable = true)\n",
            " |-- C0053: integer (nullable = true)\n",
            " |-- C006: integer (nullable = true)\n",
            " |-- C007: integer (nullable = true)\n",
            " |-- C007A: integer (nullable = true)\n",
            " |-- C007B: integer (nullable = true)\n",
            " |-- C007C: integer (nullable = true)\n",
            " |-- C007D: integer (nullable = true)\n",
            " |-- C007E: integer (nullable = true)\n",
            " |-- C007E1: integer (nullable = true)\n",
            " |-- C007E2: integer (nullable = true)\n",
            " |-- C007F: integer (nullable = true)\n",
            " |-- C008: integer (nullable = true)\n",
            " |-- C009: integer (nullable = true)\n",
            " |-- C009A: integer (nullable = true)\n",
            " |-- C010: integer (nullable = true)\n",
            " |-- C0101: integer (nullable = true)\n",
            " |-- C01011: integer (nullable = true)\n",
            " |-- C01012: integer (nullable = true)\n",
            " |-- C0102: integer (nullable = true)\n",
            " |-- C01021: integer (nullable = true)\n",
            " |-- C01022: integer (nullable = true)\n",
            " |-- C0103: integer (nullable = true)\n",
            " |-- C0104: integer (nullable = true)\n",
            " |-- C011A: integer (nullable = true)\n",
            " |-- C011A1: integer (nullable = true)\n",
            " |-- C011A11: integer (nullable = true)\n",
            " |-- C011A12: integer (nullable = true)\n",
            " |-- C011A2: integer (nullable = true)\n",
            " |-- C011A21: integer (nullable = true)\n",
            " |-- C011A22: integer (nullable = true)\n",
            " |-- C012: integer (nullable = true)\n",
            " |-- C013: integer (nullable = true)\n",
            " |-- C014: integer (nullable = true)\n",
            " |-- C015: integer (nullable = true)\n",
            " |-- C016: integer (nullable = true)\n",
            " |-- C017A: integer (nullable = true)\n",
            " |-- D0011: integer (nullable = true)\n",
            " |-- D0013: integer (nullable = true)\n",
            " |-- D0021: integer (nullable = true)\n",
            " |-- D0023: integer (nullable = true)\n",
            " |-- D0031: integer (nullable = true)\n",
            " |-- D0033: integer (nullable = true)\n",
            " |-- D0041: integer (nullable = true)\n",
            " |-- D0043: integer (nullable = true)\n",
            " |-- D0051: integer (nullable = true)\n",
            " |-- D0053: integer (nullable = true)\n",
            " |-- D0061: integer (nullable = true)\n",
            " |-- D0063: integer (nullable = true)\n",
            " |-- D0071: integer (nullable = true)\n",
            " |-- D0073: integer (nullable = true)\n",
            " |-- E001: integer (nullable = true)\n",
            " |-- E0021: integer (nullable = true)\n",
            " |-- E0022: integer (nullable = true)\n",
            " |-- E0023: integer (nullable = true)\n",
            " |-- E0024: integer (nullable = true)\n",
            " |-- F001: integer (nullable = true)\n",
            " |-- F0021: integer (nullable = true)\n",
            " |-- F0022: integer (nullable = true)\n",
            " |-- F002A1: integer (nullable = true)\n",
            " |-- F002A2: integer (nullable = true)\n",
            " |-- F002A3: integer (nullable = true)\n",
            " |-- F002A4: integer (nullable = true)\n",
            " |-- F002A5: integer (nullable = true)\n",
            " |-- F0061: integer (nullable = true)\n",
            " |-- F006: integer (nullable = true)\n",
            "\n"
          ]
        }
      ]
    },
    {
      "cell_type": "code",
      "source": [],
      "metadata": {
        "id": "cagbEALRpX6G"
      },
      "execution_count": null,
      "outputs": []
    },
    {
      "cell_type": "code",
      "source": [],
      "metadata": {
        "id": "l4-zuh75pX3h"
      },
      "execution_count": null,
      "outputs": []
    },
    {
      "cell_type": "code",
      "source": [],
      "metadata": {
        "id": "Ei0DaYdopX0Z"
      },
      "execution_count": null,
      "outputs": []
    },
    {
      "cell_type": "code",
      "source": [],
      "metadata": {
        "id": "4ovV-y6YpXvR"
      },
      "execution_count": null,
      "outputs": []
    },
    {
      "cell_type": "code",
      "source": [],
      "metadata": {
        "id": "8PeNR52WpXn1"
      },
      "execution_count": null,
      "outputs": []
    }
  ],
  "metadata": {
    "kernelspec": {
      "display_name": ".env",
      "language": "python",
      "name": "python3"
    },
    "language_info": {
      "codemirror_mode": {
        "name": "ipython",
        "version": 3
      },
      "file_extension": ".py",
      "mimetype": "text/x-python",
      "name": "python",
      "nbconvert_exporter": "python",
      "pygments_lexer": "ipython3",
      "version": "3.8.10"
    },
    "orig_nbformat": 4,
    "colab": {
      "provenance": []
    }
  },
  "nbformat": 4,
  "nbformat_minor": 0
}