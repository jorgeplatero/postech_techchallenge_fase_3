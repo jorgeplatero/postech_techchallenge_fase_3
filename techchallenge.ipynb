{
 "cells": [
  {
   "cell_type": "markdown",
   "metadata": {},
   "source": [
    "# O PROBLEMA\n",
    "\n",
    "Imagine agora que você foi contratado(a) como Expert em Data Analytics por um grande hospital para en‐ tender como foi o comportamento da população na época da pandemia da COVID-19 e quais indicadoresseriam importantes para o planejamento, caso haja um novo surto da doença.\n",
    "\n",
    "Apesar de ser contratado(a) agora, a sua área observou que a utilização do estudo do PNAD-COVID 19 doIBGE seria uma ótima base para termos boas respostas ao problema proposto, pois são dados confi áveis.Porém, não será necessário utilizar todas as perguntas realizadas na pesquisa para enxergar todas as opor‐ tunidades ali postas.\n",
    "\n",
    "É sempre bom ressaltar que há dados triviais que precisam estar no projeto, pois auxiliam muito na análisedos dados:\n",
    "\n",
    "## PNAD-COVID-19 do IBGE\n",
    "\n",
    "O Head de Dados pediu para que você entrasse na base de dados do\n",
    "PNAD-COVID-19 do IBGE\n",
    "e organi‐ zasse esta base para análise, utilizando Banco de Dados em Nuvem e trazendo as seguintes características:\n",
    "\n",
    "- a. Utilização de no máximo 20 questionamentos realizados na pesquisa;\n",
    "- b. Utilizar 3 meses para construção da solução;\n",
    "- c. Caracterização dos sintomas clínicos da população;\n",
    "- d. Comportamento da população na época da COVID-19;\n",
    "- e. Características econômicas da Sociedade;\n",
    "\n",
    "Seu objetivo será trazer uma breve análise dessas informações, como foi a organização do banco, as per‐ guntas selecionadas para a resposta do problema e quais seriam as principais ações que o hospital deverátomar em caso de um novo surto de COVID-19.\n",
    "\n",
    "- Dica: Leiam com atenção a base de dados e toda a documentação que o site o PNAD – Covid19traz, principalmente os dicionários, que ajudam e muito no entendimento da Base de Dados.\n",
    "- Dica 2: Utilizem o que já foi ensinado e consolidado nas outras fases para apresentar a resolu‐ ção do projeto.\n",
    "\n",
    "Lembre-se de que você poderá apresentar o desenvolvimento do seu projeto durante as lives com docentes.Essa é uma boa oportunidade para discutir sobre as difi culdades encontradas e pegar dicas valiosas comespecialistas e colegas de turma."
   ]
  }
 ],
 "metadata": {
  "language_info": {
   "name": "python"
  },
  "orig_nbformat": 4
 },
 "nbformat": 4,
 "nbformat_minor": 2
}
