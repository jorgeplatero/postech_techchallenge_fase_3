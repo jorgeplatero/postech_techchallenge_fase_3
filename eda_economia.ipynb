{
 "cells": [
  {
   "cell_type": "markdown",
   "metadata": {},
   "source": [
    "# O PROBLEMA\n",
    "\n",
    "Imagine agora que você foi contratado(a) como Expert em Data Analytics por um grande hospital para entender como foi o comportamento da população na época da pandemia da COVID-19 e quais indicadores seriam importantes para o planejamento, caso haja um novo surto da doença.\n",
    "\n",
    "Apesar de ser contratado(a) agora, a sua área observou que a utilização do estudo do PNAD-COVID 19 do IBGE seria uma ótima base para termos boas respostas ao problema proposto, pois são dados confiáveis.Porém, não será necessário utilizar todas as perguntas realizadas na pesquisa para enxergar todas as oportunidades ali postas.\n",
    "\n",
    "É sempre bom ressaltar que há dados triviais que precisam estar no projeto, pois auxiliam muito na análise dos dados:\n",
    "\n",
    "## PNAD-COVID-19 do IBGE\n",
    "\n",
    "O Head de Dados pediu para que você entrasse na base de dados do PNAD-COVID-19 do IBGE e organizasse esta base para análise, utilizando Banco de Dados em Nuvem e trazendo as seguintes características:\n",
    "\n",
    "- a. Utilização de no máximo 20 questionamentos realizados na pesquisa;\n",
    "- b. Utilizar 3 meses para construção da solução;\n",
    "- c. Caracterização dos sintomas clínicos da população;\n",
    "- d. Comportamento da população na época da COVID-19;\n",
    "- e. Características econômicas da Sociedade;\n",
    "\n",
    "Seu objetivo será trazer uma breve análise dessas informações, como foi a organização do banco, as perguntas selecionadas para a resposta do problema e quais seriam as principais ações que o hospital deverá tomar em caso de um novo surto de COVID-19.\n",
    "\n",
    "- Dica: Leiam com atenção a base de dados e toda a documentação que o site o PNAD – Covid19 traz, principalmente os dicionários, que ajudam e muito no entendimento da Base de Dados.\n",
    "- Dica 2: Utilizem o que já foi ensinado e consolidado nas outras fases para apresentar a resolução do projeto.\n",
    "\n",
    "Lembre-se de que você poderá apresentar o desenvolvimento do seu projeto durante as lives com docentes. Essa é uma boa oportunidade para discutir sobre as dificuldades encontradas e pegar dicas valiosas com especialistas e colegas de turma.\n",
    "\n",
    "Link para a base: https://www.ibge.gov.br/estatisticas/investigacoes-experimentais/estatisticas-experimentais/27946-divulgacao-semanal-pnadcovid1?t=downloads&utm_source=covid19&utm_medium=hotsite&utm_campaign=covid_19"
   ]
  },
  {
   "cell_type": "markdown",
   "metadata": {},
   "source": [
    "### Importando bibliotecas"
   ]
  },
  {
   "cell_type": "code",
   "execution_count": 1,
   "metadata": {},
   "outputs": [],
   "source": [
    "import warnings \n",
    "warnings.filterwarnings(action = 'ignore')"
   ]
  },
  {
   "cell_type": "code",
   "execution_count": 2,
   "metadata": {},
   "outputs": [],
   "source": [
    "from sqlalchemy import create_engine\n",
    "from sqlalchemy.sql import text\n",
    "from pyspark.sql import SparkSession\n",
    "import findspark\n",
    "import os\n",
    "import pandas as pd\n",
    "import polars as pl"
   ]
  },
  {
   "cell_type": "markdown",
   "metadata": {},
   "source": [
    "### Conectando ao MySQL"
   ]
  },
  {
   "cell_type": "code",
   "execution_count": 3,
   "metadata": {},
   "outputs": [],
   "source": [
    "def mysql_connection(host, user, passwd, database=None):\n",
    "    engine = create_engine(f'mysql+pymysql://{user}:{passwd}@{host}/{database}')\n",
    "    return engine.connect()\n",
    "\n",
    "mysql = mysql_connection('127.0.0.1', 'root', 'admin', 'pnad_covid')"
   ]
  },
  {
   "cell_type": "code",
   "execution_count": 4,
   "metadata": {},
   "outputs": [
    {
     "name": "stdout",
     "output_type": "stream",
     "text": [
      "(datetime.date(2020, 9, 1), 'Espírito Santo', 'Urbana', 84, 'Homem', 'Parda', 'Fundamental incompleto', 'Não aplicável', 'Não aplicável', 'Não aplicável', 'Não aplicável', 'Não aplicável', 'Não aplicável', 'Não aplicável', 'Não aplicável', 'Não aplicável', 'Não aplicável', 'Não aplicável', 'Não aplicável', 'Não', 'Não', '1045', '600', 'Não', 'Próprio - já pago ', 'Não aplicável', 'Não aplicável', 'Não', 'Não aplicável', 'Sim')\n",
      "(datetime.date(2020, 9, 1), 'Não identificado', 'Urbana', 49, 'Homem', 'Branca', 'Superior completo', 'Não aplicável', 'Não aplicável', 'Não aplicável', 'Não aplicável', 'Não aplicável', 'Não aplicável', 'Não aplicável', 'Não aplicável', 'Não aplicável', 'Não aplicável', 'Artesão, costureiro e sapateiro', '801 - 1.600', '800', 'Não', 'Não', 'Não', 'Não', 'Próprio - já pago ', 'Não aplicável', 'Não aplicável', 'Não', 'Não aplicável', 'Sim')\n",
      "(datetime.date(2020, 9, 1), 'Não identificado', 'Urbana', 47, 'Mulher', 'Branca', 'Médio completo', 'Não aplicável', 'Não aplicável', 'Não aplicável', 'Não aplicável', 'Não aplicável', 'Não aplicável', 'Não aplicável', 'Não aplicável', 'Não aplicável', 'Não aplicável', 'Auxiliar de escritório, escriturário', '3.001 - 10.000', 'Não', 'Não', 'Não', 'Não', 'Não', 'Próprio - ainda pagando', 'Não aplicável', 'Não aplicável', 'Não', 'Não aplicável', 'Não Aplicável')\n",
      "(datetime.date(2020, 9, 1), 'Rio Grande do Sul', 'Rural', 23, 'Mulher', 'Parda', 'Fundamental incompleto', 'Não aplicável', 'Não aplicável', 'Não aplicável', 'Não aplicável', 'Não aplicável', 'Não aplicável', 'Não aplicável', 'Não aplicável', 'Não aplicável', 'Não aplicável', 'Não aplicável', 'Não aplicável', 'Não', 'Não', '1045', '600', 'Não', 'Próprio - já pago ', 'Não aplicável', 'Não aplicável', 'Não', 'Não aplicável', 'Sim')\n",
      "(datetime.date(2020, 9, 1), 'Não identificado', 'Urbana', 34, 'Mulher', 'Parda', 'Fundamental incompleto', 'Não aplicável', 'Não aplicável', 'Não aplicável', 'Não aplicável', 'Não aplicável', 'Não aplicável', 'Não aplicável', 'Não aplicável', 'Não aplicável', 'Não aplicável', 'Não aplicável', 'Não aplicável', 'Não', 'Não', 'Não', '1200', 'Não', 'Próprio - já pago ', 'Não aplicável', 'Não aplicável', 'Não', 'Não aplicável', 'Não Aplicável')\n"
     ]
    }
   ],
   "source": [
    "statement = text('SELECT * FROM pnad_covid_view LIMIT 5')\n",
    "response = mysql.execute(statement)\n",
    "for row in response:\n",
    "        print(row)"
   ]
  },
  {
   "cell_type": "markdown",
   "metadata": {},
   "source": [
    "### Criando sessão Spark"
   ]
  },
  {
   "cell_type": "code",
   "execution_count": 5,
   "metadata": {},
   "outputs": [],
   "source": [
    "os.environ['SPARK_HOME'] = '/opt/spark/'\n",
    "findspark.init()"
   ]
  },
  {
   "cell_type": "code",
   "execution_count": 6,
   "metadata": {},
   "outputs": [
    {
     "name": "stderr",
     "output_type": "stream",
     "text": [
      "23/10/24 10:11:13 WARN Utils: Your hostname, platero-Lenovo-IdeaPad-S145-15IWL resolves to a loopback address: 127.0.1.1; using 192.168.15.109 instead (on interface wlp2s0)\n",
      "23/10/24 10:11:13 WARN Utils: Set SPARK_LOCAL_IP if you need to bind to another address\n",
      "Setting default log level to \"WARN\".\n",
      "To adjust logging level use sc.setLogLevel(newLevel). For SparkR, use setLogLevel(newLevel).\n",
      "23/10/24 10:11:14 WARN NativeCodeLoader: Unable to load native-hadoop library for your platform... using builtin-java classes where applicable\n"
     ]
    }
   ],
   "source": [
    "spark = SparkSession.builder.master('local[*]').getOrCreate()"
   ]
  },
  {
   "cell_type": "code",
   "execution_count": 7,
   "metadata": {},
   "outputs": [
    {
     "data": {
      "text/html": [
       "\n",
       "            <div>\n",
       "                <p><b>SparkSession - in-memory</b></p>\n",
       "                \n",
       "        <div>\n",
       "            <p><b>SparkContext</b></p>\n",
       "\n",
       "            <p><a href=\"http://192.168.15.109:4040\">Spark UI</a></p>\n",
       "\n",
       "            <dl>\n",
       "              <dt>Version</dt>\n",
       "                <dd><code>v3.5.0</code></dd>\n",
       "              <dt>Master</dt>\n",
       "                <dd><code>local[*]</code></dd>\n",
       "              <dt>AppName</dt>\n",
       "                <dd><code>pyspark-shell</code></dd>\n",
       "            </dl>\n",
       "        </div>\n",
       "        \n",
       "            </div>\n",
       "        "
      ],
      "text/plain": [
       "<pyspark.sql.session.SparkSession at 0x7f2d5019ad60>"
      ]
     },
     "execution_count": 7,
     "metadata": {},
     "output_type": "execute_result"
    }
   ],
   "source": [
    "spark"
   ]
  },
  {
   "cell_type": "markdown",
   "metadata": {},
   "source": [
    "### Análise exploratória"
   ]
  },
  {
   "cell_type": "code",
   "execution_count": 8,
   "metadata": {},
   "outputs": [
    {
     "ename": "",
     "evalue": "",
     "output_type": "error",
     "traceback": [
      "\u001b[1;31mThe Kernel crashed while executing code in the the current cell or a previous cell. Please review the code in the cell(s) to identify a possible cause of the failure. Click <a href='https://aka.ms/vscodeJupyterKernelCrash'>here</a> for more info. View Jupyter <a href='command:jupyter.viewOutput'>log</a> for further details."
     ]
    }
   ],
   "source": [
    "statement = text('SELECT * FROM pnad_covid_view')\n",
    "df = pl.read_database(statement, connection=mysql)"
   ]
  },
  {
   "cell_type": "code",
   "execution_count": null,
   "metadata": {},
   "outputs": [
    {
     "data": {
      "text/html": [
       "<div><style>\n",
       ".dataframe > thead > tr > th,\n",
       ".dataframe > tbody > tr > td {\n",
       "  text-align: right;\n",
       "  white-space: pre-wrap;\n",
       "}\n",
       "</style>\n",
       "<small>shape: (1_000, 30)</small><table border=\"1\" class=\"dataframe\"><thead><tr><th>data</th><th>uf</th><th>situacao_domicilio</th><th>idade</th><th>sexo</th><th>cor_raca</th><th>escolaridade</th><th>questao_estabelecimento_saude</th><th>questao_permaneceu_casa</th><th>questao_remedio_conta_propria</th><th>questao_remedio_orientacao_medica</th><th>questao_hospital_SUS</th><th>questao_hospital_privado</th><th>questao_internacao</th><th>questao_internacao_ajuda_respirar</th><th>questao_motivo_afastamento</th><th>questao_tempo_afastado_trab</th><th>questao_tipo_trabalho_realizado</th><th>faixa_rendimento</th><th>rendimento_aposentadoria_pensao</th><th>rendimento_bolsa_familia</th><th>rendimento_beneficios</th><th>auxlio_emergencia_covid</th><th>seguro_desemprego</th><th>tipo_domicilio</th><th>valor_pago_domicilio</th><th>sintoma_covid</th><th>teste_covid</th><th>tipo_teste</th><th>fator_risco_covid</th></tr><tr><td>date</td><td>str</td><td>str</td><td>i64</td><td>str</td><td>str</td><td>str</td><td>str</td><td>str</td><td>str</td><td>str</td><td>str</td><td>str</td><td>str</td><td>str</td><td>str</td><td>str</td><td>str</td><td>str</td><td>str</td><td>str</td><td>str</td><td>str</td><td>str</td><td>str</td><td>str</td><td>str</td><td>str</td><td>str</td><td>str</td></tr></thead><tbody><tr><td>2020-05-01</td><td>&quot;Não identifica…</td><td>&quot;Rural&quot;</td><td>9</td><td>&quot;Mulher&quot;</td><td>&quot;Parda&quot;</td><td>&quot;Fundamental in…</td><td>&quot;Não aplicável&quot;</td><td>&quot;Não aplicável&quot;</td><td>&quot;Não aplicável&quot;</td><td>&quot;Não aplicável&quot;</td><td>&quot;Não aplicável&quot;</td><td>&quot;Não aplicável&quot;</td><td>&quot;Não aplicável&quot;</td><td>&quot;Não aplicável&quot;</td><td>&quot;Não aplicável&quot;</td><td>&quot;Não aplicável&quot;</td><td>&quot;Não aplicável&quot;</td><td>&quot;Não aplicável&quot;</td><td>&quot;Não&quot;</td><td>&quot;Não&quot;</td><td>&quot;Não&quot;</td><td>&quot;Não&quot;</td><td>&quot;Não&quot;</td><td>&quot;Cedido por emp…</td><td>&quot;Não aplicável&quot;</td><td>&quot;Não aplicável&quot;</td><td>&quot;Não aplicável&quot;</td><td>&quot;Não Aplicável&quot;</td><td>&quot;Não Aplicável&quot;</td></tr><tr><td>2020-05-01</td><td>&quot;Não identifica…</td><td>&quot;Rural&quot;</td><td>1</td><td>&quot;Homem&quot;</td><td>&quot;Parda&quot;</td><td>&quot;Sem instrução&quot;</td><td>&quot;Não aplicável&quot;</td><td>&quot;Não aplicável&quot;</td><td>&quot;Não aplicável&quot;</td><td>&quot;Não aplicável&quot;</td><td>&quot;Não aplicável&quot;</td><td>&quot;Não aplicável&quot;</td><td>&quot;Não aplicável&quot;</td><td>&quot;Não aplicável&quot;</td><td>&quot;Não aplicável&quot;</td><td>&quot;Não aplicável&quot;</td><td>&quot;Não aplicável&quot;</td><td>&quot;Não aplicável&quot;</td><td>&quot;Não&quot;</td><td>&quot;Não&quot;</td><td>&quot;Não&quot;</td><td>&quot;Não&quot;</td><td>&quot;Não&quot;</td><td>&quot;Cedido por emp…</td><td>&quot;Não aplicável&quot;</td><td>&quot;Não aplicável&quot;</td><td>&quot;Não aplicável&quot;</td><td>&quot;Não Aplicável&quot;</td><td>&quot;Não Aplicável&quot;</td></tr><tr><td>2020-05-01</td><td>&quot;Não identifica…</td><td>&quot;Rural&quot;</td><td>63</td><td>&quot;Homem&quot;</td><td>&quot;Parda&quot;</td><td>&quot;Sem instrução&quot;</td><td>&quot;Não aplicável&quot;</td><td>&quot;Não aplicável&quot;</td><td>&quot;Não aplicável&quot;</td><td>&quot;Não aplicável&quot;</td><td>&quot;Não aplicável&quot;</td><td>&quot;Não aplicável&quot;</td><td>&quot;Não aplicável&quot;</td><td>&quot;Não aplicável&quot;</td><td>&quot;Não aplicável&quot;</td><td>&quot;Não aplicável&quot;</td><td>&quot;Não aplicável&quot;</td><td>&quot;Não aplicável&quot;</td><td>&quot;1300&quot;</td><td>&quot;Não&quot;</td><td>&quot;Não&quot;</td><td>&quot;Não&quot;</td><td>&quot;Não&quot;</td><td>&quot;Próprio - aind…</td><td>&quot;Não aplicável&quot;</td><td>&quot;Não aplicável&quot;</td><td>&quot;Não aplicável&quot;</td><td>&quot;Não Aplicável&quot;</td><td>&quot;Sim&quot;</td></tr><tr><td>2020-05-01</td><td>&quot;Não identifica…</td><td>&quot;Rural&quot;</td><td>60</td><td>&quot;Mulher&quot;</td><td>&quot;Branca&quot;</td><td>&quot;Sem instrução&quot;</td><td>&quot;Não aplicável&quot;</td><td>&quot;Não aplicável&quot;</td><td>&quot;Não aplicável&quot;</td><td>&quot;Não aplicável&quot;</td><td>&quot;Não aplicável&quot;</td><td>&quot;Não aplicável&quot;</td><td>&quot;Não aplicável&quot;</td><td>&quot;Não aplicável&quot;</td><td>&quot;Não aplicável&quot;</td><td>&quot;Não aplicável&quot;</td><td>&quot;Não aplicável&quot;</td><td>&quot;Não aplicável&quot;</td><td>&quot;1300&quot;</td><td>&quot;Não&quot;</td><td>&quot;Não&quot;</td><td>&quot;Não&quot;</td><td>&quot;Não&quot;</td><td>&quot;Próprio - aind…</td><td>&quot;Não aplicável&quot;</td><td>&quot;Não aplicável&quot;</td><td>&quot;Não aplicável&quot;</td><td>&quot;Não Aplicável&quot;</td><td>&quot;Sim&quot;</td></tr><tr><td>2020-05-01</td><td>&quot;Não identifica…</td><td>&quot;Rural&quot;</td><td>48</td><td>&quot;Homem&quot;</td><td>&quot;Parda&quot;</td><td>&quot;Fundamental in…</td><td>&quot;Não aplicável&quot;</td><td>&quot;Não aplicável&quot;</td><td>&quot;Não aplicável&quot;</td><td>&quot;Não aplicável&quot;</td><td>&quot;Não aplicável&quot;</td><td>&quot;Não aplicável&quot;</td><td>&quot;Não aplicável&quot;</td><td>&quot;Não aplicável&quot;</td><td>&quot;Não aplicável&quot;</td><td>&quot;Não aplicável&quot;</td><td>&quot;Agricultor, cr…</td><td>&quot;801 - 1.600&quot;</td><td>&quot;1045&quot;</td><td>&quot;Não&quot;</td><td>&quot;Não&quot;</td><td>&quot;1200&quot;</td><td>&quot;Não&quot;</td><td>&quot;Cedido por emp…</td><td>&quot;Não aplicável&quot;</td><td>&quot;Não aplicável&quot;</td><td>&quot;Não aplicável&quot;</td><td>&quot;Não Aplicável&quot;</td><td>&quot;Não Aplicável&quot;</td></tr><tr><td>2020-05-01</td><td>&quot;Não identifica…</td><td>&quot;Rural&quot;</td><td>46</td><td>&quot;Mulher&quot;</td><td>&quot;Parda&quot;</td><td>&quot;Fundamental in…</td><td>&quot;Não aplicável&quot;</td><td>&quot;Não aplicável&quot;</td><td>&quot;Não aplicável&quot;</td><td>&quot;Não aplicável&quot;</td><td>&quot;Não aplicável&quot;</td><td>&quot;Não aplicável&quot;</td><td>&quot;Não aplicável&quot;</td><td>&quot;Não aplicável&quot;</td><td>&quot;Não aplicável&quot;</td><td>&quot;Não aplicável&quot;</td><td>&quot;Não aplicável&quot;</td><td>&quot;Não aplicável&quot;</td><td>&quot;1045&quot;</td><td>&quot;Não&quot;</td><td>&quot;Não&quot;</td><td>&quot;1200&quot;</td><td>&quot;Não&quot;</td><td>&quot;Cedido por emp…</td><td>&quot;Não aplicável&quot;</td><td>&quot;Não aplicável&quot;</td><td>&quot;Não aplicável&quot;</td><td>&quot;Não Aplicável&quot;</td><td>&quot;Não Aplicável&quot;</td></tr><tr><td>2020-05-01</td><td>&quot;Não identifica…</td><td>&quot;Rural&quot;</td><td>18</td><td>&quot;Homem&quot;</td><td>&quot;Branca&quot;</td><td>&quot;Médio completo…</td><td>&quot;Não aplicável&quot;</td><td>&quot;Não aplicável&quot;</td><td>&quot;Não aplicável&quot;</td><td>&quot;Não aplicável&quot;</td><td>&quot;Não aplicável&quot;</td><td>&quot;Não aplicável&quot;</td><td>&quot;Não aplicável&quot;</td><td>&quot;Não aplicável&quot;</td><td>&quot;Não aplicável&quot;</td><td>&quot;Não aplicável&quot;</td><td>&quot;Não aplicável&quot;</td><td>&quot;Não aplicável&quot;</td><td>&quot;1045&quot;</td><td>&quot;Não&quot;</td><td>&quot;Não&quot;</td><td>&quot;1200&quot;</td><td>&quot;Não&quot;</td><td>&quot;Cedido por emp…</td><td>&quot;Não aplicável&quot;</td><td>&quot;Não aplicável&quot;</td><td>&quot;Não aplicável&quot;</td><td>&quot;Não Aplicável&quot;</td><td>&quot;Não Aplicável&quot;</td></tr><tr><td>2020-05-01</td><td>&quot;Não identifica…</td><td>&quot;Rural&quot;</td><td>80</td><td>&quot;Homem&quot;</td><td>&quot;Parda&quot;</td><td>&quot;Sem instrução&quot;</td><td>&quot;Não aplicável&quot;</td><td>&quot;Não aplicável&quot;</td><td>&quot;Não aplicável&quot;</td><td>&quot;Não aplicável&quot;</td><td>&quot;Não aplicável&quot;</td><td>&quot;Não aplicável&quot;</td><td>&quot;Não aplicável&quot;</td><td>&quot;Não aplicável&quot;</td><td>&quot;Não aplicável&quot;</td><td>&quot;Não aplicável&quot;</td><td>&quot;Não aplicável&quot;</td><td>&quot;Não aplicável&quot;</td><td>&quot;1045&quot;</td><td>&quot;Não&quot;</td><td>&quot;Não&quot;</td><td>&quot;1200&quot;</td><td>&quot;Não&quot;</td><td>&quot;Cedido por emp…</td><td>&quot;Não aplicável&quot;</td><td>&quot;Não aplicável&quot;</td><td>&quot;Não aplicável&quot;</td><td>&quot;Não Aplicável&quot;</td><td>&quot;Sim&quot;</td></tr><tr><td>2020-05-01</td><td>&quot;Não identifica…</td><td>&quot;Rural&quot;</td><td>50</td><td>&quot;Homem&quot;</td><td>&quot;Branca&quot;</td><td>&quot;Fundamental in…</td><td>&quot;Não&quot;</td><td>&quot;Sim&quot;</td><td>&quot;Não&quot;</td><td>&quot;Não&quot;</td><td>&quot;Não aplicável&quot;</td><td>&quot;Não aplicável&quot;</td><td>&quot;Não aplicável&quot;</td><td>&quot;Não aplicável&quot;</td><td>&quot;Não aplicável&quot;</td><td>&quot;Não aplicável&quot;</td><td>&quot;Agricultor, cr…</td><td>&quot;1.601 - 3.000&quot;</td><td>&quot;Não&quot;</td><td>&quot;Não&quot;</td><td>&quot;Não&quot;</td><td>&quot;Não&quot;</td><td>&quot;Não&quot;</td><td>&quot;Cedido por emp…</td><td>&quot;Não aplicável&quot;</td><td>&quot;Sim&quot;</td><td>&quot;Não aplicável&quot;</td><td>&quot;Não Aplicável&quot;</td><td>&quot;Não Aplicável&quot;</td></tr><tr><td>2020-05-01</td><td>&quot;Não identifica…</td><td>&quot;Rural&quot;</td><td>75</td><td>&quot;Homem&quot;</td><td>&quot;Branca&quot;</td><td>&quot;Fundamental in…</td><td>&quot;Não aplicável&quot;</td><td>&quot;Não aplicável&quot;</td><td>&quot;Não aplicável&quot;</td><td>&quot;Não aplicável&quot;</td><td>&quot;Não aplicável&quot;</td><td>&quot;Não aplicável&quot;</td><td>&quot;Não aplicável&quot;</td><td>&quot;Não aplicável&quot;</td><td>&quot;Não aplicável&quot;</td><td>&quot;Não aplicável&quot;</td><td>&quot;Não aplicável&quot;</td><td>&quot;Não aplicável&quot;</td><td>&quot;2090&quot;</td><td>&quot;Não&quot;</td><td>&quot;Não&quot;</td><td>&quot;Não&quot;</td><td>&quot;Não&quot;</td><td>&quot;Próprio - já p…</td><td>&quot;Não aplicável&quot;</td><td>&quot;Não aplicável&quot;</td><td>&quot;Não aplicável&quot;</td><td>&quot;Não Aplicável&quot;</td><td>&quot;Sim&quot;</td></tr><tr><td>2020-05-01</td><td>&quot;Não identifica…</td><td>&quot;Rural&quot;</td><td>72</td><td>&quot;Mulher&quot;</td><td>&quot;Parda&quot;</td><td>&quot;Sem instrução&quot;</td><td>&quot;Não aplicável&quot;</td><td>&quot;Não aplicável&quot;</td><td>&quot;Não aplicável&quot;</td><td>&quot;Não aplicável&quot;</td><td>&quot;Não aplicável&quot;</td><td>&quot;Não aplicável&quot;</td><td>&quot;Não aplicável&quot;</td><td>&quot;Não aplicável&quot;</td><td>&quot;Não aplicável&quot;</td><td>&quot;Não aplicável&quot;</td><td>&quot;Não aplicável&quot;</td><td>&quot;Não aplicável&quot;</td><td>&quot;2090&quot;</td><td>&quot;Não&quot;</td><td>&quot;Não&quot;</td><td>&quot;Não&quot;</td><td>&quot;Não&quot;</td><td>&quot;Próprio - já p…</td><td>&quot;Não aplicável&quot;</td><td>&quot;Não aplicável&quot;</td><td>&quot;Não aplicável&quot;</td><td>&quot;Não Aplicável&quot;</td><td>&quot;Sim&quot;</td></tr><tr><td>2020-05-01</td><td>&quot;Não identifica…</td><td>&quot;Rural&quot;</td><td>48</td><td>&quot;Homem&quot;</td><td>&quot;Parda&quot;</td><td>&quot;Médio completo…</td><td>&quot;Não aplicável&quot;</td><td>&quot;Não aplicável&quot;</td><td>&quot;Não aplicável&quot;</td><td>&quot;Não aplicável&quot;</td><td>&quot;Não aplicável&quot;</td><td>&quot;Não aplicável&quot;</td><td>&quot;Não aplicável&quot;</td><td>&quot;Não aplicável&quot;</td><td>&quot;Não aplicável&quot;</td><td>&quot;Não aplicável&quot;</td><td>&quot;Agricultor, cr…</td><td>&quot;801 - 1.600&quot;</td><td>&quot;2090&quot;</td><td>&quot;Não&quot;</td><td>&quot;Não&quot;</td><td>&quot;Não&quot;</td><td>&quot;Não&quot;</td><td>&quot;Próprio - já p…</td><td>&quot;Não aplicável&quot;</td><td>&quot;Não aplicável&quot;</td><td>&quot;Não aplicável&quot;</td><td>&quot;Não Aplicável&quot;</td><td>&quot;Não Aplicável&quot;</td></tr><tr><td>&hellip;</td><td>&hellip;</td><td>&hellip;</td><td>&hellip;</td><td>&hellip;</td><td>&hellip;</td><td>&hellip;</td><td>&hellip;</td><td>&hellip;</td><td>&hellip;</td><td>&hellip;</td><td>&hellip;</td><td>&hellip;</td><td>&hellip;</td><td>&hellip;</td><td>&hellip;</td><td>&hellip;</td><td>&hellip;</td><td>&hellip;</td><td>&hellip;</td><td>&hellip;</td><td>&hellip;</td><td>&hellip;</td><td>&hellip;</td><td>&hellip;</td><td>&hellip;</td><td>&hellip;</td><td>&hellip;</td><td>&hellip;</td><td>&hellip;</td></tr><tr><td>2020-05-01</td><td>&quot;Não identifica…</td><td>&quot;Urbana&quot;</td><td>38</td><td>&quot;Homem&quot;</td><td>&quot;Branca&quot;</td><td>&quot;Superior compl…</td><td>&quot;Não aplicável&quot;</td><td>&quot;Não aplicável&quot;</td><td>&quot;Não aplicável&quot;</td><td>&quot;Não aplicável&quot;</td><td>&quot;Não aplicável&quot;</td><td>&quot;Não aplicável&quot;</td><td>&quot;Não aplicável&quot;</td><td>&quot;Não aplicável&quot;</td><td>&quot;Não aplicável&quot;</td><td>&quot;Não aplicável&quot;</td><td>&quot;Não aplicável&quot;</td><td>&quot;Não aplicável&quot;</td><td>&quot;Não&quot;</td><td>&quot;Não&quot;</td><td>&quot;Não&quot;</td><td>&quot;Não&quot;</td><td>&quot;Não&quot;</td><td>&quot;Alugado&quot;</td><td>&quot;950&quot;</td><td>&quot;Não aplicável&quot;</td><td>&quot;Não aplicável&quot;</td><td>&quot;Não Aplicável&quot;</td><td>&quot;Não Aplicável&quot;</td></tr><tr><td>2020-05-01</td><td>&quot;Não identifica…</td><td>&quot;Urbana&quot;</td><td>32</td><td>&quot;Mulher&quot;</td><td>&quot;Parda&quot;</td><td>&quot;Superior compl…</td><td>&quot;Não aplicável&quot;</td><td>&quot;Não aplicável&quot;</td><td>&quot;Não aplicável&quot;</td><td>&quot;Não aplicável&quot;</td><td>&quot;Não aplicável&quot;</td><td>&quot;Não aplicável&quot;</td><td>&quot;Não aplicável&quot;</td><td>&quot;Não aplicável&quot;</td><td>&quot;Não aplicável&quot;</td><td>&quot;Não aplicável&quot;</td><td>&quot;Outra profissã…</td><td>&quot;1.601 - 3.000&quot;</td><td>&quot;Não&quot;</td><td>&quot;Não&quot;</td><td>&quot;Não&quot;</td><td>&quot;Não&quot;</td><td>&quot;Não&quot;</td><td>&quot;Alugado&quot;</td><td>&quot;950&quot;</td><td>&quot;Não aplicável&quot;</td><td>&quot;Não aplicável&quot;</td><td>&quot;Não Aplicável&quot;</td><td>&quot;Não Aplicável&quot;</td></tr><tr><td>2020-05-01</td><td>&quot;Não identifica…</td><td>&quot;Urbana&quot;</td><td>1</td><td>&quot;Mulher&quot;</td><td>&quot;Branca&quot;</td><td>&quot;Sem instrução&quot;</td><td>&quot;Não aplicável&quot;</td><td>&quot;Não aplicável&quot;</td><td>&quot;Não aplicável&quot;</td><td>&quot;Não aplicável&quot;</td><td>&quot;Não aplicável&quot;</td><td>&quot;Não aplicável&quot;</td><td>&quot;Não aplicável&quot;</td><td>&quot;Não aplicável&quot;</td><td>&quot;Não aplicável&quot;</td><td>&quot;Não aplicável&quot;</td><td>&quot;Não aplicável&quot;</td><td>&quot;Não aplicável&quot;</td><td>&quot;Não&quot;</td><td>&quot;Não&quot;</td><td>&quot;Não&quot;</td><td>&quot;Não&quot;</td><td>&quot;Não&quot;</td><td>&quot;Alugado&quot;</td><td>&quot;950&quot;</td><td>&quot;Não aplicável&quot;</td><td>&quot;Não aplicável&quot;</td><td>&quot;Não Aplicável&quot;</td><td>&quot;Não Aplicável&quot;</td></tr><tr><td>2020-05-01</td><td>&quot;Não identifica…</td><td>&quot;Urbana&quot;</td><td>41</td><td>&quot;Mulher&quot;</td><td>&quot;Branca&quot;</td><td>&quot;Superior compl…</td><td>&quot;Não aplicável&quot;</td><td>&quot;Não aplicável&quot;</td><td>&quot;Não aplicável&quot;</td><td>&quot;Não aplicável&quot;</td><td>&quot;Não aplicável&quot;</td><td>&quot;Não aplicável&quot;</td><td>&quot;Não aplicável&quot;</td><td>&quot;Não aplicável&quot;</td><td>&quot;Não aplicável&quot;</td><td>&quot;Não aplicável&quot;</td><td>&quot;Técnico, profi…</td><td>&quot;3.001 - 10.000…</td><td>&quot;Não&quot;</td><td>&quot;Não&quot;</td><td>&quot;Não&quot;</td><td>&quot;Não&quot;</td><td>&quot;Não&quot;</td><td>&quot;Alugado&quot;</td><td>&quot;800&quot;</td><td>&quot;Não aplicável&quot;</td><td>&quot;Não aplicável&quot;</td><td>&quot;Não Aplicável&quot;</td><td>&quot;Não Aplicável&quot;</td></tr><tr><td>2020-05-01</td><td>&quot;Não identifica…</td><td>&quot;Urbana&quot;</td><td>22</td><td>&quot;Homem&quot;</td><td>&quot;Branca&quot;</td><td>&quot;Superior incom…</td><td>&quot;Não aplicável&quot;</td><td>&quot;Não aplicável&quot;</td><td>&quot;Não aplicável&quot;</td><td>&quot;Não aplicável&quot;</td><td>&quot;Não aplicável&quot;</td><td>&quot;Não aplicável&quot;</td><td>&quot;Não aplicável&quot;</td><td>&quot;Não aplicável&quot;</td><td>&quot;Não aplicável&quot;</td><td>&quot;Não aplicável&quot;</td><td>&quot;Técnico, profi…</td><td>&quot;801 - 1.600&quot;</td><td>&quot;Não&quot;</td><td>&quot;Não&quot;</td><td>&quot;Não&quot;</td><td>&quot;Não&quot;</td><td>&quot;Não&quot;</td><td>&quot;Alugado&quot;</td><td>&quot;800&quot;</td><td>&quot;Não aplicável&quot;</td><td>&quot;Não aplicável&quot;</td><td>&quot;Não Aplicável&quot;</td><td>&quot;Não Aplicável&quot;</td></tr><tr><td>2020-05-01</td><td>&quot;Não identifica…</td><td>&quot;Urbana&quot;</td><td>3</td><td>&quot;Homem&quot;</td><td>&quot;Branca&quot;</td><td>&quot;Sem instrução&quot;</td><td>&quot;Não aplicável&quot;</td><td>&quot;Não aplicável&quot;</td><td>&quot;Não aplicável&quot;</td><td>&quot;Não aplicável&quot;</td><td>&quot;Não aplicável&quot;</td><td>&quot;Não aplicável&quot;</td><td>&quot;Não aplicável&quot;</td><td>&quot;Não aplicável&quot;</td><td>&quot;Não aplicável&quot;</td><td>&quot;Não aplicável&quot;</td><td>&quot;Não aplicável&quot;</td><td>&quot;Não aplicável&quot;</td><td>&quot;Não&quot;</td><td>&quot;Não&quot;</td><td>&quot;Não&quot;</td><td>&quot;Não&quot;</td><td>&quot;Não&quot;</td><td>&quot;Alugado&quot;</td><td>&quot;800&quot;</td><td>&quot;Não aplicável&quot;</td><td>&quot;Não aplicável&quot;</td><td>&quot;Não Aplicável&quot;</td><td>&quot;Não Aplicável&quot;</td></tr><tr><td>2020-05-01</td><td>&quot;Não identifica…</td><td>&quot;Urbana&quot;</td><td>3</td><td>&quot;Homem&quot;</td><td>&quot;Branca&quot;</td><td>&quot;Sem instrução&quot;</td><td>&quot;Não aplicável&quot;</td><td>&quot;Não aplicável&quot;</td><td>&quot;Não aplicável&quot;</td><td>&quot;Não aplicável&quot;</td><td>&quot;Não aplicável&quot;</td><td>&quot;Não aplicável&quot;</td><td>&quot;Não aplicável&quot;</td><td>&quot;Não aplicável&quot;</td><td>&quot;Não aplicável&quot;</td><td>&quot;Não aplicável&quot;</td><td>&quot;Não aplicável&quot;</td><td>&quot;Não aplicável&quot;</td><td>&quot;Não&quot;</td><td>&quot;Não&quot;</td><td>&quot;Não&quot;</td><td>&quot;Não&quot;</td><td>&quot;Não&quot;</td><td>&quot;Alugado&quot;</td><td>&quot;800&quot;</td><td>&quot;Não aplicável&quot;</td><td>&quot;Não aplicável&quot;</td><td>&quot;Não Aplicável&quot;</td><td>&quot;Não Aplicável&quot;</td></tr><tr><td>2020-05-01</td><td>&quot;Não identifica…</td><td>&quot;Urbana&quot;</td><td>81</td><td>&quot;Homem&quot;</td><td>&quot;Branca&quot;</td><td>&quot;Sem instrução&quot;</td><td>&quot;Não aplicável&quot;</td><td>&quot;Não aplicável&quot;</td><td>&quot;Não aplicável&quot;</td><td>&quot;Não aplicável&quot;</td><td>&quot;Não aplicável&quot;</td><td>&quot;Não aplicável&quot;</td><td>&quot;Não aplicável&quot;</td><td>&quot;Não aplicável&quot;</td><td>&quot;Não aplicável&quot;</td><td>&quot;Não aplicável&quot;</td><td>&quot;Não aplicável&quot;</td><td>&quot;Não aplicável&quot;</td><td>&quot;1045&quot;</td><td>&quot;Não&quot;</td><td>&quot;Não&quot;</td><td>&quot;600&quot;</td><td>&quot;Não&quot;</td><td>&quot;Próprio - aind…</td><td>&quot;Não aplicável&quot;</td><td>&quot;Não aplicável&quot;</td><td>&quot;Não aplicável&quot;</td><td>&quot;Não Aplicável&quot;</td><td>&quot;Sim&quot;</td></tr><tr><td>2020-05-01</td><td>&quot;Não identifica…</td><td>&quot;Urbana&quot;</td><td>74</td><td>&quot;Mulher&quot;</td><td>&quot;Parda&quot;</td><td>&quot;Sem instrução&quot;</td><td>&quot;Não aplicável&quot;</td><td>&quot;Não aplicável&quot;</td><td>&quot;Não aplicável&quot;</td><td>&quot;Não aplicável&quot;</td><td>&quot;Não aplicável&quot;</td><td>&quot;Não aplicável&quot;</td><td>&quot;Não aplicável&quot;</td><td>&quot;Não aplicável&quot;</td><td>&quot;Estava em quar…</td><td>&quot;De 1 mês a men…</td><td>&quot;Empregado domé…</td><td>&quot;301 - 600&quot;</td><td>&quot;1045&quot;</td><td>&quot;Não&quot;</td><td>&quot;Não&quot;</td><td>&quot;600&quot;</td><td>&quot;Não&quot;</td><td>&quot;Próprio - aind…</td><td>&quot;Não aplicável&quot;</td><td>&quot;Não aplicável&quot;</td><td>&quot;Não aplicável&quot;</td><td>&quot;Não Aplicável&quot;</td><td>&quot;Sim&quot;</td></tr><tr><td>2020-05-01</td><td>&quot;Não identifica…</td><td>&quot;Rural&quot;</td><td>38</td><td>&quot;Homem&quot;</td><td>&quot;Preta&quot;</td><td>&quot;Sem instrução&quot;</td><td>&quot;Não&quot;</td><td>&quot;Não&quot;</td><td>&quot;Não&quot;</td><td>&quot;Não&quot;</td><td>&quot;Não aplicável&quot;</td><td>&quot;Não aplicável&quot;</td><td>&quot;Não aplicável&quot;</td><td>&quot;Não aplicável&quot;</td><td>&quot;Não aplicável&quot;</td><td>&quot;Não aplicável&quot;</td><td>&quot;Empregado domé…</td><td>&quot;801 - 1.600&quot;</td><td>&quot;Não&quot;</td><td>&quot;Não&quot;</td><td>&quot;Não&quot;</td><td>&quot;Não&quot;</td><td>&quot;Não&quot;</td><td>&quot;Cedido por emp…</td><td>&quot;Não aplicável&quot;</td><td>&quot;Sim&quot;</td><td>&quot;Não aplicável&quot;</td><td>&quot;Não Aplicável&quot;</td><td>&quot;Não Aplicável&quot;</td></tr><tr><td>2020-05-01</td><td>&quot;Não identifica…</td><td>&quot;Rural&quot;</td><td>36</td><td>&quot;Homem&quot;</td><td>&quot;Parda&quot;</td><td>&quot;Médio incomple…</td><td>&quot;Não aplicável&quot;</td><td>&quot;Não aplicável&quot;</td><td>&quot;Não aplicável&quot;</td><td>&quot;Não aplicável&quot;</td><td>&quot;Não aplicável&quot;</td><td>&quot;Não aplicável&quot;</td><td>&quot;Não aplicável&quot;</td><td>&quot;Não aplicável&quot;</td><td>&quot;Não aplicável&quot;</td><td>&quot;Não aplicável&quot;</td><td>&quot;Auxiliar da ag…</td><td>&quot;801 - 1.600&quot;</td><td>&quot;Não&quot;</td><td>&quot;Não&quot;</td><td>&quot;Não&quot;</td><td>&quot;Não&quot;</td><td>&quot;Não&quot;</td><td>&quot;Cedido de outr…</td><td>&quot;Não aplicável&quot;</td><td>&quot;Não aplicável&quot;</td><td>&quot;Não aplicável&quot;</td><td>&quot;Não Aplicável&quot;</td><td>&quot;Não Aplicável&quot;</td></tr><tr><td>2020-05-01</td><td>&quot;Não identifica…</td><td>&quot;Rural&quot;</td><td>82</td><td>&quot;Homem&quot;</td><td>&quot;Parda&quot;</td><td>&quot;Médio incomple…</td><td>&quot;Não aplicável&quot;</td><td>&quot;Não aplicável&quot;</td><td>&quot;Não aplicável&quot;</td><td>&quot;Não aplicável&quot;</td><td>&quot;Não aplicável&quot;</td><td>&quot;Não aplicável&quot;</td><td>&quot;Não aplicável&quot;</td><td>&quot;Não aplicável&quot;</td><td>&quot;Não aplicável&quot;</td><td>&quot;Não aplicável&quot;</td><td>&quot;Não aplicável&quot;</td><td>&quot;Não aplicável&quot;</td><td>&quot;Não&quot;</td><td>&quot;Não&quot;</td><td>&quot;Não&quot;</td><td>&quot;Não&quot;</td><td>&quot;Não&quot;</td><td>&quot;Cedido por fam…</td><td>&quot;Não aplicável&quot;</td><td>&quot;Não aplicável&quot;</td><td>&quot;Não aplicável&quot;</td><td>&quot;Não Aplicável&quot;</td><td>&quot;Sim&quot;</td></tr></tbody></table></div>"
      ],
      "text/plain": [
       "shape: (1_000, 30)\n",
       "┌────────────┬────────────┬────────────┬───────┬───┬───────────┬───────────┬───────────┬───────────┐\n",
       "│ data       ┆ uf         ┆ situacao_d ┆ idade ┆ … ┆ sintoma_c ┆ teste_cov ┆ tipo_test ┆ fator_ris │\n",
       "│ ---        ┆ ---        ┆ omicilio   ┆ ---   ┆   ┆ ovid      ┆ id        ┆ e         ┆ co_covid  │\n",
       "│ date       ┆ str        ┆ ---        ┆ i64   ┆   ┆ ---       ┆ ---       ┆ ---       ┆ ---       │\n",
       "│            ┆            ┆ str        ┆       ┆   ┆ str       ┆ str       ┆ str       ┆ str       │\n",
       "╞════════════╪════════════╪════════════╪═══════╪═══╪═══════════╪═══════════╪═══════════╪═══════════╡\n",
       "│ 2020-05-01 ┆ Não identi ┆ Rural      ┆ 9     ┆ … ┆ Não       ┆ Não       ┆ Não       ┆ Não       │\n",
       "│            ┆ ficado     ┆            ┆       ┆   ┆ aplicável ┆ aplicável ┆ Aplicável ┆ Aplicável │\n",
       "│ 2020-05-01 ┆ Não identi ┆ Rural      ┆ 1     ┆ … ┆ Não       ┆ Não       ┆ Não       ┆ Não       │\n",
       "│            ┆ ficado     ┆            ┆       ┆   ┆ aplicável ┆ aplicável ┆ Aplicável ┆ Aplicável │\n",
       "│ 2020-05-01 ┆ Não identi ┆ Rural      ┆ 63    ┆ … ┆ Não       ┆ Não       ┆ Não       ┆ Sim       │\n",
       "│            ┆ ficado     ┆            ┆       ┆   ┆ aplicável ┆ aplicável ┆ Aplicável ┆           │\n",
       "│ 2020-05-01 ┆ Não identi ┆ Rural      ┆ 60    ┆ … ┆ Não       ┆ Não       ┆ Não       ┆ Sim       │\n",
       "│            ┆ ficado     ┆            ┆       ┆   ┆ aplicável ┆ aplicável ┆ Aplicável ┆           │\n",
       "│ …          ┆ …          ┆ …          ┆ …     ┆ … ┆ …         ┆ …         ┆ …         ┆ …         │\n",
       "│ 2020-05-01 ┆ Não identi ┆ Urbana     ┆ 74    ┆ … ┆ Não       ┆ Não       ┆ Não       ┆ Sim       │\n",
       "│            ┆ ficado     ┆            ┆       ┆   ┆ aplicável ┆ aplicável ┆ Aplicável ┆           │\n",
       "│ 2020-05-01 ┆ Não identi ┆ Rural      ┆ 38    ┆ … ┆ Sim       ┆ Não       ┆ Não       ┆ Não       │\n",
       "│            ┆ ficado     ┆            ┆       ┆   ┆           ┆ aplicável ┆ Aplicável ┆ Aplicável │\n",
       "│ 2020-05-01 ┆ Não identi ┆ Rural      ┆ 36    ┆ … ┆ Não       ┆ Não       ┆ Não       ┆ Não       │\n",
       "│            ┆ ficado     ┆            ┆       ┆   ┆ aplicável ┆ aplicável ┆ Aplicável ┆ Aplicável │\n",
       "│ 2020-05-01 ┆ Não identi ┆ Rural      ┆ 82    ┆ … ┆ Não       ┆ Não       ┆ Não       ┆ Sim       │\n",
       "│            ┆ ficado     ┆            ┆       ┆   ┆ aplicável ┆ aplicável ┆ Aplicável ┆           │\n",
       "└────────────┴────────────┴────────────┴───────┴───┴───────────┴───────────┴───────────┴───────────┘"
      ]
     },
     "execution_count": 12,
     "metadata": {},
     "output_type": "execute_result"
    }
   ],
   "source": [
    "df"
   ]
  },
  {
   "cell_type": "code",
   "execution_count": null,
   "metadata": {},
   "outputs": [],
   "source": [
    "\n"
   ]
  },
  {
   "cell_type": "code",
   "execution_count": null,
   "metadata": {},
   "outputs": [],
   "source": []
  }
 ],
 "metadata": {
  "kernelspec": {
   "display_name": ".env",
   "language": "python",
   "name": "python3"
  },
  "language_info": {
   "codemirror_mode": {
    "name": "ipython",
    "version": 3
   },
   "file_extension": ".py",
   "mimetype": "text/x-python",
   "name": "python",
   "nbconvert_exporter": "python",
   "pygments_lexer": "ipython3",
   "version": "3.8.10"
  }
 },
 "nbformat": 4,
 "nbformat_minor": 2
}
