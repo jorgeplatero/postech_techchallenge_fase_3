{
 "cells": [
  {
   "cell_type": "markdown",
   "metadata": {},
   "source": [
    "# O PROBLEMA\n",
    "\n",
    "Imagine agora que você foi contratado(a) como Expert em Data Analytics por um grande hospital para entender como foi o comportamento da população na época da pandemia da COVID-19 e quais indicadores seriam importantes para o planejamento, caso haja um novo surto da doença.\n",
    "\n",
    "Apesar de ser contratado(a) agora, a sua área observou que a utilização do estudo do PNAD-COVID 19 do IBGE seria uma ótima base para termos boas respostas ao problema proposto, pois são dados confiáveis.Porém, não será necessário utilizar todas as perguntas realizadas na pesquisa para enxergar todas as oportunidades ali postas.\n",
    "\n",
    "É sempre bom ressaltar que há dados triviais que precisam estar no projeto, pois auxiliam muito na análise dos dados:\n",
    "\n",
    "## PNAD-COVID-19 do IBGE\n",
    "\n",
    "O Head de Dados pediu para que você entrasse na base de dados do PNAD-COVID-19 do IBGE e organizasse esta base para análise, utilizando Banco de Dados em Nuvem e trazendo as seguintes características:\n",
    "\n",
    "- a. Utilização de no máximo 20 questionamentos realizados na pesquisa;\n",
    "- b. Utilizar 3 meses para construção da solução;\n",
    "- c. Caracterização dos sintomas clínicos da população;\n",
    "- d. Comportamento da população na época da COVID-19;\n",
    "- e. Características econômicas da Sociedade;\n",
    "\n",
    "Seu objetivo será trazer uma breve análise dessas informações, como foi a organização do banco, as perguntas selecionadas para a resposta do problema e quais seriam as principais ações que o hospital deverá tomar em caso de um novo surto de COVID-19.\n",
    "\n",
    "- Dica: Leiam com atenção a base de dados e toda a documentação que o site o PNAD – Covid19 traz, principalmente os dicionários, que ajudam e muito no entendimento da Base de Dados.\n",
    "- Dica 2: Utilizem o que já foi ensinado e consolidado nas outras fases para apresentar a resolução do projeto.\n",
    "\n",
    "Lembre-se de que você poderá apresentar o desenvolvimento do seu projeto durante as lives com docentes. Essa é uma boa oportunidade para discutir sobre as dificuldades encontradas e pegar dicas valiosas com especialistas e colegas de turma.\n",
    "\n",
    "Link para a base: https://www.ibge.gov.br/estatisticas/investigacoes-experimentais/estatisticas-experimentais/27946-divulgacao-semanal-pnadcovid1?t=downloads&utm_source=covid19&utm_medium=hotsite&utm_campaign=covid_19"
   ]
  },
  {
   "cell_type": "markdown",
   "metadata": {},
   "source": [
    "### Importando bibliotecas"
   ]
  },
  {
   "cell_type": "code",
   "execution_count": 2,
   "metadata": {},
   "outputs": [],
   "source": [
    "import warnings \n",
    "warnings.filterwarnings(action = 'ignore')"
   ]
  },
  {
   "cell_type": "code",
   "execution_count": 3,
   "metadata": {},
   "outputs": [],
   "source": [
    "from sqlalchemy import create_engine\n",
    "from sqlalchemy.sql import text\n",
    "from pyspark.sql import SparkSession\n",
    "import findspark\n",
    "import os\n",
    "import pandas as pd\n",
    "import polars as pl"
   ]
  },
  {
   "cell_type": "markdown",
   "metadata": {},
   "source": [
    "### Conectando ao MySQL"
   ]
  },
  {
   "cell_type": "code",
   "execution_count": 4,
   "metadata": {},
   "outputs": [],
   "source": [
    "def mysql_connection(host, user, passwd, database=None):\n",
    "    engine = create_engine(f'mysql+pymysql://{user}:{passwd}@{host}/{database}')\n",
    "    return engine.connect()\n",
    "\n",
    "mysql = mysql_connection('127.0.0.1', 'root', 'admin', 'pnad_covid')"
   ]
  },
  {
   "cell_type": "code",
   "execution_count": 5,
   "metadata": {},
   "outputs": [
    {
     "name": "stdout",
     "output_type": "stream",
     "text": [
      "(datetime.date(2020, 9, 1), 'Espírito Santo', 'Urbana', 84, 'Homem', 'Parda', 'Fundamental incompleto', 'Não aplicável', 'Não aplicável', 'Não aplicável', 'Não aplicável', 'Não aplicável', 'Não aplicável', 'Não aplicável', 'Não aplicável', 'Não aplicável', 'Não aplicável', 'Não aplicável', 'Não aplicável', 'Não', 'Não', '1045', '600', 'Não', 'Próprio - já pago ', 'Não aplicável', 'Não aplicável', 'Não', 'Não aplicável', 'Sim')\n",
      "(datetime.date(2020, 9, 1), 'Não identificado', 'Urbana', 49, 'Homem', 'Branca', 'Superior completo', 'Não aplicável', 'Não aplicável', 'Não aplicável', 'Não aplicável', 'Não aplicável', 'Não aplicável', 'Não aplicável', 'Não aplicável', 'Não aplicável', 'Não aplicável', 'Artesão, costureiro e sapateiro', '801 - 1.600', '800', 'Não', 'Não', 'Não', 'Não', 'Próprio - já pago ', 'Não aplicável', 'Não aplicável', 'Não', 'Não aplicável', 'Sim')\n",
      "(datetime.date(2020, 9, 1), 'Não identificado', 'Urbana', 47, 'Mulher', 'Branca', 'Médio completo', 'Não aplicável', 'Não aplicável', 'Não aplicável', 'Não aplicável', 'Não aplicável', 'Não aplicável', 'Não aplicável', 'Não aplicável', 'Não aplicável', 'Não aplicável', 'Auxiliar de escritório, escriturário', '3.001 - 10.000', 'Não', 'Não', 'Não', 'Não', 'Não', 'Próprio - ainda pagando', 'Não aplicável', 'Não aplicável', 'Não', 'Não aplicável', 'Não aplicável')\n",
      "(datetime.date(2020, 9, 1), 'Rio Grande do Sul', 'Rural', 23, 'Mulher', 'Parda', 'Fundamental incompleto', 'Não aplicável', 'Não aplicável', 'Não aplicável', 'Não aplicável', 'Não aplicável', 'Não aplicável', 'Não aplicável', 'Não aplicável', 'Não aplicável', 'Não aplicável', 'Não aplicável', 'Não aplicável', 'Não', 'Não', '1045', '600', 'Não', 'Próprio - já pago ', 'Não aplicável', 'Não aplicável', 'Não', 'Não aplicável', 'Sim')\n",
      "(datetime.date(2020, 9, 1), 'Não identificado', 'Urbana', 34, 'Mulher', 'Parda', 'Fundamental incompleto', 'Não aplicável', 'Não aplicável', 'Não aplicável', 'Não aplicável', 'Não aplicável', 'Não aplicável', 'Não aplicável', 'Não aplicável', 'Não aplicável', 'Não aplicável', 'Não aplicável', 'Não aplicável', 'Não', 'Não', 'Não', '1200', 'Não', 'Próprio - já pago ', 'Não aplicável', 'Não aplicável', 'Não', 'Não aplicável', 'Não aplicável')\n"
     ]
    }
   ],
   "source": [
    "statement = text('SELECT * FROM pnad_covid_view LIMIT 5')\n",
    "response = mysql.execute(statement)\n",
    "for row in response:\n",
    "        print(row)"
   ]
  },
  {
   "cell_type": "markdown",
   "metadata": {},
   "source": [
    "### Criando sessão Spark"
   ]
  },
  {
   "cell_type": "code",
   "execution_count": 6,
   "metadata": {},
   "outputs": [],
   "source": [
    "os.environ['SPARK_HOME'] = '/opt/spark/'\n",
    "findspark.init()"
   ]
  },
  {
   "cell_type": "code",
   "execution_count": 7,
   "metadata": {},
   "outputs": [
    {
     "name": "stderr",
     "output_type": "stream",
     "text": [
      "23/10/24 19:12:03 WARN Utils: Your hostname, platero-Lenovo-IdeaPad-S145-15IWL resolves to a loopback address: 127.0.1.1; using 192.168.15.109 instead (on interface wlp2s0)\n",
      "23/10/24 19:12:03 WARN Utils: Set SPARK_LOCAL_IP if you need to bind to another address\n",
      "Setting default log level to \"WARN\".\n",
      "To adjust logging level use sc.setLogLevel(newLevel). For SparkR, use setLogLevel(newLevel).\n",
      "23/10/24 19:12:03 WARN NativeCodeLoader: Unable to load native-hadoop library for your platform... using builtin-java classes where applicable\n"
     ]
    }
   ],
   "source": [
    "spark = SparkSession.builder.master('local[*]').getOrCreate()"
   ]
  },
  {
   "cell_type": "code",
   "execution_count": 8,
   "metadata": {},
   "outputs": [
    {
     "data": {
      "text/html": [
       "\n",
       "            <div>\n",
       "                <p><b>SparkSession - in-memory</b></p>\n",
       "                \n",
       "        <div>\n",
       "            <p><b>SparkContext</b></p>\n",
       "\n",
       "            <p><a href=\"http://192.168.15.109:4040\">Spark UI</a></p>\n",
       "\n",
       "            <dl>\n",
       "              <dt>Version</dt>\n",
       "                <dd><code>v3.5.0</code></dd>\n",
       "              <dt>Master</dt>\n",
       "                <dd><code>local[*]</code></dd>\n",
       "              <dt>AppName</dt>\n",
       "                <dd><code>pyspark-shell</code></dd>\n",
       "            </dl>\n",
       "        </div>\n",
       "        \n",
       "            </div>\n",
       "        "
      ],
      "text/plain": [
       "<pyspark.sql.session.SparkSession at 0x7f70a03d2220>"
      ]
     },
     "execution_count": 8,
     "metadata": {},
     "output_type": "execute_result"
    }
   ],
   "source": [
    "spark"
   ]
  },
  {
   "cell_type": "markdown",
   "metadata": {},
   "source": [
    "### Análise exploratória"
   ]
  },
  {
   "cell_type": "code",
   "execution_count": 9,
   "metadata": {},
   "outputs": [],
   "source": [
    "res = mysql.execute(text('SELECT * FROM pnad_covid_view LIMIT 1500000'))\n",
    "res = res.fetchall()"
   ]
  },
  {
   "cell_type": "code",
   "execution_count": 10,
   "metadata": {},
   "outputs": [
    {
     "data": {
      "text/html": [
       "<div>\n",
       "<style scoped>\n",
       "    .dataframe tbody tr th:only-of-type {\n",
       "        vertical-align: middle;\n",
       "    }\n",
       "\n",
       "    .dataframe tbody tr th {\n",
       "        vertical-align: top;\n",
       "    }\n",
       "\n",
       "    .dataframe thead th {\n",
       "        text-align: right;\n",
       "    }\n",
       "</style>\n",
       "<table border=\"1\" class=\"dataframe\">\n",
       "  <thead>\n",
       "    <tr style=\"text-align: right;\">\n",
       "      <th></th>\n",
       "      <th>data</th>\n",
       "      <th>uf</th>\n",
       "      <th>situacao_domicilio</th>\n",
       "      <th>idade</th>\n",
       "      <th>sexo</th>\n",
       "      <th>cor_raca</th>\n",
       "      <th>escolaridade</th>\n",
       "      <th>questao_estabelecimento_saude</th>\n",
       "      <th>questao_permaneceu_casa</th>\n",
       "      <th>questao_remedio_conta_propria</th>\n",
       "      <th>...</th>\n",
       "      <th>rendimento_bolsa_familia</th>\n",
       "      <th>rendimento_beneficios</th>\n",
       "      <th>auxlio_emergencia_covid</th>\n",
       "      <th>seguro_desemprego</th>\n",
       "      <th>tipo_domicilio</th>\n",
       "      <th>valor_pago_domicilio</th>\n",
       "      <th>sintoma_covid</th>\n",
       "      <th>teste_covid</th>\n",
       "      <th>tipo_teste</th>\n",
       "      <th>fator_risco_covid</th>\n",
       "    </tr>\n",
       "  </thead>\n",
       "  <tbody>\n",
       "    <tr>\n",
       "      <th>0</th>\n",
       "      <td>2020-09-01</td>\n",
       "      <td>Goiás</td>\n",
       "      <td>Urbana</td>\n",
       "      <td>77</td>\n",
       "      <td>Mulher</td>\n",
       "      <td>Branca</td>\n",
       "      <td>Médio completo</td>\n",
       "      <td>Não aplicável</td>\n",
       "      <td>Não aplicável</td>\n",
       "      <td>Não aplicável</td>\n",
       "      <td>...</td>\n",
       "      <td>171</td>\n",
       "      <td>Não</td>\n",
       "      <td>600</td>\n",
       "      <td>Não</td>\n",
       "      <td>Próprio - já pago</td>\n",
       "      <td>Não aplicável</td>\n",
       "      <td>Não aplicável</td>\n",
       "      <td>Não</td>\n",
       "      <td>Não aplicável</td>\n",
       "      <td>Sim</td>\n",
       "    </tr>\n",
       "    <tr>\n",
       "      <th>1</th>\n",
       "      <td>2020-09-01</td>\n",
       "      <td>Distrito Federal</td>\n",
       "      <td>Rural</td>\n",
       "      <td>73</td>\n",
       "      <td>Homem</td>\n",
       "      <td>Branca</td>\n",
       "      <td>Fundamental incompleto</td>\n",
       "      <td>Não aplicável</td>\n",
       "      <td>Não aplicável</td>\n",
       "      <td>Não aplicável</td>\n",
       "      <td>...</td>\n",
       "      <td>Não</td>\n",
       "      <td>Não</td>\n",
       "      <td>Não</td>\n",
       "      <td>Não</td>\n",
       "      <td>Próprio - já pago</td>\n",
       "      <td>Não aplicável</td>\n",
       "      <td>Não aplicável</td>\n",
       "      <td>Não</td>\n",
       "      <td>Não aplicável</td>\n",
       "      <td>Sim</td>\n",
       "    </tr>\n",
       "    <tr>\n",
       "      <th>2</th>\n",
       "      <td>2020-09-01</td>\n",
       "      <td>Não identificado</td>\n",
       "      <td>Urbana</td>\n",
       "      <td>54</td>\n",
       "      <td>Mulher</td>\n",
       "      <td>Parda</td>\n",
       "      <td>Fundamental completa</td>\n",
       "      <td>Não aplicável</td>\n",
       "      <td>Não aplicável</td>\n",
       "      <td>Não aplicável</td>\n",
       "      <td>...</td>\n",
       "      <td>Não</td>\n",
       "      <td>Não</td>\n",
       "      <td>600</td>\n",
       "      <td>Não</td>\n",
       "      <td>Cedido por familiar</td>\n",
       "      <td>Não aplicável</td>\n",
       "      <td>Não aplicável</td>\n",
       "      <td>Não</td>\n",
       "      <td>Não aplicável</td>\n",
       "      <td>Não aplicável</td>\n",
       "    </tr>\n",
       "    <tr>\n",
       "      <th>3</th>\n",
       "      <td>2020-09-01</td>\n",
       "      <td>Não identificado</td>\n",
       "      <td>Urbana</td>\n",
       "      <td>35</td>\n",
       "      <td>Mulher</td>\n",
       "      <td>Branca</td>\n",
       "      <td>Fundamental completa</td>\n",
       "      <td>Não aplicável</td>\n",
       "      <td>Não aplicável</td>\n",
       "      <td>Não aplicável</td>\n",
       "      <td>...</td>\n",
       "      <td>Não</td>\n",
       "      <td>Não</td>\n",
       "      <td>1200</td>\n",
       "      <td>Não</td>\n",
       "      <td>Próprio - já pago</td>\n",
       "      <td>Não aplicável</td>\n",
       "      <td>Não aplicável</td>\n",
       "      <td>Não</td>\n",
       "      <td>Não aplicável</td>\n",
       "      <td>Não aplicável</td>\n",
       "    </tr>\n",
       "    <tr>\n",
       "      <th>4</th>\n",
       "      <td>2020-09-01</td>\n",
       "      <td>Não identificado</td>\n",
       "      <td>Urbana</td>\n",
       "      <td>34</td>\n",
       "      <td>Homem</td>\n",
       "      <td>Branca</td>\n",
       "      <td>Médio completo</td>\n",
       "      <td>Não aplicável</td>\n",
       "      <td>Não aplicável</td>\n",
       "      <td>Não aplicável</td>\n",
       "      <td>...</td>\n",
       "      <td>Não</td>\n",
       "      <td>Não</td>\n",
       "      <td>Não</td>\n",
       "      <td>Não</td>\n",
       "      <td>Próprio - já pago</td>\n",
       "      <td>Não aplicável</td>\n",
       "      <td>Não aplicável</td>\n",
       "      <td>Sim</td>\n",
       "      <td>SWAB</td>\n",
       "      <td>Não aplicável</td>\n",
       "    </tr>\n",
       "  </tbody>\n",
       "</table>\n",
       "<p>5 rows × 30 columns</p>\n",
       "</div>"
      ],
      "text/plain": [
       "         data                uf situacao_domicilio  idade    sexo cor_raca  \\\n",
       "0  2020-09-01             Goiás             Urbana     77  Mulher   Branca   \n",
       "1  2020-09-01  Distrito Federal              Rural     73   Homem   Branca   \n",
       "2  2020-09-01  Não identificado             Urbana     54  Mulher    Parda   \n",
       "3  2020-09-01  Não identificado             Urbana     35  Mulher   Branca   \n",
       "4  2020-09-01  Não identificado             Urbana     34   Homem   Branca   \n",
       "\n",
       "             escolaridade questao_estabelecimento_saude  \\\n",
       "0          Médio completo                 Não aplicável   \n",
       "1  Fundamental incompleto                 Não aplicável   \n",
       "2    Fundamental completa                 Não aplicável   \n",
       "3    Fundamental completa                 Não aplicável   \n",
       "4          Médio completo                 Não aplicável   \n",
       "\n",
       "  questao_permaneceu_casa questao_remedio_conta_propria  ...  \\\n",
       "0           Não aplicável                 Não aplicável  ...   \n",
       "1           Não aplicável                 Não aplicável  ...   \n",
       "2           Não aplicável                 Não aplicável  ...   \n",
       "3           Não aplicável                 Não aplicável  ...   \n",
       "4           Não aplicável                 Não aplicável  ...   \n",
       "\n",
       "  rendimento_bolsa_familia rendimento_beneficios auxlio_emergencia_covid  \\\n",
       "0                      171                   Não                     600   \n",
       "1                      Não                   Não                     Não   \n",
       "2                      Não                   Não                     600   \n",
       "3                      Não                   Não                    1200   \n",
       "4                      Não                   Não                     Não   \n",
       "\n",
       "  seguro_desemprego        tipo_domicilio valor_pago_domicilio  sintoma_covid  \\\n",
       "0               Não    Próprio - já pago         Não aplicável  Não aplicável   \n",
       "1               Não    Próprio - já pago         Não aplicável  Não aplicável   \n",
       "2               Não  Cedido por familiar         Não aplicável  Não aplicável   \n",
       "3               Não    Próprio - já pago         Não aplicável  Não aplicável   \n",
       "4               Não    Próprio - já pago         Não aplicável  Não aplicável   \n",
       "\n",
       "  teste_covid     tipo_teste fator_risco_covid  \n",
       "0         Não  Não aplicável               Sim  \n",
       "1         Não  Não aplicável               Sim  \n",
       "2         Não  Não aplicável     Não aplicável  \n",
       "3         Não  Não aplicável     Não aplicável  \n",
       "4         Sim           SWAB     Não aplicável  \n",
       "\n",
       "[5 rows x 30 columns]"
      ]
     },
     "execution_count": 10,
     "metadata": {},
     "output_type": "execute_result"
    }
   ],
   "source": [
    "df = pd.DataFrame(res)\n",
    "df.head()"
   ]
  },
  {
   "cell_type": "code",
   "execution_count": null,
   "metadata": {},
   "outputs": [],
   "source": []
  },
  {
   "cell_type": "code",
   "execution_count": null,
   "metadata": {},
   "outputs": [],
   "source": [
    "\n"
   ]
  },
  {
   "cell_type": "code",
   "execution_count": null,
   "metadata": {},
   "outputs": [],
   "source": []
  }
 ],
 "metadata": {
  "kernelspec": {
   "display_name": ".env",
   "language": "python",
   "name": "python3"
  },
  "language_info": {
   "codemirror_mode": {
    "name": "ipython",
    "version": 3
   },
   "file_extension": ".py",
   "mimetype": "text/x-python",
   "name": "python",
   "nbconvert_exporter": "python",
   "pygments_lexer": "ipython3",
   "version": "3.8.10"
  }
 },
 "nbformat": 4,
 "nbformat_minor": 2
}
