{
 "cells": [
  {
   "cell_type": "markdown",
   "metadata": {},
   "source": [
    "# O PROBLEMA\n",
    "\n",
    "Imagine agora que você foi contratado(a) como Expert em Data Analytics por um grande hospital para entender como foi o comportamento da população na época da pandemia da COVID-19 e quais indicadores seriam importantes para o planejamento, caso haja um novo surto da doença.\n",
    "\n",
    "Apesar de ser contratado(a) agora, a sua área observou que a utilização do estudo do PNAD-COVID 19 do IBGE seria uma ótima base para termos boas respostas ao problema proposto, pois são dados confiáveis.Porém, não será necessário utilizar todas as perguntas realizadas na pesquisa para enxergar todas as oportunidades ali postas.\n",
    "\n",
    "É sempre bom ressaltar que há dados triviais que precisam estar no projeto, pois auxiliam muito na análise dos dados:\n",
    "\n",
    "## PNAD-COVID-19 do IBGE\n",
    "\n",
    "O Head de Dados pediu para que você entrasse na base de dados do PNAD-COVID-19 do IBGE e organizasse esta base para análise, utilizando Banco de Dados em Nuvem e trazendo as seguintes características:\n",
    "\n",
    "- a. Utilização de no máximo 20 questionamentos realizados na pesquisa;\n",
    "- b. Utilizar 3 meses para construção da solução;\n",
    "- c. Caracterização dos sintomas clínicos da população;\n",
    "- d. Comportamento da população na época da COVID-19;\n",
    "- e. Características econômicas da Sociedade;\n",
    "\n",
    "Seu objetivo será trazer uma breve análise dessas informações, como foi a organização do banco, as perguntas selecionadas para a resposta do problema e quais seriam as principais ações que o hospital deverá tomar em caso de um novo surto de COVID-19.\n",
    "\n",
    "- Dica: Leiam com atenção a base de dados e toda a documentação que o site o PNAD – Covid19 traz, principalmente os dicionários, que ajudam e muito no entendimento da Base de Dados.\n",
    "- Dica 2: Utilizem o que já foi ensinado e consolidado nas outras fases para apresentar a resolução do projeto.\n",
    "\n",
    "Lembre-se de que você poderá apresentar o desenvolvimento do seu projeto durante as lives com docentes. Essa é uma boa oportunidade para discutir sobre as dificuldades encontradas e pegar dicas valiosas com especialistas e colegas de turma.\n",
    "\n",
    "Link para a base: https://www.ibge.gov.br/estatisticas/investigacoes-experimentais/estatisticas-experimentais/27946-divulgacao-semanal-pnadcovid1?t=downloads&utm_source=covid19&utm_medium=hotsite&utm_campaign=covid_19"
   ]
  },
  {
   "cell_type": "markdown",
   "metadata": {},
   "source": [
    "### Importando bibliotecas"
   ]
  },
  {
   "cell_type": "code",
   "execution_count": 1,
   "metadata": {},
   "outputs": [],
   "source": [
    "import warnings \n",
    "warnings.filterwarnings(action = 'ignore')"
   ]
  },
  {
   "cell_type": "code",
   "execution_count": 17,
   "metadata": {},
   "outputs": [],
   "source": [
    "from sqlalchemy import create_engine\n",
    "from sqlalchemy.sql import text\n",
    "from pyspark.sql import SparkSession\n",
    "import findspark\n",
    "import os"
   ]
  },
  {
   "cell_type": "markdown",
   "metadata": {},
   "source": [
    "### Conectando ao MySQL"
   ]
  },
  {
   "cell_type": "code",
   "execution_count": 3,
   "metadata": {},
   "outputs": [],
   "source": [
    "def mysql_connection(host, user, passwd, database=None):\n",
    "    engine = create_engine(f'mysql+pymysql://{user}:{passwd}@{host}/{database}')\n",
    "    return engine.connect()\n",
    "\n",
    "mysql = mysql_connection('127.0.0.1', 'root', 'admin', 'pnad_covid')"
   ]
  },
  {
   "cell_type": "code",
   "execution_count": 4,
   "metadata": {},
   "outputs": [
    {
     "name": "stdout",
     "output_type": "stream",
     "text": [
      "(1, 1, 'Sim')\n",
      "(2, 2, 'Não ')\n",
      "(3, 3, 'Não sabe')\n",
      "(4, 9, 'Ignorado')\n"
     ]
    }
   ],
   "source": [
    "statement = text('SELECT * FROM b0011;')\n",
    "response = mysql.execute(statement)\n",
    "for row in response:\n",
    "        print(row)"
   ]
  },
  {
   "cell_type": "markdown",
   "metadata": {},
   "source": [
    "### Criando sessão Spark"
   ]
  },
  {
   "cell_type": "code",
   "execution_count": 5,
   "metadata": {},
   "outputs": [],
   "source": [
    "os.environ['SPARK_HOME'] = '/opt/spark/'\n",
    "findspark.init()"
   ]
  },
  {
   "cell_type": "code",
   "execution_count": 6,
   "metadata": {},
   "outputs": [
    {
     "name": "stderr",
     "output_type": "stream",
     "text": [
      "23/10/13 20:12:44 WARN Utils: Your hostname, platero-Lenovo-IdeaPad-S145-15IWL resolves to a loopback address: 127.0.1.1; using 192.168.15.109 instead (on interface wlp2s0)\n",
      "23/10/13 20:12:44 WARN Utils: Set SPARK_LOCAL_IP if you need to bind to another address\n",
      "Setting default log level to \"WARN\".\n",
      "To adjust logging level use sc.setLogLevel(newLevel). For SparkR, use setLogLevel(newLevel).\n",
      "23/10/13 20:12:45 WARN NativeCodeLoader: Unable to load native-hadoop library for your platform... using builtin-java classes where applicable\n"
     ]
    }
   ],
   "source": [
    "spark = SparkSession.builder.master('local[*]').getOrCreate()"
   ]
  },
  {
   "cell_type": "code",
   "execution_count": 7,
   "metadata": {},
   "outputs": [
    {
     "data": {
      "text/html": [
       "\n",
       "            <div>\n",
       "                <p><b>SparkSession - in-memory</b></p>\n",
       "                \n",
       "        <div>\n",
       "            <p><b>SparkContext</b></p>\n",
       "\n",
       "            <p><a href=\"http://192.168.15.109:4040\">Spark UI</a></p>\n",
       "\n",
       "            <dl>\n",
       "              <dt>Version</dt>\n",
       "                <dd><code>v3.5.0</code></dd>\n",
       "              <dt>Master</dt>\n",
       "                <dd><code>local[*]</code></dd>\n",
       "              <dt>AppName</dt>\n",
       "                <dd><code>pyspark-shell</code></dd>\n",
       "            </dl>\n",
       "        </div>\n",
       "        \n",
       "            </div>\n",
       "        "
      ],
      "text/plain": [
       "<pyspark.sql.session.SparkSession at 0x7f20a88c0880>"
      ]
     },
     "execution_count": 7,
     "metadata": {},
     "output_type": "execute_result"
    }
   ],
   "source": [
    "spark"
   ]
  },
  {
   "cell_type": "markdown",
   "metadata": {},
   "source": [
    "### Importando dados"
   ]
  },
  {
   "cell_type": "code",
   "execution_count": 21,
   "metadata": {},
   "outputs": [
    {
     "name": "stderr",
     "output_type": "stream",
     "text": [
      "[Stage 18:================================>                         (5 + 4) / 9]\r"
     ]
    },
    {
     "name": "stdout",
     "output_type": "stream",
     "text": [
      "+----+---+-------+-------+-----+-----+-----+-----+-------+---------+-----+-----+------+------------+------------+------+----+-----+------+------+------+----+----+----+----+----+----+----+----+-----+-----+-----+-----+-----+-----+-----+-----+-----+------+------+------+------+----+-----+-----+-----+-----+-----+-----+-----+-----+-----+-----+-----+-----+-----+----+----+----+----+-----+-----+-----+-----+-----+-----+-----+-----+-----+-----+-----+-----+----+----+----+----+----+----+-----+-----+-----+----+----+-----+-----+-----+-----+-----+------+------+-----+----+----+-----+----+-----+------+--------+-----+------+------+-----+-----+-----+------+-------+--------+------+-------+-------+----+----+----+----+----+-----+-----+-----+-----+-----+-----+-----+-----+--------+-----+--------+-----+-----+-----+-----+----+-----+-----+-----+-----+----+-----+-----+------+------+------+------+------+-----+----+\n",
      "| Ano| UF|CAPITAL|RM_RIDE|V1008|V1012|V1013|V1016|Estrato|      UPA|V1022|V1023| V1030|       V1031|       V1032|posest|A001|A001A|A001B1|A001B2|A001B3|A002|A003|A004|A005|A006|A007|A008|A009|B0011|B0012|B0013|B0014|B0015|B0016|B0017|B0018|B0019|B00110|B00111|B00112|B00113|B002|B0031|B0032|B0033|B0034|B0035|B0036|B0037|B0041|B0042|B0043|B0044|B0045|B0046|B005|B006|B007|B008|B009A|B009B|B009C|B009D|B009E|B009F|B0101|B0102|B0103|B0104|B0105|B0106|B011|C001|C002|C003|C004|C005|C0051|C0052|C0053|C006|C007|C007A|C007B|C007C|C007D|C007E|C007E1|C007E2|C007F|C008|C009|C009A|C010|C0101|C01011|  C01012|C0102|C01021|C01022|C0103|C0104|C011A|C011A1|C011A11| C011A12|C011A2|C011A21|C011A22|C012|C013|C014|C015|C016|C017A|D0011|D0013|D0021|D0023|D0031|D0033|D0041|   D0043|D0051|   D0053|D0061|D0063|D0071|D0073|E001|E0021|E0022|E0023|E0024|F001|F0021|F0022|F002A1|F002A2|F002A3|F002A4|F002A5|F0061|F006|\n",
      "+----+---+-------+-------+-----+-----+-----+-----+-------+---------+-----+-----+------+------------+------------+------+----+-----+------+------+------+----+----+----+----+----+----+----+----+-----+-----+-----+-----+-----+-----+-----+-----+-----+------+------+------+------+----+-----+-----+-----+-----+-----+-----+-----+-----+-----+-----+-----+-----+-----+----+----+----+----+-----+-----+-----+-----+-----+-----+-----+-----+-----+-----+-----+-----+----+----+----+----+----+----+-----+-----+-----+----+----+-----+-----+-----+-----+-----+------+------+-----+----+----+-----+----+-----+------+--------+-----+------+------+-----+-----+-----+------+-------+--------+------+-------+-------+----+----+----+----+----+-----+-----+-----+-----+-----+-----+-----+-----+--------+-----+--------+-----+-----+-----+-----+----+-----+-----+-----+-----+----+-----+-----+------+------+------+------+------+-----+----+\n",
      "|2020| 11|     11|   NULL|   01|    4|   07|    3|1110011|110015970|    1|    1|152452|130.59560514|149.67110856|  1114|  01|   01|    05|    08|  1984| 035|   1|   4|   5|NULL|NULL|NULL|NULL|    2|    2|    2|    2|    2|    2|    2|    2|    2|     2|     2|     2|     2|NULL| NULL| NULL| NULL| NULL| NULL| NULL| NULL| NULL| NULL| NULL| NULL| NULL| NULL|NULL|NULL|   1|   2| NULL| NULL| NULL| NULL| NULL| NULL|    2|    2|    2|    2|    2|    2|   2|   1|NULL|NULL|NULL|NULL| NULL| NULL| NULL|   2|  04| NULL|    1|   35|   06| NULL|  NULL|  NULL| NULL| 048| 048| NULL|   1|    1|    04|00001045| NULL|  NULL|  NULL| NULL| NULL|    1|     1|     04|00001045|  NULL|   NULL|   NULL|   1|NULL|NULL|NULL|NULL| NULL|    2| NULL|    2| NULL|    2| NULL|    2|    NULL|    1|00001200|    2| NULL|    2| NULL|   3| NULL| NULL| NULL| NULL|   1| NULL| NULL|     1|     1|     1|     2|     1|    1|  02|\n",
      "|2020| 11|     11|   NULL|   01|    4|   07|    3|1110011|110015970|    1|    1|154289|130.59560514|145.29668757|  1123|  02|   02|    18|    08|  1990| 029|   2|   4|   7|   2|NULL|NULL|NULL|    2|    2|    2|    2|    2|    2|    2|    2|    2|     2|     2|     2|     2|NULL| NULL| NULL| NULL| NULL| NULL| NULL| NULL| NULL| NULL| NULL| NULL| NULL| NULL|NULL|NULL|   2|   2| NULL| NULL| NULL| NULL| NULL| NULL|    2|    2|    2|    2|    2|    2|   3|   2|   1|   1|   2|   2|   04| NULL| NULL|NULL|NULL| NULL| NULL| NULL| NULL| NULL|  NULL|  NULL| NULL|NULL|NULL| NULL|NULL| NULL|  NULL|    NULL| NULL|  NULL|  NULL| NULL| NULL| NULL|  NULL|   NULL|    NULL|  NULL|   NULL|   NULL|NULL|NULL|   2|   2|  10|    1|    2| NULL|    2| NULL|    2| NULL|    2|    NULL|    1|00001200|    2| NULL|    2| NULL|   3| NULL| NULL| NULL| NULL|   1| NULL| NULL|     1|     1|     1|     2|     1|    1|  02|\n",
      "|2020| 11|     11|   NULL|   01|    4|   07|    3|1110011|110015970|    1|    1|145749|130.59560514|166.25411441|  1112|  03|   04|    25|    12|  2006| 013|   1|   4|   2|   1|   1|   5|   3|    2|    2|    2|    2|    2|    2|    2|    2|    2|     2|     2|     2|     2|NULL| NULL| NULL| NULL| NULL| NULL| NULL| NULL| NULL| NULL| NULL| NULL| NULL| NULL|NULL|NULL|   1|   2| NULL| NULL| NULL| NULL| NULL| NULL|    2|    2|    2|    2|    2|    2|   4|NULL|NULL|NULL|NULL|NULL| NULL| NULL| NULL|NULL|NULL| NULL| NULL| NULL| NULL| NULL|  NULL|  NULL| NULL|NULL|NULL| NULL|NULL| NULL|  NULL|    NULL| NULL|  NULL|  NULL| NULL| NULL| NULL|  NULL|   NULL|    NULL|  NULL|   NULL|   NULL|NULL|NULL|NULL|NULL|NULL| NULL|    2| NULL|    2| NULL|    2| NULL|    2|    NULL|    1|00001200|    2| NULL|    2| NULL|   3| NULL| NULL| NULL| NULL|   1| NULL| NULL|     1|     1|     1|     2|     1|    1|  02|\n",
      "|2020| 11|     11|   NULL|   01|    4|   07|    3|1110011|110015970|    1|    1|145749|130.59560514|166.25411441|  1112|  04|   04|    24|    08|  2009| 010|   1|   4|   2|   1|   1|   5|   3|    2|    2|    2|    2|    2|    2|    2|    2|    2|     2|     2|     2|     2|NULL| NULL| NULL| NULL| NULL| NULL| NULL| NULL| NULL| NULL| NULL| NULL| NULL| NULL|NULL|NULL|   1|   2| NULL| NULL| NULL| NULL| NULL| NULL|    2|    2|    2|    2|    2|    2|   4|NULL|NULL|NULL|NULL|NULL| NULL| NULL| NULL|NULL|NULL| NULL| NULL| NULL| NULL| NULL|  NULL|  NULL| NULL|NULL|NULL| NULL|NULL| NULL|  NULL|    NULL| NULL|  NULL|  NULL| NULL| NULL| NULL|  NULL|   NULL|    NULL|  NULL|   NULL|   NULL|NULL|NULL|NULL|NULL|NULL| NULL|    2| NULL|    2| NULL|    2| NULL|    2|    NULL|    1|00001200|    2| NULL|    2| NULL|   3| NULL| NULL| NULL| NULL|   1| NULL| NULL|     1|     1|     1|     2|     1|    1|  02|\n",
      "|2020| 11|     11|   NULL|   02|    1|   07|    3|1110011|110015970|    1|    1| 91395|130.59560514|126.96047655|  1126|  01|   01|    18|    05|  1963| 057|   2|   1|   2|NULL|NULL|NULL|NULL|    2|    2|    2|    2|    2|    2|    2|    2|    2|     2|     2|     2|     2|NULL| NULL| NULL| NULL| NULL| NULL| NULL| NULL| NULL| NULL| NULL| NULL| NULL| NULL|NULL|NULL|   2|   2| NULL| NULL| NULL| NULL| NULL| NULL|    2|    2|    2|    2|    2|    2|   3|   2|   2|NULL|NULL|NULL| NULL| NULL| NULL|NULL|NULL| NULL| NULL| NULL| NULL| NULL|  NULL|  NULL| NULL|NULL|NULL| NULL|NULL| NULL|  NULL|    NULL| NULL|  NULL|  NULL| NULL| NULL| NULL|  NULL|   NULL|    NULL|  NULL|   NULL|   NULL|NULL|NULL|   2|   2|  01|    1|    2| NULL|    2| NULL|    2| NULL|    1|00001045|    2|    NULL|    2| NULL|    2| NULL|   3| NULL| NULL| NULL| NULL|   1| NULL| NULL|     1|     1|     1|     2|     1|    1|  01|\n",
      "+----+---+-------+-------+-----+-----+-----+-----+-------+---------+-----+-----+------+------------+------------+------+----+-----+------+------+------+----+----+----+----+----+----+----+----+-----+-----+-----+-----+-----+-----+-----+-----+-----+------+------+------+------+----+-----+-----+-----+-----+-----+-----+-----+-----+-----+-----+-----+-----+-----+----+----+----+----+-----+-----+-----+-----+-----+-----+-----+-----+-----+-----+-----+-----+----+----+----+----+----+----+-----+-----+-----+----+----+-----+-----+-----+-----+-----+------+------+-----+----+----+-----+----+-----+------+--------+-----+------+------+-----+-----+-----+------+-------+--------+------+-------+-------+----+----+----+----+----+-----+-----+-----+-----+-----+-----+-----+-----+--------+-----+--------+-----+-----+-----+-----+----+-----+-----+-----+-----+----+-----+-----+------+------+------+------+------+-----+----+\n",
      "only showing top 5 rows\n",
      "\n"
     ]
    },
    {
     "name": "stderr",
     "output_type": "stream",
     "text": [
      "                                                                                \r"
     ]
    }
   ],
   "source": [
    "df = spark.read.csv('dados/*.csv', sep=',', inferSchema=True, header=True)\n",
    "df.show(5)"
   ]
  },
  {
   "cell_type": "code",
   "execution_count": 12,
   "metadata": {},
   "outputs": [],
   "source": [
    "df.createOrReplaceTempView('view')"
   ]
  },
  {
   "cell_type": "code",
   "execution_count": 15,
   "metadata": {},
   "outputs": [
    {
     "name": "stderr",
     "output_type": "stream",
     "text": [
      "23/10/13 20:34:17 WARN CSVHeaderChecker: Number of column in CSV header is not equal to number of fields in the schema:\n",
      " Header length: 148, schema size: 145\n",
      "CSV file: file:///home/platero/postech_techchallenge_fase_3/dados/PNAD_COVID_112020.csv\n",
      "23/10/13 20:34:17 WARN CSVHeaderChecker: Number of column in CSV header is not equal to number of fields in the schema:\n",
      " Header length: 114, schema size: 145\n",
      "CSV file: file:///home/platero/postech_techchallenge_fase_3/dados/PNAD_COVID_062020.csv\n",
      "23/10/13 20:34:17 WARN CSVHeaderChecker: Number of column in CSV header is not equal to number of fields in the schema:\n",
      " Header length: 114, schema size: 145\n",
      "CSV file: file:///home/platero/postech_techchallenge_fase_3/dados/PNAD_COVID_052020.csv\n",
      "[Stage 9:====================================================>      (8 + 1) / 9]\r"
     ]
    },
    {
     "name": "stdout",
     "output_type": "stream",
     "text": [
      "+----+---+-------+-------+-----+-----+-----+-----+-------+---------+-----+-----+------+-----------+------------+------+----+-----+------+------+------+----+----+----+----+----+----+----+----+-----+-----+-----+-----+-----+-----+-----+-----+-----+------+------+------+------+----+-----+-----+-----+-----+-----+-----+-----+-----+-----+-----+-----+-----+-----+----+----+----+----+-----+-----+-----+-----+-----+-----+-----+-----+-----+-----+-----+-----+----+----+----+----+--------+----+-----+-----+-----+----+----+-----+-----+--------+-----+-----+------+------+-----+----+----+-----+----+-----+------+------+-----+------+--------+-----+-----+-----+--------+-------+-------+------+-------+-------+----+----+----+----+----+-----+-----+-----+-----+-----+-----+-----+-----+-----+-----+-----+-----+-----+-----+-----+----+-----+-----+-----+-----+----+-----+-----+------+------+------+------+------+-----+----+\n",
      "| Ano| UF|CAPITAL|RM_RIDE|V1008|V1012|V1013|V1016|Estrato|      UPA|V1022|V1023| V1030|      V1031|       V1032|posest|A001|A001A|A001B1|A001B2|A001B3|A002|A003|A004|A005|A006|A007|A008|A009|B0011|B0012|B0013|B0014|B0015|B0016|B0017|B0018|B0019|B00110|B00111|B00112|B00113|B002|B0031|B0032|B0033|B0034|B0035|B0036|B0037|B0041|B0042|B0043|B0044|B0045|B0046|B005|B006|B007|B008|B009A|B009B|B009C|B009D|B009E|B009F|B0101|B0102|B0103|B0104|B0105|B0106|B011|C001|C002|C003|    C004|C005|C0051|C0052|C0053|C006|C007|C007A|C007B|   C007C|C007D|C007E|C007E1|C007E2|C007F|C008|C009|C009A|C010|C0101|C01011|C01012|C0102|C01021|  C01022|C0103|C0104|C011A|  C011A1|C011A11|C011A12|C011A2|C011A21|C011A22|C012|C013|C014|C015|C016|C017A|D0011|D0013|D0021|D0023|D0031|D0033|D0041|D0043|D0051|D0053|D0061|D0063|D0071|D0073|E001|E0021|E0022|E0023|E0024|F001|F0021|F0022|F002A1|F002A2|F002A3|F002A4|F002A5|F0061|F006|\n",
      "+----+---+-------+-------+-----+-----+-----+-----+-------+---------+-----+-----+------+-----------+------------+------+----+-----+------+------+------+----+----+----+----+----+----+----+----+-----+-----+-----+-----+-----+-----+-----+-----+-----+------+------+------+------+----+-----+-----+-----+-----+-----+-----+-----+-----+-----+-----+-----+-----+-----+----+----+----+----+-----+-----+-----+-----+-----+-----+-----+-----+-----+-----+-----+-----+----+----+----+----+--------+----+-----+-----+-----+----+----+-----+-----+--------+-----+-----+------+------+-----+----+----+-----+----+-----+------+------+-----+------+--------+-----+-----+-----+--------+-------+-------+------+-------+-------+----+----+----+----+----+-----+-----+-----+-----+-----+-----+-----+-----+-----+-----+-----+-----+-----+-----+-----+----+-----+-----+-----+-----+----+-----+-----+------+------+------+------+------+-----+----+\n",
      "|2020| 11|     11|   NULL|   01|    4|   05|    1|1110011|110015970|    1|    1|152194|138.2562412|143.56274468|  1114|  01|   01|    05|    08|  1984| 035|   1|   4|   5|   1|   1|   2|   2|    1|    2|    2|    2|    2|    2|    1|    2|    2|     2|     2|     1|     2|   2|    2|    2| NULL| NULL| NULL| NULL| NULL| NULL| NULL| NULL|    1|    1| NULL|NULL|NULL|NULL|NULL| NULL| NULL|    2|   04| NULL|    1|   35|   06| NULL| NULL| NULL|  048| 048|   1|   1|  04|00001045|NULL| NULL| NULL| NULL|NULL|   1|    1|   04|00001045| NULL| NULL|  NULL|     1| NULL|NULL|NULL| NULL|NULL|    2|  NULL|     2| NULL|     2|    NULL|    2| NULL|    1|00001200|      2|   NULL|     2|   NULL|      1|NULL|NULL|   1|  02|NULL| NULL| NULL| NULL| NULL| NULL| NULL| NULL| NULL| NULL| NULL| NULL| NULL| NULL| NULL| NULL|NULL| NULL| NULL| NULL| NULL|NULL| NULL| NULL|  NULL|  NULL|  NULL|  NULL|  NULL| NULL|NULL|\n",
      "|2020| 11|     11|   NULL|   01|    4|   05|    1|1110011|110015970|    1|    1|154290|138.2562412|155.17556973|  1123|  02|   02|    18|    08|  1990| 029|   2|   4|   7|   1|   1|   2|   2|    2|    2|    2|    2|    2|    2|    1|    2|    2|     2|     2|     2|     2|   2|    2|    2| NULL| NULL| NULL| NULL| NULL| NULL| NULL| NULL|    2|    1| NULL|NULL|NULL|NULL|NULL| NULL| NULL|    2|   07| NULL| NULL|   34|   22| NULL| NULL| NULL|  012| 004|   1|   1|  04|00001045|NULL| NULL| NULL| NULL|NULL|   1|    1|   00|00000000| NULL| NULL|  NULL|     2|    1|   2|NULL| NULL|NULL|    2|  NULL|     2| NULL|     2|    NULL|    2| NULL|    1|00001200|      2|   NULL|     2|   NULL|      1|NULL|NULL|   1|  02|NULL| NULL| NULL| NULL| NULL| NULL| NULL| NULL| NULL| NULL| NULL| NULL| NULL| NULL| NULL| NULL|NULL| NULL| NULL| NULL| NULL|NULL| NULL| NULL|  NULL|  NULL|  NULL|  NULL|  NULL| NULL|NULL|\n",
      "|2020| 11|     11|   NULL|   01|    4|   05|    1|1110011|110015970|    1|    1|146160|138.2562412|191.78621375|  1112|  03|   04|    25|    12|  2006| 013|   1|   4|   2|   2|   2|   2|   2|    2|    2|    2|    2|    2|    2|    2|    2| NULL|  NULL|  NULL|  NULL|  NULL|NULL| NULL| NULL| NULL| NULL| NULL| NULL| NULL| NULL| NULL| NULL|    2| NULL| NULL|NULL|NULL|NULL|NULL| NULL| NULL| NULL| NULL| NULL| NULL| NULL| NULL| NULL| NULL| NULL| NULL|NULL|NULL|NULL|NULL|    NULL|NULL| NULL| NULL| NULL|NULL|NULL| NULL| NULL|    NULL| NULL| NULL|  NULL|  NULL| NULL|NULL|NULL| NULL|NULL|    2|  NULL|     2| NULL|     2|    NULL|    2| NULL|    1|00001200|      2|   NULL|     2|   NULL|      1|NULL|NULL|   1|  02|NULL| NULL| NULL| NULL| NULL| NULL| NULL| NULL| NULL| NULL| NULL| NULL| NULL| NULL| NULL| NULL|NULL| NULL| NULL| NULL| NULL|NULL| NULL| NULL|  NULL|  NULL|  NULL|  NULL|  NULL| NULL|NULL|\n",
      "|2020| 11|     11|   NULL|   01|    4|   05|    1|1110011|110015970|    1|    1|146160|138.2562412|191.78621375|  1112|  04|   04|    24|    08|  2009| 010|   1|   4|   2|   2|   2|   2|   2|    2|    2|    2|    2|    2|    2|    2|    2| NULL|  NULL|  NULL|  NULL|  NULL|NULL| NULL| NULL| NULL| NULL| NULL| NULL| NULL| NULL| NULL| NULL|    2| NULL| NULL|NULL|NULL|NULL|NULL| NULL| NULL| NULL| NULL| NULL| NULL| NULL| NULL| NULL| NULL| NULL| NULL|NULL|NULL|NULL|NULL|    NULL|NULL| NULL| NULL| NULL|NULL|NULL| NULL| NULL|    NULL| NULL| NULL|  NULL|  NULL| NULL|NULL|NULL| NULL|NULL|    2|  NULL|     2| NULL|     2|    NULL|    2| NULL|    1|00001200|      2|   NULL|     2|   NULL|      1|NULL|NULL|   1|  02|NULL| NULL| NULL| NULL| NULL| NULL| NULL| NULL| NULL| NULL| NULL| NULL| NULL| NULL| NULL| NULL|NULL| NULL| NULL| NULL| NULL|NULL| NULL| NULL|  NULL|  NULL|  NULL|  NULL|  NULL| NULL|NULL|\n",
      "|2020| 11|     11|   NULL|   03|    2|   05|    1|1110011|110015970|    1|    1| 90903|138.2562412|144.13492924|  1126|  01|   01|    25|    12|  1961| 058|   2|   2|   1|   2|   2|   2|   2|    2|    2|    2|    2|    2|    2|    2|    2| NULL|  NULL|  NULL|  NULL|  NULL|NULL| NULL| NULL| NULL| NULL| NULL| NULL| NULL| NULL| NULL| NULL|    2|    2|    2|NULL|NULL|NULL|NULL| NULL| NULL| NULL| NULL| NULL| NULL| NULL| NULL| NULL| NULL| NULL| NULL|NULL|NULL|NULL|NULL|    NULL|NULL| NULL| NULL| NULL|NULL|NULL| NULL| NULL|    NULL| NULL| NULL|  NULL|  NULL| NULL|   2|   2|   02|   1|    2|  NULL|     2| NULL|     1|00000130|    2| NULL|    1|00000600|      2|   NULL|     2|   NULL|      1|NULL|NULL|   1|  01|NULL| NULL| NULL| NULL| NULL| NULL| NULL| NULL| NULL| NULL| NULL| NULL| NULL| NULL| NULL| NULL|NULL| NULL| NULL| NULL| NULL|NULL| NULL| NULL|  NULL|  NULL|  NULL|  NULL|  NULL| NULL|NULL|\n",
      "+----+---+-------+-------+-----+-----+-----+-----+-------+---------+-----+-----+------+-----------+------------+------+----+-----+------+------+------+----+----+----+----+----+----+----+----+-----+-----+-----+-----+-----+-----+-----+-----+-----+------+------+------+------+----+-----+-----+-----+-----+-----+-----+-----+-----+-----+-----+-----+-----+-----+----+----+----+----+-----+-----+-----+-----+-----+-----+-----+-----+-----+-----+-----+-----+----+----+----+----+--------+----+-----+-----+-----+----+----+-----+-----+--------+-----+-----+------+------+-----+----+----+-----+----+-----+------+------+-----+------+--------+-----+-----+-----+--------+-------+-------+------+-------+-------+----+----+----+----+----+-----+-----+-----+-----+-----+-----+-----+-----+-----+-----+-----+-----+-----+-----+-----+----+-----+-----+-----+-----+----+-----+-----+------+------+------+------+------+-----+----+\n",
      "only showing top 5 rows\n",
      "\n"
     ]
    },
    {
     "name": "stderr",
     "output_type": "stream",
     "text": [
      "                                                                                \r"
     ]
    }
   ],
   "source": [
    "view = spark.sql('''SELECT * FROM view ORDER BY V1013''')\n",
    "view.show(5)"
   ]
  },
  {
   "cell_type": "markdown",
   "metadata": {},
   "source": [
    "### Exportando dados para o MySQL"
   ]
  },
  {
   "cell_type": "code",
   "execution_count": null,
   "metadata": {},
   "outputs": [],
   "source": []
  },
  {
   "cell_type": "code",
   "execution_count": null,
   "metadata": {},
   "outputs": [],
   "source": []
  }
 ],
 "metadata": {
  "kernelspec": {
   "display_name": ".env",
   "language": "python",
   "name": "python3"
  },
  "language_info": {
   "codemirror_mode": {
    "name": "ipython",
    "version": 3
   },
   "file_extension": ".py",
   "mimetype": "text/x-python",
   "name": "python",
   "nbconvert_exporter": "python",
   "pygments_lexer": "ipython3",
   "version": "3.8.10"
  },
  "orig_nbformat": 4
 },
 "nbformat": 4,
 "nbformat_minor": 2
}
