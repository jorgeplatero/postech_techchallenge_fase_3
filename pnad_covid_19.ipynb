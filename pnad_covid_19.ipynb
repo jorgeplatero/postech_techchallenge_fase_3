{
 "cells": [
  {
   "cell_type": "markdown",
   "metadata": {},
   "source": [
    "# O PROBLEMA\n",
    "\n",
    "Imagine agora que você foi contratado(a) como Expert em Data Analytics por um grande hospital para entender como foi o comportamento da população na época da pandemia da COVID-19 e quais indicadores seriam importantes para o planejamento, caso haja um novo surto da doença.\n",
    "\n",
    "Apesar de ser contratado(a) agora, a sua área observou que a utilização do estudo do PNAD-COVID 19 do IBGE seria uma ótima base para termos boas respostas ao problema proposto, pois são dados confiáveis.Porém, não será necessário utilizar todas as perguntas realizadas na pesquisa para enxergar todas as oportunidades ali postas.\n",
    "\n",
    "É sempre bom ressaltar que há dados triviais que precisam estar no projeto, pois auxiliam muito na análise dos dados:\n",
    "\n",
    "## PNAD-COVID-19 do IBGE\n",
    "\n",
    "O Head de Dados pediu para que você entrasse na base de dados do PNAD-COVID-19 do IBGE e organizasse esta base para análise, utilizando Banco de Dados em Nuvem e trazendo as seguintes características:\n",
    "\n",
    "- a. Utilização de no máximo 20 questionamentos realizados na pesquisa;\n",
    "- b. Utilizar 3 meses para construção da solução;\n",
    "- c. Caracterização dos sintomas clínicos da população;\n",
    "- d. Comportamento da população na época da COVID-19;\n",
    "- e. Características econômicas da Sociedade;\n",
    "\n",
    "Seu objetivo será trazer uma breve análise dessas informações, como foi a organização do banco, as perguntas selecionadas para a resposta do problema e quais seriam as principais ações que o hospital deverá tomar em caso de um novo surto de COVID-19.\n",
    "\n",
    "- Dica: Leiam com atenção a base de dados e toda a documentação que o site o PNAD – Covid19 traz, principalmente os dicionários, que ajudam e muito no entendimento da Base de Dados.\n",
    "- Dica 2: Utilizem o que já foi ensinado e consolidado nas outras fases para apresentar a resolução do projeto.\n",
    "\n",
    "Lembre-se de que você poderá apresentar o desenvolvimento do seu projeto durante as lives com docentes. Essa é uma boa oportunidade para discutir sobre as dificuldades encontradas e pegar dicas valiosas com especialistas e colegas de turma.\n",
    "\n",
    "Link para a base: https://www.ibge.gov.br/estatisticas/investigacoes-experimentais/estatisticas-experimentais/27946-divulgacao-semanal-pnadcovid1?t=downloads&utm_source=covid19&utm_medium=hotsite&utm_campaign=covid_19"
   ]
  },
  {
   "cell_type": "markdown",
   "metadata": {},
   "source": [
    "### Importando bibliotecas"
   ]
  },
  {
   "cell_type": "code",
   "execution_count": 16,
   "metadata": {},
   "outputs": [],
   "source": [
    "import warnings \n",
    "warnings.filterwarnings(action = 'ignore')"
   ]
  },
  {
   "cell_type": "code",
   "execution_count": 17,
   "metadata": {},
   "outputs": [],
   "source": [
    "from sqlalchemy import create_engine\n",
    "from sqlalchemy.sql import text\n",
    "from pyspark.sql import SparkSession\n",
    "import findspark\n",
    "import os\n",
    "import pandas as pd"
   ]
  },
  {
   "cell_type": "markdown",
   "metadata": {},
   "source": [
    "### Conectando ao MySQL"
   ]
  },
  {
   "cell_type": "code",
   "execution_count": 18,
   "metadata": {},
   "outputs": [],
   "source": [
    "def mysql_connection(host, user, passwd, database=None):\n",
    "    engine = create_engine(f'mysql+pymysql://{user}:{passwd}@{host}/{database}')\n",
    "    return engine.connect()\n",
    "\n",
    "mysql = mysql_connection('127.0.0.1', 'root', 'admin', 'pnad_covid')"
   ]
  },
  {
   "cell_type": "code",
   "execution_count": 19,
   "metadata": {},
   "outputs": [
    {
     "name": "stdout",
     "output_type": "stream",
     "text": [
      "(datetime.date(2020, 9, 1), 'Espírito Santo', None, 'Urbana', 'Não Aplicável', 'Resto da UF  (Unidade da Federação, excluindo a região metropolitana e a RIDE)', 'Pessoa responsável pelo domicílio ', 84, 'Homem', 'Parda', 'Fundamental incompleto', 'Não', 'Não', 'Não', 'Não', 'Não', 'Não', 'Não', 'Não', 'Não', 'Não', 'Não', 'Não', 'Não Aplicável', 'Não Aplicável', 'Não Aplicável', 'Não Aplicável', 'Não Aplicável', 'Não Aplicável', 'Não Aplicável', 'Não Aplicável', 'Não Aplicável', 'Não Aplicável', 'Não Aplicável', 'Não Aplicável', 'Não Aplicável', 'Não Aplicável', 'Não Aplicável', 'Não', 'Não', 'Não', 'Não Aplicável', 'Não Aplicável', 'Não Aplicável', None, None, None, 'Não Aplicável', 'Não Aplicável', 'Não Aplicável', 'Não Aplicável', 'Não Aplicável', 'Não Aplicável', 'Não aplicável', 'Não aplicável', 'Não Aplicável', 'Não aplicável', 'Não quer trabalhar ou é aposentado', 'Não', 'Não', 'Não', 'Não', '1045', '600', 'Não', 'Não', 'Próprio - já pago ', None)\n",
      "(datetime.date(2020, 9, 1), None, None, 'Urbana', 'Não Aplicável', 'Resto da UF  (Unidade da Federação, excluindo a região metropolitana e a RIDE)', 'Filho(a) somente do responsável', 49, 'Homem', 'Branca', 'Superior completo', 'Não', 'Não', 'Não', 'Não', 'Não', 'Não', 'Não', 'Não', 'Não', 'Não', 'Não', 'Não', 'Não Aplicável', 'Não Aplicável', 'Não Aplicável', 'Não Aplicável', 'Não Aplicável', 'Não Aplicável', 'Não Aplicável', 'Não Aplicável', 'Não Aplicável', 'Não Aplicável', 'Não Aplicável', 'Não Aplicável', 'Não Aplicável', 'Não Aplicável', 'Não Aplicável', 'Não', 'Sim', 'Não Aplicável', 'Não Aplicável', 'Não Aplicável', 'Não Aplicável', None, None, None, 'Não', 'Conta própria', 'Não Aplicável', 'Não Aplicável', 'Artesão, costureiro e sapateiro', 'Atividade artísticas, esportivas e de recreação ', '801 - 1.600', 'Não aplicável', 'Não Aplicável', '801 - 1.600', 'Não Aplicável', 'Não Aplicável', '800', 'Não', 'Não', 'Não', 'Não', 'Não', 'Não', 'Próprio - já pago ', None)\n",
      "(datetime.date(2020, 7, 1), 'Mato Grosso', 'Município de Natal (RN)', 'Urbana', 'Região Metropolitana de Natal (RN)', 'Capital', 'Pessoa responsável pelo domicílio ', 50, 'Mulher', 'Parda', 'Superior completo', 'Não', 'Não', 'Não', 'Não', 'Não', 'Não', 'Não', 'Não', 'Não', 'Não', 'Não', 'Não', 'Não Aplicável', 'Não Aplicável', 'Não Aplicável', 'Não Aplicável', 'Não Aplicável', 'Não Aplicável', 'Não Aplicável', 'Não Aplicável', 'Não Aplicável', 'Não Aplicável', 'Não Aplicável', 'Não Aplicável', 'Não Aplicável', 'Não Aplicável', 'Não Aplicável', 'Não', 'Não', 'Não', 'Não Aplicável', 'Não Aplicável', 'Não Aplicável', None, None, None, 'Não Aplicável', 'Não Aplicável', 'Não Aplicável', 'Não Aplicável', 'Não Aplicável', 'Não Aplicável', 'Não aplicável', 'Não aplicável', 'Não Aplicável', 'Não aplicável', 'Devido à pandemia (isolamento, quarentena ou distanciamento social)', 'Sim', 'Não', 'Não', 'Não', 'Não', '1200', 'Não', 'Não', 'Próprio - já pago ', None)\n",
      "(datetime.date(2020, 7, 1), None, None, 'Urbana', 'Região Metropolitana de São Paulo (SP)', 'Resto da RM (Região Metropolitana, excluindo a capital)', 'Pessoa responsável pelo domicílio ', 41, 'Mulher', 'Parda', 'Superior completo', 'Não', 'Não', 'Não', 'Não', 'Não', 'Não', 'Não', 'Não', 'Não', 'Não', 'Não', 'Não', 'Não Aplicável', 'Não Aplicável', 'Não Aplicável', 'Não Aplicável', 'Não Aplicável', 'Não Aplicável', 'Não Aplicável', 'Não Aplicável', 'Não Aplicável', 'Não Aplicável', 'Não Aplicável', 'Não Aplicável', 'Não Aplicável', 'Não Aplicável', 'Não Aplicável', 'Sim', 'Sim', 'Não Aplicável', 'Não Aplicável', 'Não Aplicável', 'Não Aplicável', None, None, None, 'Não', 'Empregado do setor privado ', 'Não Aplicável', 'Não', 'Balconista, vendedor de loja', 'Comércio no atacado e varejo; ', '1.601 - 3.000', 'Não aplicável', 'Não Aplicável', '1.601 - 3.000', 'Não Aplicável', 'Não Aplicável', 'Não', '600', 'Não', 'Não', 'Não', 'Não', 'Não', 'Cedido por familiar ', None)\n",
      "(datetime.date(2020, 7, 1), 'Santa Catarina', None, 'Rural', 'Não Aplicável', 'Resto da UF  (Unidade da Federação, excluindo a região metropolitana e a RIDE)', 'Cônjuge ou companheiro(a) de sexo diferente', 25, 'Mulher', 'Parda', 'Fundamental incompleto', 'Não', 'Não', 'Não', 'Não', 'Não', 'Não', 'Não', 'Não', 'Não', 'Não', 'Não', 'Não', 'Não Aplicável', 'Não Aplicável', 'Não Aplicável', 'Não Aplicável', 'Não Aplicável', 'Não Aplicável', 'Não Aplicável', 'Não Aplicável', 'Não Aplicável', 'Não Aplicável', 'Não Aplicável', 'Não Aplicável', 'Não Aplicável', 'Não Aplicável', 'Não Aplicável', 'Sim', 'Não', 'Não', 'Não Aplicável', 'Não Aplicável', 'Não Aplicável', None, None, None, 'Não Aplicável', 'Não Aplicável', 'Não Aplicável', 'Não Aplicável', 'Não Aplicável', 'Não Aplicável', 'Não aplicável', 'Não aplicável', 'Não Aplicável', 'Não aplicável', 'Não tinha experiência profissional ou qualificação', 'Sim', 'Não', 'Não', 'Não', 'Não', '1200', 'Não', 'Não', 'Próprio - já pago ', None)\n"
     ]
    }
   ],
   "source": [
    "statement = text('SELECT * FROM pnad_covid_view LIMIT 5')\n",
    "response = mysql.execute(statement)\n",
    "for row in response:\n",
    "        print(row)"
   ]
  },
  {
   "cell_type": "markdown",
   "metadata": {},
   "source": [
    "### Criando sessão Spark"
   ]
  },
  {
   "cell_type": "code",
   "execution_count": 20,
   "metadata": {},
   "outputs": [],
   "source": [
    "os.environ['SPARK_HOME'] = '/opt/spark/'\n",
    "findspark.init()"
   ]
  },
  {
   "cell_type": "code",
   "execution_count": 21,
   "metadata": {},
   "outputs": [
    {
     "name": "stderr",
     "output_type": "stream",
     "text": [
      "23/10/17 21:00:15 WARN Utils: Your hostname, platero-Lenovo-IdeaPad-S145-15IWL resolves to a loopback address: 127.0.1.1; using 192.168.15.109 instead (on interface wlp2s0)\n",
      "23/10/17 21:00:16 WARN Utils: Set SPARK_LOCAL_IP if you need to bind to another address\n",
      "Setting default log level to \"WARN\".\n",
      "To adjust logging level use sc.setLogLevel(newLevel). For SparkR, use setLogLevel(newLevel).\n",
      "23/10/17 21:00:16 WARN NativeCodeLoader: Unable to load native-hadoop library for your platform... using builtin-java classes where applicable\n"
     ]
    }
   ],
   "source": [
    "spark = SparkSession.builder.master('local[*]').getOrCreate()"
   ]
  },
  {
   "cell_type": "code",
   "execution_count": 22,
   "metadata": {},
   "outputs": [
    {
     "data": {
      "text/html": [
       "\n",
       "            <div>\n",
       "                <p><b>SparkSession - in-memory</b></p>\n",
       "                \n",
       "        <div>\n",
       "            <p><b>SparkContext</b></p>\n",
       "\n",
       "            <p><a href=\"http://192.168.15.109:4040\">Spark UI</a></p>\n",
       "\n",
       "            <dl>\n",
       "              <dt>Version</dt>\n",
       "                <dd><code>v3.5.0</code></dd>\n",
       "              <dt>Master</dt>\n",
       "                <dd><code>local[*]</code></dd>\n",
       "              <dt>AppName</dt>\n",
       "                <dd><code>pyspark-shell</code></dd>\n",
       "            </dl>\n",
       "        </div>\n",
       "        \n",
       "            </div>\n",
       "        "
      ],
      "text/plain": [
       "<pyspark.sql.session.SparkSession at 0x7f271e7c4640>"
      ]
     },
     "execution_count": 22,
     "metadata": {},
     "output_type": "execute_result"
    }
   ],
   "source": [
    "spark"
   ]
  },
  {
   "cell_type": "markdown",
   "metadata": {},
   "source": [
    "### Importando dados"
   ]
  },
  {
   "cell_type": "code",
   "execution_count": 23,
   "metadata": {},
   "outputs": [
    {
     "data": {
      "text/plain": [
       "\"df_05 = spark.read.csv('dados/dados_importados/PNAD_COVID_052020.csv', sep=',', inferSchema=True, header=True)\\ndf_06 = spark.read.csv('dados/dados_importados/PNAD_COVID_062020.csv', sep=',', inferSchema=True, header=True)\\ndf_07 = spark.read.csv('dados/dados_importados/PNAD_COVID_072020.csv', sep=',', inferSchema=True, header=True)\\ndf_08 = spark.read.csv('dados/dados_importados/PNAD_COVID_082020.csv', sep=',', inferSchema=True, header=True)\\ndf_09 = spark.read.csv('dados/dados_importados/PNAD_COVID_092020.csv', sep=',', inferSchema=True, header=True)\\ndf_10 = spark.read.csv('dados/dados_importados/PNAD_COVID_102020.csv', sep=',', inferSchema=True, header=True)\\ndf_11 = spark.read.csv('dados/dados_importados/PNAD_COVID_112020.csv', sep=',', inferSchema=True, header=True)\\n\""
      ]
     },
     "execution_count": 23,
     "metadata": {},
     "output_type": "execute_result"
    }
   ],
   "source": [
    "'''df_05 = spark.read.csv('dados/dados_importados/PNAD_COVID_052020.csv', sep=',', inferSchema=True, header=True)\n",
    "df_06 = spark.read.csv('dados/dados_importados/PNAD_COVID_062020.csv', sep=',', inferSchema=True, header=True)\n",
    "df_07 = spark.read.csv('dados/dados_importados/PNAD_COVID_072020.csv', sep=',', inferSchema=True, header=True)\n",
    "df_08 = spark.read.csv('dados/dados_importados/PNAD_COVID_082020.csv', sep=',', inferSchema=True, header=True)\n",
    "df_09 = spark.read.csv('dados/dados_importados/PNAD_COVID_092020.csv', sep=',', inferSchema=True, header=True)\n",
    "df_10 = spark.read.csv('dados/dados_importados/PNAD_COVID_102020.csv', sep=',', inferSchema=True, header=True)\n",
    "df_11 = spark.read.csv('dados/dados_importados/PNAD_COVID_112020.csv', sep=',', inferSchema=True, header=True)\n",
    "'''"
   ]
  },
  {
   "cell_type": "markdown",
   "metadata": {},
   "source": [
    "### Tratando dados"
   ]
  },
  {
   "cell_type": "code",
   "execution_count": 24,
   "metadata": {},
   "outputs": [
    {
     "data": {
      "text/plain": [
       "'from pyspark.sql.functions import lit\\n\\ndef add_missing_cols(df):\\n    cols = df_11.columns\\n    new_cols = []\\n\\n    for col_name in cols: #selecionando colunas faltantes\\n        if col_name not in df.columns:\\n            new_cols.append(col_name)\\n\\n    for new_col_name in new_cols: #adicionando colunas faltantes\\n        df = df.withColumn(new_col_name, lit(None))\\n\\n    return df.select(cols) #organizando colunas\\n\\ndf_05 = add_missing_cols(df_05)\\ndf_06 = add_missing_cols(df_06)\\ndf_07 = add_missing_cols(df_07)\\ndf_08 = add_missing_cols(df_08)\\ndf_09 = add_missing_cols(df_09)\\ndf_10 = add_missing_cols(df_10)'"
      ]
     },
     "execution_count": 24,
     "metadata": {},
     "output_type": "execute_result"
    }
   ],
   "source": [
    "#padronizando número de colunas\n",
    "'''from pyspark.sql.functions import lit\n",
    "\n",
    "def add_missing_cols(df):\n",
    "    cols = df_11.columns\n",
    "    new_cols = []\n",
    "\n",
    "    for col_name in cols: #selecionando colunas faltantes\n",
    "        if col_name not in df.columns:\n",
    "            new_cols.append(col_name)\n",
    "\n",
    "    for new_col_name in new_cols: #adicionando colunas faltantes\n",
    "        df = df.withColumn(new_col_name, lit(None))\n",
    "\n",
    "    return df.select(cols) #organizando colunas\n",
    "\n",
    "df_05 = add_missing_cols(df_05)\n",
    "df_06 = add_missing_cols(df_06)\n",
    "df_07 = add_missing_cols(df_07)\n",
    "df_08 = add_missing_cols(df_08)\n",
    "df_09 = add_missing_cols(df_09)\n",
    "df_10 = add_missing_cols(df_10)'''"
   ]
  },
  {
   "cell_type": "code",
   "execution_count": 25,
   "metadata": {},
   "outputs": [
    {
     "data": {
      "text/plain": [
       "'\\ndf = df_05.union(df_06)\\ndf = df.union(df_07)\\ndf = df.union(df_08)\\ndf = df.union(df_09)\\ndf = df.union(df_10)\\ndf = df.union(df_11)'"
      ]
     },
     "execution_count": 25,
     "metadata": {},
     "output_type": "execute_result"
    }
   ],
   "source": [
    "#concatenando DataFrames\n",
    "'''\n",
    "df = df_05.union(df_06)\n",
    "df = df.union(df_07)\n",
    "df = df.union(df_08)\n",
    "df = df.union(df_09)\n",
    "df = df.union(df_10)\n",
    "df = df.union(df_11)'''"
   ]
  },
  {
   "cell_type": "code",
   "execution_count": 26,
   "metadata": {},
   "outputs": [
    {
     "data": {
      "text/plain": [
       "'df.show(5)'"
      ]
     },
     "execution_count": 26,
     "metadata": {},
     "output_type": "execute_result"
    }
   ],
   "source": [
    "'''df.show(5)'''"
   ]
  },
  {
   "cell_type": "code",
   "execution_count": 27,
   "metadata": {},
   "outputs": [
    {
     "data": {
      "text/plain": [
       "\"df.select('C007C').where(df['V1013'] == '06').show(5)\""
      ]
     },
     "execution_count": 27,
     "metadata": {},
     "output_type": "execute_result"
    }
   ],
   "source": [
    "'''df.select('C007C').where(df['V1013'] == '06').show(5)'''"
   ]
  },
  {
   "cell_type": "markdown",
   "metadata": {},
   "source": [
    "### Exportando DataFrame para CSV"
   ]
  },
  {
   "cell_type": "code",
   "execution_count": 28,
   "metadata": {},
   "outputs": [
    {
     "data": {
      "text/plain": [
       "\"df.coalesce(1).write.csv(\\n    path='dados/dados_exportados',\\n    mode='overwrite',\\n    sep=',',\\n    header=True\\n)\""
      ]
     },
     "execution_count": 28,
     "metadata": {},
     "output_type": "execute_result"
    }
   ],
   "source": [
    "#exportando arquivo csv único\n",
    "'''df.coalesce(1).write.csv(\n",
    "    path='dados/dados_exportados',\n",
    "    mode='overwrite',\n",
    "    sep=',',\n",
    "    header=True\n",
    ")'''"
   ]
  },
  {
   "cell_type": "code",
   "execution_count": 29,
   "metadata": {},
   "outputs": [
    {
     "data": {
      "text/plain": [
       "\"df = spark.read.csv('dados/dados_exportados/PNAD_COVID.csv', sep=',', inferSchema=True, header=True)\""
      ]
     },
     "execution_count": 29,
     "metadata": {},
     "output_type": "execute_result"
    }
   ],
   "source": [
    "'''df = spark.read.csv('dados/dados_exportados/PNAD_COVID.csv', sep=',', inferSchema=True, header=True)'''"
   ]
  },
  {
   "cell_type": "code",
   "execution_count": 30,
   "metadata": {},
   "outputs": [
    {
     "data": {
      "text/plain": [
       "'df.show(5)'"
      ]
     },
     "execution_count": 30,
     "metadata": {},
     "output_type": "execute_result"
    }
   ],
   "source": [
    "'''df.show(5)'''"
   ]
  },
  {
   "cell_type": "code",
   "execution_count": 31,
   "metadata": {},
   "outputs": [
    {
     "data": {
      "text/plain": [
       "'df.count()'"
      ]
     },
     "execution_count": 31,
     "metadata": {},
     "output_type": "execute_result"
    }
   ],
   "source": [
    "'''df.count()'''"
   ]
  },
  {
   "cell_type": "code",
   "execution_count": 32,
   "metadata": {},
   "outputs": [
    {
     "data": {
      "text/plain": [
       "\"n_splits = 5\\nn_rows = df.count() // n_splits\\ncopy_df = df\\n\\nfor i in range(1, n_splits + 1):\\n    temp_df = copy_df.limit(n_rows)\\n    copy_df = copy_df.subtract(temp_df) #subtraindo conteúdo seguimentado\\n    \\n    #exportando seguimento\\n    temp_df.coalesce(1).write.csv(\\n    path=f'dados/dados_exportados/dados_seguimentados/seguimento_{i}',\\n    mode='overwrite',\\n    sep=',',\\n    header=True\\n    )\""
      ]
     },
     "execution_count": 32,
     "metadata": {},
     "output_type": "execute_result"
    }
   ],
   "source": [
    "#exportando seguimentos do DataFrame\n",
    "'''n_splits = 5\n",
    "n_rows = df.count() // n_splits\n",
    "copy_df = df\n",
    "\n",
    "for i in range(1, n_splits + 1):\n",
    "    temp_df = copy_df.limit(n_rows)\n",
    "    copy_df = copy_df.subtract(temp_df) #subtraindo conteúdo seguimentado\n",
    "    \n",
    "    #exportando seguimento\n",
    "    temp_df.coalesce(1).write.csv(\n",
    "    path=f'dados/dados_exportados/dados_seguimentados/seguimento_{i}',\n",
    "    mode='overwrite',\n",
    "    sep=',',\n",
    "    header=True\n",
    "    )'''"
   ]
  },
  {
   "cell_type": "code",
   "execution_count": 33,
   "metadata": {},
   "outputs": [
    {
     "data": {
      "text/plain": [
       "\"df_1 = spark.read.csv('dados/dados_exportados/dados_seguimentados/seguimento_1/*.csv', sep=',', inferSchema=True, header=True)\\ndf_2 = spark.read.csv('dados/dados_exportados/dados_seguimentados/seguimento_2/*.csv', sep=',', inferSchema=True, header=True)\""
      ]
     },
     "execution_count": 33,
     "metadata": {},
     "output_type": "execute_result"
    }
   ],
   "source": [
    "'''df_1 = spark.read.csv('dados/dados_exportados/dados_seguimentados/seguimento_1/*.csv', sep=',', inferSchema=True, header=True)\n",
    "df_2 = spark.read.csv('dados/dados_exportados/dados_seguimentados/seguimento_2/*.csv', sep=',', inferSchema=True, header=True)'''"
   ]
  },
  {
   "cell_type": "code",
   "execution_count": 34,
   "metadata": {},
   "outputs": [
    {
     "data": {
      "text/plain": [
       "'df_1.show(5)'"
      ]
     },
     "execution_count": 34,
     "metadata": {},
     "output_type": "execute_result"
    }
   ],
   "source": [
    "'''df_1.show(5)'''"
   ]
  },
  {
   "cell_type": "code",
   "execution_count": 35,
   "metadata": {},
   "outputs": [
    {
     "data": {
      "text/plain": [
       "'df_2.show(5)'"
      ]
     },
     "execution_count": 35,
     "metadata": {},
     "output_type": "execute_result"
    }
   ],
   "source": [
    "'''df_2.show(5)'''"
   ]
  },
  {
   "cell_type": "code",
   "execution_count": 36,
   "metadata": {},
   "outputs": [
    {
     "data": {
      "text/plain": [
       "\"df.createOrReplaceTempView('view')\""
      ]
     },
     "execution_count": 36,
     "metadata": {},
     "output_type": "execute_result"
    }
   ],
   "source": [
    "'''df.createOrReplaceTempView('view')'''"
   ]
  },
  {
   "cell_type": "code",
   "execution_count": 37,
   "metadata": {},
   "outputs": [
    {
     "data": {
      "text/plain": [
       "\"spark.sql('SELECT ANO, V1023, CAPITAL FROM view WHERE V1013 = 05 LIMIT 5').toPandas()\""
      ]
     },
     "execution_count": 37,
     "metadata": {},
     "output_type": "execute_result"
    }
   ],
   "source": [
    "'''spark.sql('SELECT ANO, V1023, CAPITAL FROM view WHERE V1013 = 05 LIMIT 5').toPandas()'''"
   ]
  },
  {
   "cell_type": "markdown",
   "metadata": {},
   "source": [
    "### Exportando dados para o MySQL"
   ]
  },
  {
   "cell_type": "code",
   "execution_count": 38,
   "metadata": {},
   "outputs": [
    {
     "data": {
      "text/plain": [
       "\"\\ndf = pd.read_csv('/home/platero/postech_techchallenge_fase_3/dados/dados_exportados/dados_seguimentados/seguimento_1.csv')\\ndf.to_sql('dados_covid', mysql, if_exists='append', index=False)\\nmysql.execute(text('COMMIT'))\\n\\ndf = pd.read_csv('/home/platero/postech_techchallenge_fase_3/dados/dados_exportados/dados_seguimentados/seguimento_2.csv')\\ndf.to_sql('dados_covid', mysql, if_exists='append', index=False)\\nmysql.execute(text('COMMIT'))\\n\\ndf = pd.read_csv('/home/platero/postech_techchallenge_fase_3/dados/dados_exportados/dados_seguimentados/seguimento_3.csv')\\ndf.to_sql('dados_covid', mysql, if_exists='append', index=False)\\nmysql.execute(text('COMMIT'))\\n\\ndf = pd.read_csv('/home/platero/postech_techchallenge_fase_3/dados/dados_exportados/dados_seguimentados/seguimento_4.csv')\\ndf.to_sql('dados_covid', mysql, if_exists='append', index=False)\\nmysql.execute(text('COMMIT'))\\n\\ndf = pd.read_csv('/home/platero/postech_techchallenge_fase_3/dados/dados_exportados/dados_seguimentados/seguimento_5.csv')\\ndf.to_sql('dados_covid', mysql, if_exists='append', index=False)\\nmysql.execute(text('COMMIT'))\\n\""
      ]
     },
     "execution_count": 38,
     "metadata": {},
     "output_type": "execute_result"
    }
   ],
   "source": [
    "'''\n",
    "df = pd.read_csv('/home/platero/postech_techchallenge_fase_3/dados/dados_exportados/dados_seguimentados/seguimento_1.csv')\n",
    "df.to_sql('dados_covid', mysql, if_exists='append', index=False)\n",
    "mysql.execute(text('COMMIT'))\n",
    "\n",
    "df = pd.read_csv('/home/platero/postech_techchallenge_fase_3/dados/dados_exportados/dados_seguimentados/seguimento_2.csv')\n",
    "df.to_sql('dados_covid', mysql, if_exists='append', index=False)\n",
    "mysql.execute(text('COMMIT'))\n",
    "\n",
    "df = pd.read_csv('/home/platero/postech_techchallenge_fase_3/dados/dados_exportados/dados_seguimentados/seguimento_3.csv')\n",
    "df.to_sql('dados_covid', mysql, if_exists='append', index=False)\n",
    "mysql.execute(text('COMMIT'))\n",
    "\n",
    "df = pd.read_csv('/home/platero/postech_techchallenge_fase_3/dados/dados_exportados/dados_seguimentados/seguimento_4.csv')\n",
    "df.to_sql('dados_covid', mysql, if_exists='append', index=False)\n",
    "mysql.execute(text('COMMIT'))\n",
    "\n",
    "df = pd.read_csv('/home/platero/postech_techchallenge_fase_3/dados/dados_exportados/dados_seguimentados/seguimento_5.csv')\n",
    "df.to_sql('dados_covid', mysql, if_exists='append', index=False)\n",
    "mysql.execute(text('COMMIT'))\n",
    "'''"
   ]
  },
  {
   "cell_type": "markdown",
   "metadata": {},
   "source": [
    "### Análise exploratória"
   ]
  },
  {
   "cell_type": "code",
   "execution_count": 39,
   "metadata": {},
   "outputs": [],
   "source": [
    "statement = text('SELECT * FROM pnad_covid_view LIMIT 1000')\n",
    "df = pd.read_sql_query(statement, con=mysql)"
   ]
  },
  {
   "cell_type": "code",
   "execution_count": 40,
   "metadata": {},
   "outputs": [
    {
     "data": {
      "text/html": [
       "<div>\n",
       "<style scoped>\n",
       "    .dataframe tbody tr th:only-of-type {\n",
       "        vertical-align: middle;\n",
       "    }\n",
       "\n",
       "    .dataframe tbody tr th {\n",
       "        vertical-align: top;\n",
       "    }\n",
       "\n",
       "    .dataframe thead th {\n",
       "        text-align: right;\n",
       "    }\n",
       "</style>\n",
       "<table border=\"1\" class=\"dataframe\">\n",
       "  <thead>\n",
       "    <tr style=\"text-align: right;\">\n",
       "      <th></th>\n",
       "      <th>data</th>\n",
       "      <th>uf</th>\n",
       "      <th>capital</th>\n",
       "      <th>situacao_domicilio</th>\n",
       "      <th>regiao_metropolitana</th>\n",
       "      <th>tipo_area</th>\n",
       "      <th>condicao_domicilio</th>\n",
       "      <th>idade</th>\n",
       "      <th>sexo</th>\n",
       "      <th>cor_raca</th>\n",
       "      <th>...</th>\n",
       "      <th>questao_gostaria_procurar_trabalho</th>\n",
       "      <th>rendimento_aposentadoria_pensao</th>\n",
       "      <th>rendimento_pensao</th>\n",
       "      <th>rendimento_bolsa_familia</th>\n",
       "      <th>rendimento_beneficios</th>\n",
       "      <th>auxlio_emergencia_covid</th>\n",
       "      <th>seguro_desemprego</th>\n",
       "      <th>redimentos_diversos</th>\n",
       "      <th>tipo_domicilio</th>\n",
       "      <th>valor_pago_domicilio</th>\n",
       "    </tr>\n",
       "  </thead>\n",
       "  <tbody>\n",
       "    <tr>\n",
       "      <th>0</th>\n",
       "      <td>2020-09-01</td>\n",
       "      <td>Espírito Santo</td>\n",
       "      <td>None</td>\n",
       "      <td>Urbana</td>\n",
       "      <td>Não Aplicável</td>\n",
       "      <td>Resto da UF  (Unidade da Federação, excluindo ...</td>\n",
       "      <td>Pessoa responsável pelo domicílio</td>\n",
       "      <td>84</td>\n",
       "      <td>Homem</td>\n",
       "      <td>Parda</td>\n",
       "      <td>...</td>\n",
       "      <td>Não</td>\n",
       "      <td>Não</td>\n",
       "      <td>Não</td>\n",
       "      <td>Não</td>\n",
       "      <td>1045</td>\n",
       "      <td>600</td>\n",
       "      <td>Não</td>\n",
       "      <td>Não</td>\n",
       "      <td>Próprio - já pago</td>\n",
       "      <td>NaN</td>\n",
       "    </tr>\n",
       "    <tr>\n",
       "      <th>1</th>\n",
       "      <td>2020-09-01</td>\n",
       "      <td>None</td>\n",
       "      <td>None</td>\n",
       "      <td>Urbana</td>\n",
       "      <td>Não Aplicável</td>\n",
       "      <td>Resto da UF  (Unidade da Federação, excluindo ...</td>\n",
       "      <td>Filho(a) somente do responsável</td>\n",
       "      <td>49</td>\n",
       "      <td>Homem</td>\n",
       "      <td>Branca</td>\n",
       "      <td>...</td>\n",
       "      <td>Não Aplicável</td>\n",
       "      <td>800</td>\n",
       "      <td>Não</td>\n",
       "      <td>Não</td>\n",
       "      <td>Não</td>\n",
       "      <td>Não</td>\n",
       "      <td>Não</td>\n",
       "      <td>Não</td>\n",
       "      <td>Próprio - já pago</td>\n",
       "      <td>NaN</td>\n",
       "    </tr>\n",
       "    <tr>\n",
       "      <th>2</th>\n",
       "      <td>2020-07-01</td>\n",
       "      <td>Mato Grosso</td>\n",
       "      <td>Município de Natal (RN)</td>\n",
       "      <td>Urbana</td>\n",
       "      <td>Região Metropolitana de Natal (RN)</td>\n",
       "      <td>Capital</td>\n",
       "      <td>Pessoa responsável pelo domicílio</td>\n",
       "      <td>50</td>\n",
       "      <td>Mulher</td>\n",
       "      <td>Parda</td>\n",
       "      <td>...</td>\n",
       "      <td>Sim</td>\n",
       "      <td>Não</td>\n",
       "      <td>Não</td>\n",
       "      <td>Não</td>\n",
       "      <td>Não</td>\n",
       "      <td>1200</td>\n",
       "      <td>Não</td>\n",
       "      <td>Não</td>\n",
       "      <td>Próprio - já pago</td>\n",
       "      <td>NaN</td>\n",
       "    </tr>\n",
       "    <tr>\n",
       "      <th>3</th>\n",
       "      <td>2020-07-01</td>\n",
       "      <td>None</td>\n",
       "      <td>None</td>\n",
       "      <td>Urbana</td>\n",
       "      <td>Região Metropolitana de São Paulo (SP)</td>\n",
       "      <td>Resto da RM (Região Metropolitana, excluindo a...</td>\n",
       "      <td>Pessoa responsável pelo domicílio</td>\n",
       "      <td>41</td>\n",
       "      <td>Mulher</td>\n",
       "      <td>Parda</td>\n",
       "      <td>...</td>\n",
       "      <td>Não Aplicável</td>\n",
       "      <td>Não</td>\n",
       "      <td>600</td>\n",
       "      <td>Não</td>\n",
       "      <td>Não</td>\n",
       "      <td>Não</td>\n",
       "      <td>Não</td>\n",
       "      <td>Não</td>\n",
       "      <td>Cedido por familiar</td>\n",
       "      <td>NaN</td>\n",
       "    </tr>\n",
       "    <tr>\n",
       "      <th>4</th>\n",
       "      <td>2020-07-01</td>\n",
       "      <td>Santa Catarina</td>\n",
       "      <td>None</td>\n",
       "      <td>Rural</td>\n",
       "      <td>Não Aplicável</td>\n",
       "      <td>Resto da UF  (Unidade da Federação, excluindo ...</td>\n",
       "      <td>Cônjuge ou companheiro(a) de sexo diferente</td>\n",
       "      <td>25</td>\n",
       "      <td>Mulher</td>\n",
       "      <td>Parda</td>\n",
       "      <td>...</td>\n",
       "      <td>Sim</td>\n",
       "      <td>Não</td>\n",
       "      <td>Não</td>\n",
       "      <td>Não</td>\n",
       "      <td>Não</td>\n",
       "      <td>1200</td>\n",
       "      <td>Não</td>\n",
       "      <td>Não</td>\n",
       "      <td>Próprio - já pago</td>\n",
       "      <td>NaN</td>\n",
       "    </tr>\n",
       "    <tr>\n",
       "      <th>...</th>\n",
       "      <td>...</td>\n",
       "      <td>...</td>\n",
       "      <td>...</td>\n",
       "      <td>...</td>\n",
       "      <td>...</td>\n",
       "      <td>...</td>\n",
       "      <td>...</td>\n",
       "      <td>...</td>\n",
       "      <td>...</td>\n",
       "      <td>...</td>\n",
       "      <td>...</td>\n",
       "      <td>...</td>\n",
       "      <td>...</td>\n",
       "      <td>...</td>\n",
       "      <td>...</td>\n",
       "      <td>...</td>\n",
       "      <td>...</td>\n",
       "      <td>...</td>\n",
       "      <td>...</td>\n",
       "      <td>...</td>\n",
       "      <td>...</td>\n",
       "    </tr>\n",
       "    <tr>\n",
       "      <th>995</th>\n",
       "      <td>2020-10-01</td>\n",
       "      <td>None</td>\n",
       "      <td>Município de Belo Horizonte (MG)</td>\n",
       "      <td>Urbana</td>\n",
       "      <td>Região Metropolitana de Belo Horizonte (MG)</td>\n",
       "      <td>Capital</td>\n",
       "      <td>Pessoa responsável pelo domicílio</td>\n",
       "      <td>46</td>\n",
       "      <td>Homem</td>\n",
       "      <td>Branca</td>\n",
       "      <td>...</td>\n",
       "      <td>Não Aplicável</td>\n",
       "      <td>Não</td>\n",
       "      <td>Não</td>\n",
       "      <td>Não</td>\n",
       "      <td>Não</td>\n",
       "      <td>Não</td>\n",
       "      <td>Não</td>\n",
       "      <td>Não</td>\n",
       "      <td>Próprio - já pago</td>\n",
       "      <td>NaN</td>\n",
       "    </tr>\n",
       "    <tr>\n",
       "      <th>996</th>\n",
       "      <td>2020-10-01</td>\n",
       "      <td>None</td>\n",
       "      <td>None</td>\n",
       "      <td>Urbana</td>\n",
       "      <td>Não Aplicável</td>\n",
       "      <td>Resto da UF  (Unidade da Federação, excluindo ...</td>\n",
       "      <td>Filho(a) do responsável e do cônjuge</td>\n",
       "      <td>6</td>\n",
       "      <td>Mulher</td>\n",
       "      <td>Branca</td>\n",
       "      <td>...</td>\n",
       "      <td>Não Aplicável</td>\n",
       "      <td>Não</td>\n",
       "      <td>Não</td>\n",
       "      <td>212</td>\n",
       "      <td>Não</td>\n",
       "      <td>600</td>\n",
       "      <td>Não</td>\n",
       "      <td>Não</td>\n",
       "      <td>Alugado</td>\n",
       "      <td>350.0</td>\n",
       "    </tr>\n",
       "    <tr>\n",
       "      <th>997</th>\n",
       "      <td>2020-08-01</td>\n",
       "      <td>None</td>\n",
       "      <td>Município de Aracaju (SE)</td>\n",
       "      <td>Urbana</td>\n",
       "      <td>Região Metropolitana de Aracaju (SE)</td>\n",
       "      <td>Capital</td>\n",
       "      <td>Pessoa responsável pelo domicílio</td>\n",
       "      <td>44</td>\n",
       "      <td>Homem</td>\n",
       "      <td>Preta</td>\n",
       "      <td>...</td>\n",
       "      <td>Não Aplicável</td>\n",
       "      <td>Não</td>\n",
       "      <td>Não</td>\n",
       "      <td>Não</td>\n",
       "      <td>Não</td>\n",
       "      <td>600</td>\n",
       "      <td>Não</td>\n",
       "      <td>Não</td>\n",
       "      <td>Alugado</td>\n",
       "      <td>1000.0</td>\n",
       "    </tr>\n",
       "    <tr>\n",
       "      <th>998</th>\n",
       "      <td>2020-11-01</td>\n",
       "      <td>None</td>\n",
       "      <td>None</td>\n",
       "      <td>Urbana</td>\n",
       "      <td>Região Metropolitana de Grande Vitória (ES)</td>\n",
       "      <td>Resto da RM (Região Metropolitana, excluindo a...</td>\n",
       "      <td>Pessoa responsável pelo domicílio</td>\n",
       "      <td>57</td>\n",
       "      <td>Mulher</td>\n",
       "      <td>Branca</td>\n",
       "      <td>...</td>\n",
       "      <td>Não</td>\n",
       "      <td>4200</td>\n",
       "      <td>Não</td>\n",
       "      <td>Não</td>\n",
       "      <td>Não</td>\n",
       "      <td>600</td>\n",
       "      <td>Não</td>\n",
       "      <td>Não</td>\n",
       "      <td>Próprio - já pago</td>\n",
       "      <td>NaN</td>\n",
       "    </tr>\n",
       "    <tr>\n",
       "      <th>999</th>\n",
       "      <td>2020-08-01</td>\n",
       "      <td>None</td>\n",
       "      <td>Município de Curitiba (PR)</td>\n",
       "      <td>Urbana</td>\n",
       "      <td>Região Metropolitana de Curitiba (PR)</td>\n",
       "      <td>Capital</td>\n",
       "      <td>Cônjuge ou companheiro(a) de sexo diferente</td>\n",
       "      <td>46</td>\n",
       "      <td>Homem</td>\n",
       "      <td>Branca</td>\n",
       "      <td>...</td>\n",
       "      <td>Não Aplicável</td>\n",
       "      <td>Não</td>\n",
       "      <td>Não</td>\n",
       "      <td>Não</td>\n",
       "      <td>Não</td>\n",
       "      <td>600</td>\n",
       "      <td>Não</td>\n",
       "      <td>Não</td>\n",
       "      <td>Próprio - já pago</td>\n",
       "      <td>NaN</td>\n",
       "    </tr>\n",
       "  </tbody>\n",
       "</table>\n",
       "<p>1000 rows × 68 columns</p>\n",
       "</div>"
      ],
      "text/plain": [
       "           data              uf                           capital  \\\n",
       "0    2020-09-01  Espírito Santo                              None   \n",
       "1    2020-09-01            None                              None   \n",
       "2    2020-07-01     Mato Grosso           Município de Natal (RN)   \n",
       "3    2020-07-01            None                              None   \n",
       "4    2020-07-01  Santa Catarina                              None   \n",
       "..          ...             ...                               ...   \n",
       "995  2020-10-01            None  Município de Belo Horizonte (MG)   \n",
       "996  2020-10-01            None                              None   \n",
       "997  2020-08-01            None         Município de Aracaju (SE)   \n",
       "998  2020-11-01            None                              None   \n",
       "999  2020-08-01            None        Município de Curitiba (PR)   \n",
       "\n",
       "    situacao_domicilio                         regiao_metropolitana  \\\n",
       "0               Urbana                                Não Aplicável   \n",
       "1               Urbana                                Não Aplicável   \n",
       "2               Urbana           Região Metropolitana de Natal (RN)   \n",
       "3               Urbana       Região Metropolitana de São Paulo (SP)   \n",
       "4                Rural                                Não Aplicável   \n",
       "..                 ...                                          ...   \n",
       "995             Urbana  Região Metropolitana de Belo Horizonte (MG)   \n",
       "996             Urbana                                Não Aplicável   \n",
       "997             Urbana         Região Metropolitana de Aracaju (SE)   \n",
       "998             Urbana  Região Metropolitana de Grande Vitória (ES)   \n",
       "999             Urbana        Região Metropolitana de Curitiba (PR)   \n",
       "\n",
       "                                             tipo_area  \\\n",
       "0    Resto da UF  (Unidade da Federação, excluindo ...   \n",
       "1    Resto da UF  (Unidade da Federação, excluindo ...   \n",
       "2                                              Capital   \n",
       "3    Resto da RM (Região Metropolitana, excluindo a...   \n",
       "4    Resto da UF  (Unidade da Federação, excluindo ...   \n",
       "..                                                 ...   \n",
       "995                                            Capital   \n",
       "996  Resto da UF  (Unidade da Federação, excluindo ...   \n",
       "997                                            Capital   \n",
       "998  Resto da RM (Região Metropolitana, excluindo a...   \n",
       "999                                            Capital   \n",
       "\n",
       "                              condicao_domicilio  idade    sexo cor_raca  ...  \\\n",
       "0             Pessoa responsável pelo domicílio      84   Homem    Parda  ...   \n",
       "1                Filho(a) somente do responsável     49   Homem   Branca  ...   \n",
       "2             Pessoa responsável pelo domicílio      50  Mulher    Parda  ...   \n",
       "3             Pessoa responsável pelo domicílio      41  Mulher    Parda  ...   \n",
       "4    Cônjuge ou companheiro(a) de sexo diferente     25  Mulher    Parda  ...   \n",
       "..                                           ...    ...     ...      ...  ...   \n",
       "995           Pessoa responsável pelo domicílio      46   Homem   Branca  ...   \n",
       "996        Filho(a) do responsável e do cônjuge       6  Mulher   Branca  ...   \n",
       "997           Pessoa responsável pelo domicílio      44   Homem    Preta  ...   \n",
       "998           Pessoa responsável pelo domicílio      57  Mulher   Branca  ...   \n",
       "999  Cônjuge ou companheiro(a) de sexo diferente     46   Homem   Branca  ...   \n",
       "\n",
       "    questao_gostaria_procurar_trabalho rendimento_aposentadoria_pensao  \\\n",
       "0                                  Não                             Não   \n",
       "1                        Não Aplicável                             800   \n",
       "2                                  Sim                             Não   \n",
       "3                        Não Aplicável                             Não   \n",
       "4                                  Sim                             Não   \n",
       "..                                 ...                             ...   \n",
       "995                      Não Aplicável                             Não   \n",
       "996                      Não Aplicável                             Não   \n",
       "997                      Não Aplicável                             Não   \n",
       "998                                Não                            4200   \n",
       "999                      Não Aplicável                             Não   \n",
       "\n",
       "    rendimento_pensao rendimento_bolsa_familia rendimento_beneficios  \\\n",
       "0                 Não                      Não                  1045   \n",
       "1                 Não                      Não                   Não   \n",
       "2                 Não                      Não                   Não   \n",
       "3                 600                      Não                   Não   \n",
       "4                 Não                      Não                   Não   \n",
       "..                ...                      ...                   ...   \n",
       "995               Não                      Não                   Não   \n",
       "996               Não                      212                   Não   \n",
       "997               Não                      Não                   Não   \n",
       "998               Não                      Não                   Não   \n",
       "999               Não                      Não                   Não   \n",
       "\n",
       "    auxlio_emergencia_covid seguro_desemprego redimentos_diversos  \\\n",
       "0                       600               Não                 Não   \n",
       "1                       Não               Não                 Não   \n",
       "2                      1200               Não                 Não   \n",
       "3                       Não               Não                 Não   \n",
       "4                      1200               Não                 Não   \n",
       "..                      ...               ...                 ...   \n",
       "995                     Não               Não                 Não   \n",
       "996                     600               Não                 Não   \n",
       "997                     600               Não                 Não   \n",
       "998                     600               Não                 Não   \n",
       "999                     600               Não                 Não   \n",
       "\n",
       "           tipo_domicilio valor_pago_domicilio  \n",
       "0      Próprio - já pago                   NaN  \n",
       "1      Próprio - já pago                   NaN  \n",
       "2      Próprio - já pago                   NaN  \n",
       "3    Cedido por familiar                   NaN  \n",
       "4      Próprio - já pago                   NaN  \n",
       "..                    ...                  ...  \n",
       "995    Próprio - já pago                   NaN  \n",
       "996               Alugado                350.0  \n",
       "997               Alugado               1000.0  \n",
       "998    Próprio - já pago                   NaN  \n",
       "999    Próprio - já pago                   NaN  \n",
       "\n",
       "[1000 rows x 68 columns]"
      ]
     },
     "execution_count": 40,
     "metadata": {},
     "output_type": "execute_result"
    }
   ],
   "source": [
    "df"
   ]
  },
  {
   "cell_type": "code",
   "execution_count": null,
   "metadata": {},
   "outputs": [],
   "source": []
  },
  {
   "cell_type": "code",
   "execution_count": null,
   "metadata": {},
   "outputs": [],
   "source": []
  },
  {
   "cell_type": "code",
   "execution_count": null,
   "metadata": {},
   "outputs": [],
   "source": []
  },
  {
   "cell_type": "code",
   "execution_count": null,
   "metadata": {},
   "outputs": [],
   "source": []
  },
  {
   "cell_type": "code",
   "execution_count": null,
   "metadata": {},
   "outputs": [],
   "source": []
  },
  {
   "cell_type": "code",
   "execution_count": null,
   "metadata": {},
   "outputs": [],
   "source": []
  },
  {
   "cell_type": "code",
   "execution_count": null,
   "metadata": {},
   "outputs": [],
   "source": []
  }
 ],
 "metadata": {
  "kernelspec": {
   "display_name": ".env",
   "language": "python",
   "name": "python3"
  },
  "language_info": {
   "codemirror_mode": {
    "name": "ipython",
    "version": 3
   },
   "file_extension": ".py",
   "mimetype": "text/x-python",
   "name": "python",
   "nbconvert_exporter": "python",
   "pygments_lexer": "ipython3",
   "version": "3.8.10"
  },
  "orig_nbformat": 4
 },
 "nbformat": 4,
 "nbformat_minor": 2
}
