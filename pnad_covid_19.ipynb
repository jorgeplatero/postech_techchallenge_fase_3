{
 "cells": [
  {
   "cell_type": "markdown",
   "metadata": {},
   "source": [
    "# O PROBLEMA\n",
    "\n",
    "Imagine agora que você foi contratado(a) como Expert em Data Analytics por um grande hospital para entender como foi o comportamento da população na época da pandemia da COVID-19 e quais indicadores seriam importantes para o planejamento, caso haja um novo surto da doença.\n",
    "\n",
    "Apesar de ser contratado(a) agora, a sua área observou que a utilização do estudo do PNAD-COVID 19 do IBGE seria uma ótima base para termos boas respostas ao problema proposto, pois são dados confiáveis.Porém, não será necessário utilizar todas as perguntas realizadas na pesquisa para enxergar todas as oportunidades ali postas.\n",
    "\n",
    "É sempre bom ressaltar que há dados triviais que precisam estar no projeto, pois auxiliam muito na análise dos dados:\n",
    "\n",
    "## PNAD-COVID-19 do IBGE\n",
    "\n",
    "O Head de Dados pediu para que você entrasse na base de dados do PNAD-COVID-19 do IBGE e organizasse esta base para análise, utilizando Banco de Dados em Nuvem e trazendo as seguintes características:\n",
    "\n",
    "- a. Utilização de no máximo 20 questionamentos realizados na pesquisa;\n",
    "- b. Utilizar 3 meses para construção da solução;\n",
    "- c. Caracterização dos sintomas clínicos da população;\n",
    "- d. Comportamento da população na época da COVID-19;\n",
    "- e. Características econômicas da Sociedade;\n",
    "\n",
    "Seu objetivo será trazer uma breve análise dessas informações, como foi a organização do banco, as perguntas selecionadas para a resposta do problema e quais seriam as principais ações que o hospital deverá tomar em caso de um novo surto de COVID-19.\n",
    "\n",
    "- Dica: Leiam com atenção a base de dados e toda a documentação que o site o PNAD-COVID-19 traz, principalmente os dicionários, que ajudam e muito no entendimento da Base de Dados.\n",
    "- Dica 2: Utilizem o que já foi ensinado e consolidado nas outras fases para apresentar a resolução do projeto.\n",
    "\n",
    "Lembre-se de que você poderá apresentar o desenvolvimento do seu projeto durante as lives com docentes. Essa é uma boa oportunidade para discutir sobre as dificuldades encontradas e pegar dicas valiosas com especialistas e colegas de turma.\n",
    "\n",
    "Link para a base: https://covid19.ibge.gov.br/pnad-covid/\n",
    "\n",
    "Outras fontes:\n",
    "\n",
    "https://www.gov.br/saude/pt-br/assuntos/noticias/2021/janeiro/entenda-a-ordem-de-vacinacao-contra-a-covid-19-entre-os-grupos-prioritarios\n",
    "\n",
    "https://www.gov.br/saude/pt-br/assuntos/coronavirus/vacinas/esquemas-vacinais"
   ]
  },
  {
   "cell_type": "markdown",
   "metadata": {},
   "source": [
    "### Importando bibliotecas"
   ]
  },
  {
   "cell_type": "code",
   "execution_count": 1,
   "metadata": {},
   "outputs": [],
   "source": [
    "import warnings \n",
    "warnings.filterwarnings(action = 'ignore')"
   ]
  },
  {
   "cell_type": "code",
   "execution_count": 2,
   "metadata": {},
   "outputs": [],
   "source": [
    "from sqlalchemy import create_engine\n",
    "from sqlalchemy.sql import text\n",
    "from pyspark.sql import SparkSession\n",
    "import findspark\n",
    "import pandas as pd\n",
    "import plotly.express as px"
   ]
  },
  {
   "cell_type": "markdown",
   "metadata": {},
   "source": [
    "### Sobre o banco de dados"
   ]
  },
  {
   "cell_type": "markdown",
   "metadata": {},
   "source": [
    "O banco de dados foi desenvolvido no MySQL com o objetivo de centralizar as informações disponíveis na pesquisa PNAD-COVID-19 do IBGE. Optou-se por incluir todos os dados da pesquisa no banco de dados e, desses, extrair para análise somente os dados referentes aos meses de setembro, outubro e novembro de 2020. O esquema foi desenhado de modo que fosse permitido a inclusão de novos dados, para o caso em que haja continuação da pesquisa. \n",
    "\n",
    "#### Estrutura do banco de dados\n",
    "\n",
    "O banco de dados é composto por uma tabela principal (dados_covid) que armazena todos os dados da pesquisa e tabelas auxiliares, que guardam as respostas obtidas para os questionamentos da pesquisa. As tabelas auxiliares abaixo guardam multiplos relacionamentos, pois muitos dos questionamentos da pesquisa têm como resposta um mesmo conjunto de opções.\n",
    "    \n",
    "- depara_respostas: guarda o conjunto de respostas \"Sim\", \"Não\", \"Não sabe\", “Ignorado” e \"Não aplicável\".\n",
    "- depara_resultado_covid: guarda o conjunto de respostas \"Positivo\", \"Negativo\", \"Inconclusivo\", \"Ainda não recebeu o resultado\" e \"Ignorado\".\n",
    "\n",
    "A tabela dados_covid possui chaves estrangeiras que relacionam os campos que possuem um mesmo conjunto de respostas às tabelas auxiliares acima. Houve a inserção de índices únicos (UNIQUE KEYS) nas tabelas para evitar duplicidade de dados, permitindo assim a inserção de novos dados. Cada linha da tabela dados_covid representa o conjunto de respostas de um entrevistado.\n",
    "\n",
    "#### Estrutura das tabelas\n",
    "\n",
    "dados_covid - armazena os dados da pesquisa:\n",
    "\n",
    "- id - chave primária;\n",
    "- ano – ano da pesquisa;\n",
    "- uf - sigla da unidade da federação;\n",
    "- ...demais campos da pesquisa.\n",
    "\n",
    "depara_respostas - armazena as respostas padronizadas:\n",
    "\n",
    "- id - chave primária;\n",
    "- respostas_id - valores;\n",
    "- name - \"Sim\", \"Não\", \"Não sabe\", \"Ignorado\", \"Não aplicável\".\n",
    "\n",
    "depara_resultado_covid - armazena os sintomas investigados:\n",
    "\n",
    "- id - chave primária;\n",
    "- respostas_id – valores;\n",
    "- name - \"Positivo\", \"Negativo\", \"Inconclusivo\", \"Ainda não recebeu o resultado\" e \"Ignorado\".\n",
    "\n",
    "#### View\n",
    "\n",
    "Uma view (pnad_covid_view) foi criada com o objetivo de facilitar consultas aos dados. Essa traz somente os dados os meses de setembro, outubro e novembro de campos consideradas mais relevantes para a análise, assim é possível manipular os dados de forma ágil, sem a necessidade de consultar a estrutura integral do banco.\n",
    "\n",
    "Em síntese, o banco de dados foi modelado visando integridade e flexibilidade para as consultas. As tabelas auxiliares e a view agregam valor ao permitir padronização e consulta orientada para análise. A estrutura foi pensada para receber dados de pesquisas futuras, garantindo a continuidade do uso do banco."
   ]
  },
  {
   "cell_type": "markdown",
   "metadata": {},
   "source": [
    "### Conectando no MySQL"
   ]
  },
  {
   "cell_type": "code",
   "execution_count": 3,
   "metadata": {},
   "outputs": [],
   "source": [
    "'''def mysql_connection(host, user, passwd, database=None):\n",
    "    engine = create_engine(f'mysql+pymysql://{user}:{passwd}@{host}/{database}')\n",
    "    return engine.connect()\n",
    "\n",
    "mysql = mysql_connection('127.0.0.1', 'root', 'admin', 'pnad_covid')'''"
   ]
  },
  {
   "cell_type": "code",
   "execution_count": 4,
   "metadata": {},
   "outputs": [
    {
     "data": {
      "text/plain": [
       "\"statement = text('SELECT * FROM pnad_covid_view LIMIT 5')\\nresponse = mysql.execute(statement)\\nfor row in response:\\n        print(row)\""
      ]
     },
     "execution_count": 4,
     "metadata": {},
     "output_type": "execute_result"
    }
   ],
   "source": [
    "'''statement = text('SELECT * FROM pnad_covid_view LIMIT 5')\n",
    "response = mysql.execute(statement)\n",
    "for row in response:\n",
    "        print(row)'''"
   ]
  },
  {
   "cell_type": "markdown",
   "metadata": {},
   "source": [
    "### Criando sessão Spark"
   ]
  },
  {
   "cell_type": "code",
   "execution_count": 5,
   "metadata": {},
   "outputs": [],
   "source": [
    "findspark.init()"
   ]
  },
  {
   "cell_type": "code",
   "execution_count": 6,
   "metadata": {},
   "outputs": [
    {
     "name": "stderr",
     "output_type": "stream",
     "text": [
      "23/11/01 12:23:45 WARN Utils: Your hostname, platero-Lenovo-IdeaPad-S145-15IWL resolves to a loopback address: 127.0.1.1; using 192.168.15.109 instead (on interface wlp2s0)\n",
      "23/11/01 12:23:45 WARN Utils: Set SPARK_LOCAL_IP if you need to bind to another address\n",
      "Setting default log level to \"WARN\".\n",
      "To adjust logging level use sc.setLogLevel(newLevel). For SparkR, use setLogLevel(newLevel).\n",
      "23/11/01 12:23:46 WARN NativeCodeLoader: Unable to load native-hadoop library for your platform... using builtin-java classes where applicable\n"
     ]
    }
   ],
   "source": [
    "spark = SparkSession.builder.master('local[*]').getOrCreate()"
   ]
  },
  {
   "cell_type": "code",
   "execution_count": 7,
   "metadata": {},
   "outputs": [
    {
     "data": {
      "text/html": [
       "\n",
       "            <div>\n",
       "                <p><b>SparkSession - in-memory</b></p>\n",
       "                \n",
       "        <div>\n",
       "            <p><b>SparkContext</b></p>\n",
       "\n",
       "            <p><a href=\"http://192.168.15.109:4040\">Spark UI</a></p>\n",
       "\n",
       "            <dl>\n",
       "              <dt>Version</dt>\n",
       "                <dd><code>v3.5.0</code></dd>\n",
       "              <dt>Master</dt>\n",
       "                <dd><code>local[*]</code></dd>\n",
       "              <dt>AppName</dt>\n",
       "                <dd><code>pyspark-shell</code></dd>\n",
       "            </dl>\n",
       "        </div>\n",
       "        \n",
       "            </div>\n",
       "        "
      ],
      "text/plain": [
       "<pyspark.sql.session.SparkSession at 0x7f8d64cc80d0>"
      ]
     },
     "execution_count": 7,
     "metadata": {},
     "output_type": "execute_result"
    }
   ],
   "source": [
    "spark"
   ]
  },
  {
   "cell_type": "markdown",
   "metadata": {},
   "source": [
    "### Importando dados da pesquisa"
   ]
  },
  {
   "cell_type": "code",
   "execution_count": 8,
   "metadata": {},
   "outputs": [
    {
     "data": {
      "text/plain": [
       "\"df_05 = spark.read.csv('dados/dados_importados/PNAD_COVID_052020.csv', sep=',', inferSchema=True, header=True)\\ndf_06 = spark.read.csv('dados/dados_importados/PNAD_COVID_062020.csv', sep=',', inferSchema=True, header=True)\\ndf_07 = spark.read.csv('dados/dados_importados/PNAD_COVID_072020.csv', sep=',', inferSchema=True, header=True)\\ndf_08 = spark.read.csv('dados/dados_importados/PNAD_COVID_082020.csv', sep=',', inferSchema=True, header=True)\\ndf_09 = spark.read.csv('dados/dados_importados/PNAD_COVID_092020.csv', sep=',', inferSchema=True, header=True)\\ndf_10 = spark.read.csv('dados/dados_importados/PNAD_COVID_102020.csv', sep=',', inferSchema=True, header=True)\\ndf_11 = spark.read.csv('dados/dados_importados/PNAD_COVID_112020.csv', sep=',', inferSchema=True, header=True)\\n\""
      ]
     },
     "execution_count": 8,
     "metadata": {},
     "output_type": "execute_result"
    }
   ],
   "source": [
    "'''df_05 = spark.read.csv('dados/dados_importados/PNAD_COVID_052020.csv', sep=',', inferSchema=True, header=True)\n",
    "df_06 = spark.read.csv('dados/dados_importados/PNAD_COVID_062020.csv', sep=',', inferSchema=True, header=True)\n",
    "df_07 = spark.read.csv('dados/dados_importados/PNAD_COVID_072020.csv', sep=',', inferSchema=True, header=True)\n",
    "df_08 = spark.read.csv('dados/dados_importados/PNAD_COVID_082020.csv', sep=',', inferSchema=True, header=True)\n",
    "df_09 = spark.read.csv('dados/dados_importados/PNAD_COVID_092020.csv', sep=',', inferSchema=True, header=True)\n",
    "df_10 = spark.read.csv('dados/dados_importados/PNAD_COVID_102020.csv', sep=',', inferSchema=True, header=True)\n",
    "df_11 = spark.read.csv('dados/dados_importados/PNAD_COVID_112020.csv', sep=',', inferSchema=True, header=True)\n",
    "'''"
   ]
  },
  {
   "cell_type": "markdown",
   "metadata": {},
   "source": [
    "### Tratando dados da pesquisa"
   ]
  },
  {
   "cell_type": "code",
   "execution_count": 9,
   "metadata": {},
   "outputs": [
    {
     "data": {
      "text/plain": [
       "'from pyspark.sql.functions import lit\\n\\ndef add_missing_cols(df):\\n    cols = df_11.columns\\n    new_cols = []\\n\\n    for col_name in cols: #selecionando colunas faltantes\\n        if col_name not in df.columns:\\n            new_cols.append(col_name)\\n\\n    for new_col_name in new_cols: #adicionando colunas faltantes\\n        df = df.withColumn(new_col_name, lit(None))\\n\\n    return df.select(cols) #organizando colunas\\n\\ndf_05 = add_missing_cols(df_05)\\ndf_06 = add_missing_cols(df_06)\\ndf_07 = add_missing_cols(df_07)\\ndf_08 = add_missing_cols(df_08)\\ndf_09 = add_missing_cols(df_09)\\ndf_10 = add_missing_cols(df_10)'"
      ]
     },
     "execution_count": 9,
     "metadata": {},
     "output_type": "execute_result"
    }
   ],
   "source": [
    "#igualando número de colunas, pois a quantidade de questões divergem entre os meses da pesquisa\n",
    "'''from pyspark.sql.functions import lit\n",
    "\n",
    "def add_missing_cols(df):\n",
    "    cols = df_11.columns\n",
    "    new_cols = []\n",
    "\n",
    "    for col_name in cols: #selecionando colunas faltantes\n",
    "        if col_name not in df.columns:\n",
    "            new_cols.append(col_name)\n",
    "\n",
    "    for new_col_name in new_cols: #adicionando colunas faltantes\n",
    "        df = df.withColumn(new_col_name, lit(None))\n",
    "\n",
    "    return df.select(cols) #organizando colunas\n",
    "\n",
    "df_05 = add_missing_cols(df_05)\n",
    "df_06 = add_missing_cols(df_06)\n",
    "df_07 = add_missing_cols(df_07)\n",
    "df_08 = add_missing_cols(df_08)\n",
    "df_09 = add_missing_cols(df_09)\n",
    "df_10 = add_missing_cols(df_10)'''"
   ]
  },
  {
   "cell_type": "code",
   "execution_count": 10,
   "metadata": {},
   "outputs": [
    {
     "data": {
      "text/plain": [
       "'\\ndf = df_05.union(df_06)\\ndf = df.union(df_07)\\ndf = df.union(df_08)\\ndf = df.union(df_09)\\ndf = df.union(df_10)\\ndf = df.union(df_11)'"
      ]
     },
     "execution_count": 10,
     "metadata": {},
     "output_type": "execute_result"
    }
   ],
   "source": [
    "#concatenando DataFrames\n",
    "'''\n",
    "df = df_05.union(df_06)\n",
    "df = df.union(df_07)\n",
    "df = df.union(df_08)\n",
    "df = df.union(df_09)\n",
    "df = df.union(df_10)\n",
    "df = df.union(df_11)'''"
   ]
  },
  {
   "cell_type": "code",
   "execution_count": 11,
   "metadata": {},
   "outputs": [
    {
     "data": {
      "text/plain": [
       "\"df.select('C007C').where(df['V1013'] == '06').show(5)\""
      ]
     },
     "execution_count": 11,
     "metadata": {},
     "output_type": "execute_result"
    }
   ],
   "source": [
    "'''df.select('C007C').where(df['V1013'] == '06').show(5)'''"
   ]
  },
  {
   "cell_type": "markdown",
   "metadata": {},
   "source": [
    "### Exportando dados tratados da pesquisa para CSV"
   ]
  },
  {
   "cell_type": "code",
   "execution_count": 12,
   "metadata": {},
   "outputs": [
    {
     "data": {
      "text/plain": [
       "\"df.coalesce(1).write.csv(\\n    path='dados/dados_exportados',\\n    mode='overwrite',\\n    sep=',',\\n    header=True\\n)\""
      ]
     },
     "execution_count": 12,
     "metadata": {},
     "output_type": "execute_result"
    }
   ],
   "source": [
    "#exportando arquivo csv único\n",
    "'''df.coalesce(1).write.csv(\n",
    "    path='dados/dados_exportados',\n",
    "    mode='overwrite',\n",
    "    sep=',',\n",
    "    header=True\n",
    ")'''"
   ]
  },
  {
   "cell_type": "markdown",
   "metadata": {},
   "source": [
    "### Exportando seguimentos dos dados tratados da pesquisa\n",
    "\n",
    "A seguimentação torna processo de inserção dos dados no banco de dados mais ágil"
   ]
  },
  {
   "cell_type": "code",
   "execution_count": 13,
   "metadata": {},
   "outputs": [
    {
     "data": {
      "text/plain": [
       "\"n_splits = 5\\nn_rows = df.count() // n_splits\\ncopy_df = df\\n\\nfor i in range(1, n_splits + 1):\\n    temp_df = copy_df.limit(n_rows)\\n    copy_df = copy_df.subtract(temp_df) #subtraindo conteúdo seguimentado\\n    \\n    #exportando seguimento\\n    temp_df.coalesce(1).write.csv(\\n    path=f'dados/dados_exportados/dados_seguimentados/seguimento_{i}',\\n    mode='overwrite',\\n    sep=',',\\n    header=True\\n    )\""
      ]
     },
     "execution_count": 13,
     "metadata": {},
     "output_type": "execute_result"
    }
   ],
   "source": [
    "#exportando seguimentos do DataFrame\n",
    "'''n_splits = 5\n",
    "n_rows = df.count() // n_splits\n",
    "copy_df = df\n",
    "\n",
    "for i in range(1, n_splits + 1):\n",
    "    temp_df = copy_df.limit(n_rows)\n",
    "    copy_df = copy_df.subtract(temp_df) #subtraindo conteúdo seguimentado\n",
    "    \n",
    "    #exportando seguimento\n",
    "    temp_df.coalesce(1).write.csv(\n",
    "    path=f'dados/dados_exportados/dados_seguimentados/seguimento_{i}',\n",
    "    mode='overwrite',\n",
    "    sep=',',\n",
    "    header=True\n",
    "    )'''"
   ]
  },
  {
   "cell_type": "code",
   "execution_count": 14,
   "metadata": {},
   "outputs": [
    {
     "data": {
      "text/plain": [
       "\"df_1 = spark.read.csv('dados/dados_exportados/dados_seguimentados/seguimento_1/*.csv', sep=',', inferSchema=True, header=True)\\ndf_2 = spark.read.csv('dados/dados_exportados/dados_seguimentados/seguimento_2/*.csv', sep=',', inferSchema=True, header=True)\""
      ]
     },
     "execution_count": 14,
     "metadata": {},
     "output_type": "execute_result"
    }
   ],
   "source": [
    "'''df_1 = spark.read.csv('dados/dados_exportados/dados_seguimentados/seguimento_1/*.csv', sep=',', inferSchema=True, header=True)\n",
    "df_2 = spark.read.csv('dados/dados_exportados/dados_seguimentados/seguimento_2/*.csv', sep=',', inferSchema=True, header=True)'''"
   ]
  },
  {
   "cell_type": "markdown",
   "metadata": {},
   "source": [
    "### Exportando dados sequimentados para o MySQL"
   ]
  },
  {
   "cell_type": "code",
   "execution_count": 15,
   "metadata": {},
   "outputs": [
    {
     "data": {
      "text/plain": [
       "\"\\ndf = pd.read_csv('/home/platero/postech_techchallenge_fase_3/dados/dados_exportados/dados_seguimentados/seguimento_1.csv')\\ndf.to_sql('dados_covid', mysql, if_exists='append', index=False)\\nmysql.execute(text('COMMIT'))\\n\\ndf = pd.read_csv('/home/platero/postech_techchallenge_fase_3/dados/dados_exportados/dados_seguimentados/seguimento_2.csv')\\ndf.to_sql('dados_covid', mysql, if_exists='append', index=False)\\nmysql.execute(text('COMMIT'))\\n\\ndf = pd.read_csv('/home/platero/postech_techchallenge_fase_3/dados/dados_exportados/dados_seguimentados/seguimento_3.csv')\\ndf.to_sql('dados_covid', mysql, if_exists='append', index=False)\\nmysql.execute(text('COMMIT'))\\n\\ndf = pd.read_csv('/home/platero/postech_techchallenge_fase_3/dados/dados_exportados/dados_seguimentados/seguimento_4.csv')\\ndf.to_sql('dados_covid', mysql, if_exists='append', index=False)\\nmysql.execute(text('COMMIT'))\\n\\ndf = pd.read_csv('/home/platero/postech_techchallenge_fase_3/dados/dados_exportados/dados_seguimentados/seguimento_5.csv')\\ndf.to_sql('dados_covid', mysql, if_exists='append', index=False)\\nmysql.execute(text('COMMIT'))\\n\""
      ]
     },
     "execution_count": 15,
     "metadata": {},
     "output_type": "execute_result"
    }
   ],
   "source": [
    "'''\n",
    "df = pd.read_csv('/home/platero/postech_techchallenge_fase_3/dados/dados_exportados/dados_seguimentados/seguimento_1.csv')\n",
    "df.to_sql('dados_covid', mysql, if_exists='append', index=False)\n",
    "mysql.execute(text('COMMIT'))\n",
    "\n",
    "df = pd.read_csv('/home/platero/postech_techchallenge_fase_3/dados/dados_exportados/dados_seguimentados/seguimento_2.csv')\n",
    "df.to_sql('dados_covid', mysql, if_exists='append', index=False)\n",
    "mysql.execute(text('COMMIT'))\n",
    "\n",
    "df = pd.read_csv('/home/platero/postech_techchallenge_fase_3/dados/dados_exportados/dados_seguimentados/seguimento_3.csv')\n",
    "df.to_sql('dados_covid', mysql, if_exists='append', index=False)\n",
    "mysql.execute(text('COMMIT'))\n",
    "\n",
    "df = pd.read_csv('/home/platero/postech_techchallenge_fase_3/dados/dados_exportados/dados_seguimentados/seguimento_4.csv')\n",
    "df.to_sql('dados_covid', mysql, if_exists='append', index=False)\n",
    "mysql.execute(text('COMMIT'))\n",
    "\n",
    "df = pd.read_csv('/home/platero/postech_techchallenge_fase_3/dados/dados_exportados/dados_seguimentados/seguimento_5.csv')\n",
    "df.to_sql('dados_covid', mysql, if_exists='append', index=False)\n",
    "mysql.execute(text('COMMIT'))\n",
    "'''"
   ]
  },
  {
   "cell_type": "markdown",
   "metadata": {},
   "source": [
    "### Importando view do MySQL"
   ]
  },
  {
   "cell_type": "code",
   "execution_count": 16,
   "metadata": {},
   "outputs": [],
   "source": [
    "'''res = mysql.execute(text('SELECT * FROM pnad_covid_view LIMIT 1149196'))\n",
    "res = res.fetchall()\n",
    "df = pd.DataFrame(res)'''"
   ]
  },
  {
   "cell_type": "code",
   "execution_count": 17,
   "metadata": {},
   "outputs": [
    {
     "data": {
      "text/plain": [
       "'df.info()'"
      ]
     },
     "execution_count": 17,
     "metadata": {},
     "output_type": "execute_result"
    }
   ],
   "source": [
    "'''df.info()'''"
   ]
  },
  {
   "cell_type": "markdown",
   "metadata": {},
   "source": [
    "### Exportando view para arquivo CSV\n",
    "\n",
    "Os dados serão analisados a partir de arquivo CSV dada limitação de hardware, haja visto que a base de dados no MySQL contempla todos os dados disponibilizados pela pesquisa PNAD-COVID 19 do IBGE"
   ]
  },
  {
   "cell_type": "code",
   "execution_count": 18,
   "metadata": {},
   "outputs": [],
   "source": [
    "'''df.to_csv('dados/dados_exportados/2023-11-01_pnad_covid_view.csv', index=False)'''"
   ]
  },
  {
   "cell_type": "markdown",
   "metadata": {},
   "source": [
    "### Importando view do arquivo CSV"
   ]
  },
  {
   "cell_type": "code",
   "execution_count": 19,
   "metadata": {},
   "outputs": [
    {
     "name": "stderr",
     "output_type": "stream",
     "text": [
      "23/11/01 12:26:42 WARN SparkStringUtils: Truncated the string representation of a plan since it was too large. This behavior can be adjusted by setting 'spark.sql.debug.maxToStringFields'.\n"
     ]
    },
    {
     "name": "stdout",
     "output_type": "stream",
     "text": [
      "+----------+--------------+------------------+-----+------+--------+------------------------------------+-----------------------------+-----------------------+-----------------------------+---------------------------------+--------------------+------------------------+------------------+---------------------------------+--------------------------+---------------------------+-------------------------------+----------------+-------------------------------+------------------------+---------------------+-----------------------+-----------------+-----------------------+--------------------+-------------+-----------------------+-----------+---------------------------+-------------+-----------------+---------------+\n",
      "|data      |uf            |situacao_domicilio|idade|sexo  |cor_raca|escolaridade                        |questao_estabelecimento_saude|questao_permaneceu_casa|questao_remedio_conta_propria|questao_remedio_orientacao_medica|questao_hospital_SUS|questao_hospital_privado|questao_internacao|questao_internacao_ajuda_respirar|questao_motivo_afastamento|questao_tempo_afastado_trab|questao_tipo_trabalho_realizado|faixa_rendimento|rendimento_aposentadoria_pensao|rendimento_bolsa_familia|rendimento_beneficios|auxlio_emergencia_covid|seguro_desemprego|tipo_domicilio         |valor_pago_domicilio|sintoma_covid|descricao_sintoma_covid|teste_covid|descricao_fator_risco_covid|tipo_teste   |fator_risco_covid|resultado_teste|\n",
      "+----------+--------------+------------------+-----+------+--------+------------------------------------+-----------------------------+-----------------------+-----------------------------+---------------------------------+--------------------+------------------------+------------------+---------------------------------+--------------------------+---------------------------+-------------------------------+----------------+-------------------------------+------------------------+---------------------+-----------------------+-----------------+-----------------------+--------------------+-------------+-----------------------+-----------+---------------------------+-------------+-----------------+---------------+\n",
      "|2020-09-01|São Paulo     |Urbana            |79   |Homem |Parda   |Fundamental incompleto              |Não aplicável                |Não aplicável          |Não aplicável                |Não aplicável                    |Não aplicável       |Não aplicável           |Não aplicável     |Não aplicável                    |Não aplicável             |Não aplicável              |Não aplicável                  |NULL            |3135                           |Não                     |Não                  |Não                    |Não              |Cedido por familiar    |Não aplicável       |Não          |NULL                   |Não        |Diabetes,Hipertensao,Idoso |Não aplicável|Sim              |Não aplicável  |\n",
      "|2020-09-01|Bahia         |Urbana            |55   |Mulher|Branca  |Pós-graduação, mestrado ou doutorado|Não aplicável                |Não aplicável          |Não aplicável                |Não aplicável                    |Não aplicável       |Não aplicável           |Não aplicável     |Não aplicável                    |Não aplicável             |Não aplicável              |Não aplicável                  |NULL            |Não                            |Não                     |Não                  |Não                    |Não              |Próprio - ainda pagando|Não aplicável       |Não          |NULL                   |Não        |Cancer                     |Não aplicável|Sim              |Não aplicável  |\n",
      "|2020-09-01|São Paulo     |Urbana            |6    |Homem |Parda   |Fundamental incompleto              |Não aplicável                |Não aplicável          |Não aplicável                |Não aplicável                    |Não aplicável       |Não aplicável           |Não aplicável     |Não aplicável                    |Não aplicável             |Não aplicável              |Não aplicável                  |NULL            |Não                            |Não                     |Não                  |Não                    |Não              |Alugado                |600                 |Não          |NULL                   |Não        |NULL                       |Não aplicável|Não aplicável    |Não aplicável  |\n",
      "|2020-09-01|Espírito Santo|Urbana            |29   |Homem |Branca  |Fundamental completo                |Não aplicável                |Não aplicável          |Não aplicável                |Não aplicável                    |Não aplicável       |Não aplicável           |Não aplicável     |Não aplicável                    |Não aplicável             |Não aplicável              |Não aplicável                  |NULL            |1045                           |Não                     |Não                  |1200                   |Não              |Próprio - já pago      |Não aplicável       |Não          |NULL                   |Não        |NULL                       |Não aplicável|Não aplicável    |Não aplicável  |\n",
      "|2020-09-01|Rio de Janeiro|Urbana            |64   |Mulher|Parda   |Médio completo                      |Não aplicável                |Não aplicável          |Não aplicável                |Não aplicável                    |Não aplicável       |Não aplicável           |Não aplicável     |Não aplicável                    |Não aplicável             |Não aplicável              |Não aplicável                  |NULL            |Não                            |Não                     |1045                 |600                    |Não              |Alugado                |800                 |Não          |NULL                   |Não        |Idoso                      |Não aplicável|Sim              |Não aplicável  |\n",
      "+----------+--------------+------------------+-----+------+--------+------------------------------------+-----------------------------+-----------------------+-----------------------------+---------------------------------+--------------------+------------------------+------------------+---------------------------------+--------------------------+---------------------------+-------------------------------+----------------+-------------------------------+------------------------+---------------------+-----------------------+-----------------+-----------------------+--------------------+-------------+-----------------------+-----------+---------------------------+-------------+-----------------+---------------+\n",
      "only showing top 5 rows\n",
      "\n"
     ]
    }
   ],
   "source": [
    "'''df = spark.read.csv('dados/dados_exportados/2023-11-01_pnad_covid_view.csv', sep=',', inferSchema=True, header=True)\n",
    "df.show(5, truncate=False)'''"
   ]
  },
  {
   "cell_type": "markdown",
   "metadata": {},
   "source": [
    "### Tratando view do arquivo CSV"
   ]
  },
  {
   "cell_type": "markdown",
   "metadata": {},
   "source": [
    "#### Dicionários"
   ]
  },
  {
   "cell_type": "code",
   "execution_count": 20,
   "metadata": {},
   "outputs": [],
   "source": [
    "'''estados = {\n",
    "    'Acre': 'AC',\n",
    "    'Alagoas': 'AL',\n",
    "    'Amapá': 'AP',\n",
    "    'Amazonas': 'AM',\n",
    "    'Bahia': 'BA',\n",
    "    'Ceará': 'CE', \n",
    "    'Distrito Federal': 'DF',\n",
    "    'Espírito Santo': 'ES',\n",
    "    'Goiás': 'GO',\n",
    "    'Maranhão': 'MA',\n",
    "    'Mato Grosso': 'MT',\n",
    "    'Mato Grosso do Sul': 'MS',\n",
    "    'Minas Gerais': 'MG',\n",
    "    'Pará': 'PA',\n",
    "    'Paraíba': 'PB',\n",
    "    'Paraná': 'PR',\n",
    "    'Pernambuco': 'PE',\n",
    "    'Piauí': 'PI', \n",
    "    'Rio de Janeiro': 'RJ',\n",
    "    'Rio Grande do Norte': 'RN',\n",
    "    'Rio Grande do Sul': 'RS',\n",
    "    'Rondônia': 'RO',\n",
    "    'Roraima': 'RR',\n",
    "    'Santa Catarina': 'SC',\n",
    "    'São Paulo': 'SP',\n",
    "    'Sergipe': 'SE',\n",
    "    'Tocantins': 'TO'\n",
    "}\n",
    "\n",
    "regioes = {\n",
    "    'AC': 'Norte',\n",
    "    'AL': 'Nordeste',\n",
    "    'AP': 'Norte',\n",
    "    'AM': 'Norte',\n",
    "    'BA': 'Nordeste',\n",
    "    'CE': 'Nordeste',\n",
    "    'DF': 'Centro-Oeste',\n",
    "    'ES': 'Sudeste',\n",
    "    'GO': 'Centro-Oeste',\n",
    "    'MA': 'Nordeste',\n",
    "    'MT': 'Centro-Oeste',\n",
    "    'MS': 'Centro-Oeste', \n",
    "    'MG': 'Sudeste',\n",
    "    'PA': 'Norte',\n",
    "    'PB': 'Nordeste',\n",
    "    'PR': 'Sul',\n",
    "    'PE': 'Nordeste',\n",
    "    'PI': 'Nordeste',\n",
    "    'RJ': 'Sudeste',\n",
    "    'RN': 'Nordeste',\n",
    "    'RS': 'Sul',\n",
    "    'RO': 'Norte',\n",
    "    'RR': 'Norte',\n",
    "    'SC': 'Sul',\n",
    "    'SP': 'Sudeste',\n",
    "    'SE': 'Nordeste',\n",
    "    'TO': 'Norte'\n",
    "}'''"
   ]
  },
  {
   "cell_type": "markdown",
   "metadata": {},
   "source": [
    "#### Adicionando colunas"
   ]
  },
  {
   "cell_type": "code",
   "execution_count": 21,
   "metadata": {},
   "outputs": [
    {
     "name": "stdout",
     "output_type": "stream",
     "text": [
      "+----------+--------------+------------------+-----+------+--------+------------------------------------+-----------------------------+-----------------------+-----------------------------+---------------------------------+--------------------+------------------------+------------------+---------------------------------+--------------------------+---------------------------+-------------------------------+----------------+-------------------------------+------------------------+---------------------+-----------------------+-----------------+-----------------------+--------------------+-------------+-----------------------+-----------+---------------------------+-------------+-----------------+---------------+-----+--------+\n",
      "|data      |uf            |situacao_domicilio|idade|sexo  |cor_raca|escolaridade                        |questao_estabelecimento_saude|questao_permaneceu_casa|questao_remedio_conta_propria|questao_remedio_orientacao_medica|questao_hospital_SUS|questao_hospital_privado|questao_internacao|questao_internacao_ajuda_respirar|questao_motivo_afastamento|questao_tempo_afastado_trab|questao_tipo_trabalho_realizado|faixa_rendimento|rendimento_aposentadoria_pensao|rendimento_bolsa_familia|rendimento_beneficios|auxlio_emergencia_covid|seguro_desemprego|tipo_domicilio         |valor_pago_domicilio|sintoma_covid|descricao_sintoma_covid|teste_covid|descricao_fator_risco_covid|tipo_teste   |fator_risco_covid|resultado_teste|sigla|regiao  |\n",
      "+----------+--------------+------------------+-----+------+--------+------------------------------------+-----------------------------+-----------------------+-----------------------------+---------------------------------+--------------------+------------------------+------------------+---------------------------------+--------------------------+---------------------------+-------------------------------+----------------+-------------------------------+------------------------+---------------------+-----------------------+-----------------+-----------------------+--------------------+-------------+-----------------------+-----------+---------------------------+-------------+-----------------+---------------+-----+--------+\n",
      "|2020-09-01|São Paulo     |Urbana            |79   |Homem |Parda   |Fundamental incompleto              |Não aplicável                |Não aplicável          |Não aplicável                |Não aplicável                    |Não aplicável       |Não aplicável           |Não aplicável     |Não aplicável                    |Não aplicável             |Não aplicável              |Não aplicável                  |NULL            |3135                           |Não                     |Não                  |Não                    |Não              |Cedido por familiar    |Não aplicável       |Não          |NULL                   |Não        |Diabetes,Hipertensao,Idoso |Não aplicável|Sim              |Não aplicável  |SP   |Sudeste |\n",
      "|2020-09-01|Bahia         |Urbana            |55   |Mulher|Branca  |Pós-graduação, mestrado ou doutorado|Não aplicável                |Não aplicável          |Não aplicável                |Não aplicável                    |Não aplicável       |Não aplicável           |Não aplicável     |Não aplicável                    |Não aplicável             |Não aplicável              |Não aplicável                  |NULL            |Não                            |Não                     |Não                  |Não                    |Não              |Próprio - ainda pagando|Não aplicável       |Não          |NULL                   |Não        |Cancer                     |Não aplicável|Sim              |Não aplicável  |BA   |Nordeste|\n",
      "|2020-09-01|São Paulo     |Urbana            |6    |Homem |Parda   |Fundamental incompleto              |Não aplicável                |Não aplicável          |Não aplicável                |Não aplicável                    |Não aplicável       |Não aplicável           |Não aplicável     |Não aplicável                    |Não aplicável             |Não aplicável              |Não aplicável                  |NULL            |Não                            |Não                     |Não                  |Não                    |Não              |Alugado                |600                 |Não          |NULL                   |Não        |NULL                       |Não aplicável|Não aplicável    |Não aplicável  |SP   |Sudeste |\n",
      "|2020-09-01|Espírito Santo|Urbana            |29   |Homem |Branca  |Fundamental completo                |Não aplicável                |Não aplicável          |Não aplicável                |Não aplicável                    |Não aplicável       |Não aplicável           |Não aplicável     |Não aplicável                    |Não aplicável             |Não aplicável              |Não aplicável                  |NULL            |1045                           |Não                     |Não                  |1200                   |Não              |Próprio - já pago      |Não aplicável       |Não          |NULL                   |Não        |NULL                       |Não aplicável|Não aplicável    |Não aplicável  |ES   |Sudeste |\n",
      "|2020-09-01|Rio de Janeiro|Urbana            |64   |Mulher|Parda   |Médio completo                      |Não aplicável                |Não aplicável          |Não aplicável                |Não aplicável                    |Não aplicável       |Não aplicável           |Não aplicável     |Não aplicável                    |Não aplicável             |Não aplicável              |Não aplicável                  |NULL            |Não                            |Não                     |1045                 |600                    |Não              |Alugado                |800                 |Não          |NULL                   |Não        |Idoso                      |Não aplicável|Sim              |Não aplicável  |RJ   |Sudeste |\n",
      "+----------+--------------+------------------+-----+------+--------+------------------------------------+-----------------------------+-----------------------+-----------------------------+---------------------------------+--------------------+------------------------+------------------+---------------------------------+--------------------------+---------------------------+-------------------------------+----------------+-------------------------------+------------------------+---------------------+-----------------------+-----------------+-----------------------+--------------------+-------------+-----------------------+-----------+---------------------------+-------------+-----------------+---------------+-----+--------+\n",
      "only showing top 5 rows\n",
      "\n"
     ]
    }
   ],
   "source": [
    "'''df = df.withColumn('sigla', df.uf).replace(to_replace=estados, subset=['sigla']) #adicionando sigla dos estados\n",
    "df = df.withColumn('regiao', df.sigla).replace(to_replace=regioes, subset=['regiao']) #adicionando regioes dos estados\n",
    "df.show(5, truncate=False)'''"
   ]
  },
  {
   "cell_type": "markdown",
   "metadata": {},
   "source": [
    "### Exportando dados tratados da view para arquivo CSV"
   ]
  },
  {
   "cell_type": "code",
   "execution_count": 22,
   "metadata": {},
   "outputs": [
    {
     "data": {
      "text/plain": [
       "\"df.coalesce(1).write.csv(\\n    path='dados/dados_exportados/dados_uteis',\\n    mode='overwrite',\\n    sep=',',\\n    header=True\\n)\""
      ]
     },
     "execution_count": 22,
     "metadata": {},
     "output_type": "execute_result"
    }
   ],
   "source": [
    "#exportando arquivo csv único\n",
    "'''df.coalesce(1).write.csv(\n",
    "    path='dados/dados_exportados/dados_uteis',\n",
    "    mode='overwrite',\n",
    "    sep=',',\n",
    "    header=True\n",
    ")'''"
   ]
  },
  {
   "cell_type": "code",
   "execution_count": 23,
   "metadata": {},
   "outputs": [
    {
     "name": "stderr",
     "output_type": "stream",
     "text": [
      "                                                                                \r"
     ]
    }
   ],
   "source": [
    "'''df.coalesce(1).write.csv(\n",
    "    path='dados/dados_exportados/dados_uteis/dados_uteis_gz', \n",
    "    compression='gzip', \n",
    "    mode='overwrite',\n",
    "    sep=',',\n",
    "    header=True\n",
    ")'''"
   ]
  },
  {
   "cell_type": "markdown",
   "metadata": {},
   "source": [
    "### Importanto dados tratados da view do arquivo CSV"
   ]
  },
  {
   "cell_type": "code",
   "execution_count": 25,
   "metadata": {},
   "outputs": [
    {
     "name": "stderr",
     "output_type": "stream",
     "text": [
      "                                                                                \r"
     ]
    },
    {
     "name": "stdout",
     "output_type": "stream",
     "text": [
      "+----------+--------------+------------------+-----+------+--------+------------------------------------+-----------------------------+-----------------------+-----------------------------+---------------------------------+--------------------+------------------------+------------------+---------------------------------+--------------------------+---------------------------+-------------------------------+----------------+-------------------------------+------------------------+---------------------+-----------------------+-----------------+-----------------------+--------------------+-------------+-----------------------+-----------+---------------------------+-------------+-----------------+---------------+-----+--------+\n",
      "|data      |uf            |situacao_domicilio|idade|sexo  |cor_raca|escolaridade                        |questao_estabelecimento_saude|questao_permaneceu_casa|questao_remedio_conta_propria|questao_remedio_orientacao_medica|questao_hospital_SUS|questao_hospital_privado|questao_internacao|questao_internacao_ajuda_respirar|questao_motivo_afastamento|questao_tempo_afastado_trab|questao_tipo_trabalho_realizado|faixa_rendimento|rendimento_aposentadoria_pensao|rendimento_bolsa_familia|rendimento_beneficios|auxlio_emergencia_covid|seguro_desemprego|tipo_domicilio         |valor_pago_domicilio|sintoma_covid|descricao_sintoma_covid|teste_covid|descricao_fator_risco_covid|tipo_teste   |fator_risco_covid|resultado_teste|sigla|regiao  |\n",
      "+----------+--------------+------------------+-----+------+--------+------------------------------------+-----------------------------+-----------------------+-----------------------------+---------------------------------+--------------------+------------------------+------------------+---------------------------------+--------------------------+---------------------------+-------------------------------+----------------+-------------------------------+------------------------+---------------------+-----------------------+-----------------+-----------------------+--------------------+-------------+-----------------------+-----------+---------------------------+-------------+-----------------+---------------+-----+--------+\n",
      "|2020-09-01|São Paulo     |Urbana            |79   |Homem |Parda   |Fundamental incompleto              |Não aplicável                |Não aplicável          |Não aplicável                |Não aplicável                    |Não aplicável       |Não aplicável           |Não aplicável     |Não aplicável                    |Não aplicável             |Não aplicável              |Não aplicável                  |NULL            |3135                           |Não                     |Não                  |Não                    |Não              |Cedido por familiar    |Não aplicável       |Não          |NULL                   |Não        |Diabetes,Hipertensao,Idoso |Não aplicável|Sim              |Não aplicável  |SP   |Sudeste |\n",
      "|2020-09-01|Bahia         |Urbana            |55   |Mulher|Branca  |Pós-graduação, mestrado ou doutorado|Não aplicável                |Não aplicável          |Não aplicável                |Não aplicável                    |Não aplicável       |Não aplicável           |Não aplicável     |Não aplicável                    |Não aplicável             |Não aplicável              |Não aplicável                  |NULL            |Não                            |Não                     |Não                  |Não                    |Não              |Próprio - ainda pagando|Não aplicável       |Não          |NULL                   |Não        |Cancer                     |Não aplicável|Sim              |Não aplicável  |BA   |Nordeste|\n",
      "|2020-09-01|São Paulo     |Urbana            |6    |Homem |Parda   |Fundamental incompleto              |Não aplicável                |Não aplicável          |Não aplicável                |Não aplicável                    |Não aplicável       |Não aplicável           |Não aplicável     |Não aplicável                    |Não aplicável             |Não aplicável              |Não aplicável                  |NULL            |Não                            |Não                     |Não                  |Não                    |Não              |Alugado                |600                 |Não          |NULL                   |Não        |NULL                       |Não aplicável|Não aplicável    |Não aplicável  |SP   |Sudeste |\n",
      "|2020-09-01|Espírito Santo|Urbana            |29   |Homem |Branca  |Fundamental completo                |Não aplicável                |Não aplicável          |Não aplicável                |Não aplicável                    |Não aplicável       |Não aplicável           |Não aplicável     |Não aplicável                    |Não aplicável             |Não aplicável              |Não aplicável                  |NULL            |1045                           |Não                     |Não                  |1200                   |Não              |Próprio - já pago      |Não aplicável       |Não          |NULL                   |Não        |NULL                       |Não aplicável|Não aplicável    |Não aplicável  |ES   |Sudeste |\n",
      "|2020-09-01|Rio de Janeiro|Urbana            |64   |Mulher|Parda   |Médio completo                      |Não aplicável                |Não aplicável          |Não aplicável                |Não aplicável                    |Não aplicável       |Não aplicável           |Não aplicável     |Não aplicável                    |Não aplicável             |Não aplicável              |Não aplicável                  |NULL            |Não                            |Não                     |1045                 |600                    |Não              |Alugado                |800                 |Não          |NULL                   |Não        |Idoso                      |Não aplicável|Sim              |Não aplicável  |RJ   |Sudeste |\n",
      "+----------+--------------+------------------+-----+------+--------+------------------------------------+-----------------------------+-----------------------+-----------------------------+---------------------------------+--------------------+------------------------+------------------+---------------------------------+--------------------------+---------------------------+-------------------------------+----------------+-------------------------------+------------------------+---------------------+-----------------------+-----------------+-----------------------+--------------------+-------------+-----------------------+-----------+---------------------------+-------------+-----------------+---------------+-----+--------+\n",
      "only showing top 5 rows\n",
      "\n"
     ]
    },
    {
     "ename": "",
     "evalue": "",
     "output_type": "error",
     "traceback": [
      "\u001b[1;31mThe Kernel crashed while executing code in the the current cell or a previous cell. Please review the code in the cell(s) to identify a possible cause of the failure. Click <a href='https://aka.ms/vscodeJupyterKernelCrash'>here</a> for more info. View Jupyter <a href='command:jupyter.viewOutput'>log</a> for further details."
     ]
    }
   ],
   "source": [
    "df = spark.read.csv('dados/dados_exportados/dados_uteis/dados_uteis_gz/2023-11-01_pnad_covid_view.csv.gz', sep=',', inferSchema=True, header=True)\n",
    "df.show(5, truncate=False)"
   ]
  },
  {
   "cell_type": "markdown",
   "metadata": {},
   "source": [
    "### Análise exploratória das caracteristicas gerais"
   ]
  },
  {
   "cell_type": "code",
   "execution_count": null,
   "metadata": {},
   "outputs": [],
   "source": [
    "df_temp = df.createOrReplaceTempView('df_temp')"
   ]
  },
  {
   "cell_type": "code",
   "execution_count": null,
   "metadata": {},
   "outputs": [],
   "source": []
  },
  {
   "cell_type": "code",
   "execution_count": null,
   "metadata": {},
   "outputs": [],
   "source": []
  }
 ],
 "metadata": {
  "kernelspec": {
   "display_name": ".env",
   "language": "python",
   "name": "python3"
  },
  "language_info": {
   "codemirror_mode": {
    "name": "ipython",
    "version": 3
   },
   "file_extension": ".py",
   "mimetype": "text/x-python",
   "name": "python",
   "nbconvert_exporter": "python",
   "pygments_lexer": "ipython3",
   "version": "3.8.10"
  },
  "orig_nbformat": 4
 },
 "nbformat": 4,
 "nbformat_minor": 2
}
